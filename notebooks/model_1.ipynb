{
 "cells": [
  {
   "cell_type": "code",
   "execution_count": 1,
   "metadata": {},
   "outputs": [],
   "source": [
    "import os\n",
    "os.chdir('..')"
   ]
  },
  {
   "cell_type": "code",
   "execution_count": 2,
   "metadata": {},
   "outputs": [],
   "source": [
    "from src.data.Dataset import Dataset as DS\n",
    "import tensorflow as tf\n",
    "import numpy as np\n",
    "import matplotlib.pyplot as plt"
   ]
  },
  {
   "cell_type": "code",
   "execution_count": 52,
   "metadata": {},
   "outputs": [],
   "source": [
    "# Dataset generator\n",
    "input_dim   = 30*4\n",
    "pred_dim    = 30*2\n",
    "shift       = pred_dim\n",
    "data        = DS(input_dim, pred_dim, shift, skip=1, hop=0.1, normalizer=1, classification=True)\n",
    "data2       = DS(input_dim, pred_dim, 2*shift, skip=1, hop=0.1, normalizer=1, classification=True)"
   ]
  },
  {
   "cell_type": "code",
   "execution_count": 53,
   "metadata": {},
   "outputs": [
    {
     "data": {
      "text/plain": [
       "(TensorSpec(shape=(None, 120, 1), dtype=tf.float64, name=None),\n",
       " TensorSpec(shape=(None, 1, 1), dtype=tf.float64, name=None))"
      ]
     },
     "execution_count": 53,
     "metadata": {},
     "output_type": "execute_result"
    }
   ],
   "source": [
    "data2.Train.element_spec"
   ]
  },
  {
   "cell_type": "code",
   "execution_count": 5,
   "metadata": {},
   "outputs": [],
   "source": [
    "# Loss functions\n",
    "# Classification loss\n",
    "Bin_cross_entropy = tf.keras.losses.BinaryCrossentropy()\n",
    "\n",
    "# Metrics\n",
    "# Classification metrics\n",
    "Bin_accuracy = tf.keras.metrics.BinaryAccuracy()"
   ]
  },
  {
   "cell_type": "code",
   "execution_count": 6,
   "metadata": {},
   "outputs": [],
   "source": [
    "INPUT_DIM = data.xshape\n",
    "OUTPUT_DIM = data.yshape"
   ]
  },
  {
   "cell_type": "code",
   "execution_count": 7,
   "metadata": {},
   "outputs": [],
   "source": [
    "classification_model = tf.keras.Sequential([\n",
    "    tf.keras.layers.Dense(64, activation='relu', input_shape=(INPUT_DIM,)),\n",
    "    tf.keras.layers.Dense(64, activation='relu'),\n",
    "    tf.keras.layers.Dense(32, activation='relu'),\n",
    "    tf.keras.layers.Dense(OUTPUT_DIM, activation='sigmoid')\n",
    "])"
   ]
  },
  {
   "cell_type": "code",
   "execution_count": 54,
   "metadata": {},
   "outputs": [],
   "source": [
    "classification_model2 = tf.keras.Sequential([\n",
    "    tf.keras.layers.Dense(64, activation='relu', input_shape=(INPUT_DIM,)),\n",
    "    tf.keras.layers.Dense(64, activation='relu'),\n",
    "    tf.keras.layers.Dense(32, activation='relu'),\n",
    "    tf.keras.layers.Dense(OUTPUT_DIM, activation='sigmoid')\n",
    "])"
   ]
  },
  {
   "cell_type": "code",
   "execution_count": 8,
   "metadata": {},
   "outputs": [
    {
     "name": "stdout",
     "output_type": "stream",
     "text": [
      "Model: \"sequential\"\n",
      "_________________________________________________________________\n",
      " Layer (type)                Output Shape              Param #   \n",
      "=================================================================\n",
      " dense (Dense)               (None, 64)                7744      \n",
      "                                                                 \n",
      " dense_1 (Dense)             (None, 64)                4160      \n",
      "                                                                 \n",
      " dense_2 (Dense)             (None, 32)                2080      \n",
      "                                                                 \n",
      " dense_3 (Dense)             (None, 1)                 33        \n",
      "                                                                 \n",
      "=================================================================\n",
      "Total params: 14,017\n",
      "Trainable params: 14,017\n",
      "Non-trainable params: 0\n",
      "_________________________________________________________________\n"
     ]
    }
   ],
   "source": [
    "classification_model.summary()"
   ]
  },
  {
   "cell_type": "code",
   "execution_count": 9,
   "metadata": {},
   "outputs": [],
   "source": [
    "MAX_EPOCHS = 20\n",
    "\n",
    "def lr_optimizer(model, window, patience=2):\n",
    "\n",
    "  lr_scheduler = tf.keras.callbacks.LearningRateScheduler(\n",
    "      lambda epoch: 1e-5 * 10**(epoch / 4))\n",
    "\n",
    "  model.compile(loss=Bin_cross_entropy,\n",
    "                optimizer=tf.optimizers.Adam(),\n",
    "                metrics=[Bin_accuracy])\n",
    "\n",
    "  history = model.fit(window.Train, epochs=MAX_EPOCHS,\n",
    "                      validation_data=window.Val,\n",
    "                      callbacks=[lr_scheduler])\n",
    "  return history"
   ]
  },
  {
   "cell_type": "code",
   "execution_count": 10,
   "metadata": {},
   "outputs": [
    {
     "name": "stdout",
     "output_type": "stream",
     "text": [
      "Epoch 1/20\n",
      "2738/2738 [==============================] - 12s 4ms/step - loss: 1.0235 - binary_accuracy: 0.7933 - val_loss: 0.6415 - val_binary_accuracy: 0.9155 - lr: 1.0000e-05\n",
      "Epoch 2/20\n",
      "2738/2738 [==============================] - 12s 4ms/step - loss: 0.4833 - binary_accuracy: 0.8596 - val_loss: 0.6721 - val_binary_accuracy: 0.9157 - lr: 1.7783e-05\n",
      "Epoch 3/20\n",
      "2738/2738 [==============================] - 12s 4ms/step - loss: 0.3110 - binary_accuracy: 0.8897 - val_loss: 0.6865 - val_binary_accuracy: 0.9157 - lr: 3.1623e-05\n",
      "Epoch 4/20\n",
      "2738/2738 [==============================] - 13s 5ms/step - loss: 0.2385 - binary_accuracy: 0.9035 - val_loss: 0.5933 - val_binary_accuracy: 0.9157 - lr: 5.6234e-05\n",
      "Epoch 5/20\n",
      "2738/2738 [==============================] - 12s 4ms/step - loss: 0.2052 - binary_accuracy: 0.9108 - val_loss: 0.5495 - val_binary_accuracy: 0.9157 - lr: 1.0000e-04\n",
      "Epoch 6/20\n",
      "2738/2738 [==============================] - 12s 4ms/step - loss: 0.1872 - binary_accuracy: 0.9156 - val_loss: 0.5440 - val_binary_accuracy: 0.9163 - lr: 1.7783e-04\n",
      "Epoch 7/20\n",
      "2738/2738 [==============================] - 12s 4ms/step - loss: 0.1779 - binary_accuracy: 0.9193 - val_loss: 0.5727 - val_binary_accuracy: 0.9163 - lr: 3.1623e-04\n",
      "Epoch 8/20\n",
      "2738/2738 [==============================] - 12s 4ms/step - loss: 0.1746 - binary_accuracy: 0.9213 - val_loss: 0.7919 - val_binary_accuracy: 0.9161 - lr: 5.6234e-04\n",
      "Epoch 9/20\n",
      "2738/2738 [==============================] - 12s 4ms/step - loss: 0.1724 - binary_accuracy: 0.9235 - val_loss: 1.2650 - val_binary_accuracy: 0.9157 - lr: 0.0010\n",
      "Epoch 10/20\n",
      "2738/2738 [==============================] - 11s 4ms/step - loss: 0.1767 - binary_accuracy: 0.9227 - val_loss: 3.1835 - val_binary_accuracy: 0.9157 - lr: 0.0018\n",
      "Epoch 11/20\n",
      "2738/2738 [==============================] - 11s 4ms/step - loss: 0.2111 - binary_accuracy: 0.9146 - val_loss: 7.5110 - val_binary_accuracy: 0.9157 - lr: 0.0032\n",
      "Epoch 12/20\n",
      "2738/2738 [==============================] - 11s 4ms/step - loss: 0.3364 - binary_accuracy: 0.8578 - val_loss: 0.3414 - val_binary_accuracy: 0.9157 - lr: 0.0056\n",
      "Epoch 13/20\n",
      "2738/2738 [==============================] - 11s 4ms/step - loss: 0.3212 - binary_accuracy: 0.8538 - val_loss: 0.3800 - val_binary_accuracy: 0.9157 - lr: 0.0100\n",
      "Epoch 14/20\n",
      "2738/2738 [==============================] - 11s 4ms/step - loss: 0.2979 - binary_accuracy: 0.8593 - val_loss: 0.4285 - val_binary_accuracy: 0.9157 - lr: 0.0178\n",
      "Epoch 15/20\n",
      "2738/2738 [==============================] - 11s 4ms/step - loss: 0.2782 - binary_accuracy: 0.8616 - val_loss: 0.4800 - val_binary_accuracy: 0.9157 - lr: 0.0316\n",
      "Epoch 16/20\n",
      "2738/2738 [==============================] - 11s 4ms/step - loss: 0.2596 - binary_accuracy: 0.8731 - val_loss: 0.5329 - val_binary_accuracy: 0.9157 - lr: 0.0562\n",
      "Epoch 17/20\n",
      "2738/2738 [==============================] - 11s 4ms/step - loss: 0.2434 - binary_accuracy: 0.8777 - val_loss: 0.5859 - val_binary_accuracy: 0.9157 - lr: 0.1000\n",
      "Epoch 18/20\n",
      "2738/2738 [==============================] - 11s 4ms/step - loss: 0.2367 - binary_accuracy: 0.8831 - val_loss: 0.6367 - val_binary_accuracy: 0.9157 - lr: 0.1778\n",
      "Epoch 19/20\n",
      "2738/2738 [==============================] - 11s 4ms/step - loss: 0.2378 - binary_accuracy: 0.8832 - val_loss: 0.6855 - val_binary_accuracy: 0.9157 - lr: 0.3162\n",
      "Epoch 20/20\n",
      "2738/2738 [==============================] - 11s 4ms/step - loss: 0.2461 - binary_accuracy: 0.8847 - val_loss: 0.7355 - val_binary_accuracy: 0.9157 - lr: 0.5623\n"
     ]
    }
   ],
   "source": [
    "history = lr_optimizer(classification_model, data)"
   ]
  },
  {
   "cell_type": "code",
   "execution_count": 12,
   "metadata": {},
   "outputs": [
    {
     "data": {
      "text/plain": [
       "(1e-05, 0.001, 0.0, 5.0)"
      ]
     },
     "execution_count": 12,
     "metadata": {},
     "output_type": "execute_result"
    },
    {
     "data": {
      "image/png": "[encoded data removed]",
      "text/plain": [
       "<Figure size 432x288 with 1 Axes>"
      ]
     },
     "metadata": {
      "needs_background": "light"
     },
     "output_type": "display_data"
    }
   ],
   "source": [
    "lrs = 1e-5 * (10 ** (np.arange(MAX_EPOCHS) / 4))\n",
    "plt.semilogx(lrs, history.history['loss'])\n",
    "plt.axis([1e-5, 1e-3, 0, 5])"
   ]
  },
  {
   "cell_type": "code",
   "execution_count": 13,
   "metadata": {},
   "outputs": [],
   "source": [
    "classification_model = tf.keras.Sequential([\n",
    "    tf.keras.layers.Dense(64, activation='relu', input_shape=(INPUT_DIM,)),\n",
    "    tf.keras.layers.Dense(64, activation='relu'),\n",
    "    tf.keras.layers.Dense(32, activation='relu'),\n",
    "    tf.keras.layers.Dense(OUTPUT_DIM, activation='sigmoid')\n",
    "])"
   ]
  },
  {
   "cell_type": "code",
   "execution_count": 14,
   "metadata": {},
   "outputs": [],
   "source": [
    "MAX_EPOCHS_TRAINING = 30\n",
    "\n",
    "def compile_and_fit(model, window, patience=5):\n",
    "  early_stopping = tf.keras.callbacks.EarlyStopping(monitor='val_loss',\n",
    "                                                    patience=patience,\n",
    "                                                    mode='min')\n",
    "\n",
    "  lr_scheduler = tf.keras.callbacks.LearningRateScheduler(\n",
    "      lambda epoch: 1e-5 * 10**(epoch / 4))\n",
    "\n",
    "  model.compile(loss=Bin_cross_entropy,\n",
    "                optimizer=tf.optimizers.Adam(learning_rate=1e-5),\n",
    "                metrics=[Bin_accuracy])\n",
    "\n",
    "  history = model.fit(window.Train, epochs=MAX_EPOCHS_TRAINING,\n",
    "                      validation_data=window.Val,\n",
    "                      callbacks=[early_stopping])\n",
    "  return history"
   ]
  },
  {
   "cell_type": "code",
   "execution_count": 55,
   "metadata": {},
   "outputs": [
    {
     "name": "stdout",
     "output_type": "stream",
     "text": [
      "Epoch 1/30\n",
      "2738/2738 [==============================] - 11s 4ms/step - loss: 0.7238 - binary_accuracy: 0.8202 - val_loss: 0.6107 - val_binary_accuracy: 0.9154\n",
      "Epoch 2/30\n",
      "2738/2738 [==============================] - 11s 4ms/step - loss: 0.5924 - binary_accuracy: 0.8497 - val_loss: 0.5443 - val_binary_accuracy: 0.9159\n",
      "Epoch 3/30\n",
      "2738/2738 [==============================] - 11s 4ms/step - loss: 0.5028 - binary_accuracy: 0.8595 - val_loss: 0.4740 - val_binary_accuracy: 0.9159\n",
      "Epoch 4/30\n",
      "2738/2738 [==============================] - 11s 4ms/step - loss: 0.4282 - binary_accuracy: 0.8628 - val_loss: 0.4105 - val_binary_accuracy: 0.9157\n",
      "Epoch 5/30\n",
      "2738/2738 [==============================] - 11s 4ms/step - loss: 0.3707 - binary_accuracy: 0.8648 - val_loss: 0.3578 - val_binary_accuracy: 0.9155\n",
      "Epoch 6/30\n",
      "2738/2738 [==============================] - 11s 4ms/step - loss: 0.3309 - binary_accuracy: 0.8675 - val_loss: 0.3195 - val_binary_accuracy: 0.9154\n",
      "Epoch 7/30\n",
      "2738/2738 [==============================] - 12s 4ms/step - loss: 0.3044 - binary_accuracy: 0.8693 - val_loss: 0.2925 - val_binary_accuracy: 0.9139\n",
      "Epoch 8/30\n",
      "2738/2738 [==============================] - 11s 4ms/step - loss: 0.2866 - binary_accuracy: 0.8700 - val_loss: 0.2732 - val_binary_accuracy: 0.9141\n",
      "Epoch 9/30\n",
      "2738/2738 [==============================] - 11s 4ms/step - loss: 0.2744 - binary_accuracy: 0.8712 - val_loss: 0.2597 - val_binary_accuracy: 0.9142\n",
      "Epoch 10/30\n",
      "2738/2738 [==============================] - 11s 4ms/step - loss: 0.2657 - binary_accuracy: 0.8721 - val_loss: 0.2501 - val_binary_accuracy: 0.9142\n",
      "Epoch 11/30\n",
      "2738/2738 [==============================] - 11s 4ms/step - loss: 0.2592 - binary_accuracy: 0.8728 - val_loss: 0.2429 - val_binary_accuracy: 0.9142\n",
      "Epoch 12/30\n",
      "2738/2738 [==============================] - 11s 4ms/step - loss: 0.2541 - binary_accuracy: 0.8733 - val_loss: 0.2375 - val_binary_accuracy: 0.9148\n",
      "Epoch 13/30\n",
      "2738/2738 [==============================] - 11s 4ms/step - loss: 0.2500 - binary_accuracy: 0.8745 - val_loss: 0.2334 - val_binary_accuracy: 0.9159\n",
      "Epoch 14/30\n",
      "2738/2738 [==============================] - 11s 4ms/step - loss: 0.2467 - binary_accuracy: 0.8751 - val_loss: 0.2300 - val_binary_accuracy: 0.9152\n",
      "Epoch 15/30\n",
      "2738/2738 [==============================] - 11s 4ms/step - loss: 0.2439 - binary_accuracy: 0.8758 - val_loss: 0.2271 - val_binary_accuracy: 0.9154\n",
      "Epoch 16/30\n",
      "2738/2738 [==============================] - 11s 4ms/step - loss: 0.2415 - binary_accuracy: 0.8773 - val_loss: 0.2248 - val_binary_accuracy: 0.9155\n",
      "Epoch 17/30\n",
      "2738/2738 [==============================] - 11s 4ms/step - loss: 0.2393 - binary_accuracy: 0.8776 - val_loss: 0.2227 - val_binary_accuracy: 0.9152\n",
      "Epoch 18/30\n",
      "2738/2738 [==============================] - 11s 4ms/step - loss: 0.2374 - binary_accuracy: 0.8781 - val_loss: 0.2209 - val_binary_accuracy: 0.9152\n",
      "Epoch 19/30\n",
      "2738/2738 [==============================] - 11s 4ms/step - loss: 0.2358 - binary_accuracy: 0.8790 - val_loss: 0.2194 - val_binary_accuracy: 0.9152\n",
      "Epoch 20/30\n",
      "2738/2738 [==============================] - 11s 4ms/step - loss: 0.2342 - binary_accuracy: 0.8799 - val_loss: 0.2180 - val_binary_accuracy: 0.9155\n",
      "Epoch 21/30\n",
      "2738/2738 [==============================] - 11s 4ms/step - loss: 0.2328 - binary_accuracy: 0.8808 - val_loss: 0.2168 - val_binary_accuracy: 0.9152\n",
      "Epoch 22/30\n",
      "2738/2738 [==============================] - 11s 4ms/step - loss: 0.2314 - binary_accuracy: 0.8812 - val_loss: 0.2158 - val_binary_accuracy: 0.9150\n",
      "Epoch 23/30\n",
      "2738/2738 [==============================] - 11s 4ms/step - loss: 0.2301 - binary_accuracy: 0.8816 - val_loss: 0.2150 - val_binary_accuracy: 0.9150\n",
      "Epoch 24/30\n",
      "2738/2738 [==============================] - 11s 4ms/step - loss: 0.2290 - binary_accuracy: 0.8819 - val_loss: 0.2145 - val_binary_accuracy: 0.9146\n",
      "Epoch 25/30\n",
      "2738/2738 [==============================] - 11s 4ms/step - loss: 0.2279 - binary_accuracy: 0.8826 - val_loss: 0.2139 - val_binary_accuracy: 0.9148\n",
      "Epoch 26/30\n",
      "2738/2738 [==============================] - 11s 4ms/step - loss: 0.2270 - binary_accuracy: 0.8836 - val_loss: 0.2132 - val_binary_accuracy: 0.9152\n",
      "Epoch 27/30\n",
      "2738/2738 [==============================] - 11s 4ms/step - loss: 0.2261 - binary_accuracy: 0.8840 - val_loss: 0.2125 - val_binary_accuracy: 0.9152\n",
      "Epoch 28/30\n",
      "2738/2738 [==============================] - 11s 4ms/step - loss: 0.2252 - binary_accuracy: 0.8844 - val_loss: 0.2119 - val_binary_accuracy: 0.9152\n",
      "Epoch 29/30\n",
      "2738/2738 [==============================] - 11s 4ms/step - loss: 0.2244 - binary_accuracy: 0.8851 - val_loss: 0.2113 - val_binary_accuracy: 0.9150\n",
      "Epoch 30/30\n",
      "2738/2738 [==============================] - 11s 4ms/step - loss: 0.2236 - binary_accuracy: 0.8857 - val_loss: 0.2108 - val_binary_accuracy: 0.9154\n"
     ]
    }
   ],
   "source": [
    "history_training2 = compile_and_fit(classification_model2, data2)"
   ]
  },
  {
   "cell_type": "code",
   "execution_count": 15,
   "metadata": {},
   "outputs": [
    {
     "name": "stdout",
     "output_type": "stream",
     "text": [
      "Epoch 1/30\n",
      "2738/2738 [==============================] - 11s 4ms/step - loss: 0.6872 - binary_accuracy: 0.8309 - val_loss: 0.6342 - val_binary_accuracy: 0.9169\n",
      "Epoch 2/30\n",
      "2738/2738 [==============================] - 12s 4ms/step - loss: 0.5113 - binary_accuracy: 0.8623 - val_loss: 0.5571 - val_binary_accuracy: 0.9167\n",
      "Epoch 3/30\n",
      "2738/2738 [==============================] - 12s 4ms/step - loss: 0.4021 - binary_accuracy: 0.8812 - val_loss: 0.4673 - val_binary_accuracy: 0.9167\n",
      "Epoch 4/30\n",
      "2738/2738 [==============================] - 12s 4ms/step - loss: 0.3291 - binary_accuracy: 0.8898 - val_loss: 0.3909 - val_binary_accuracy: 0.9170\n",
      "Epoch 5/30\n",
      "2738/2738 [==============================] - 12s 4ms/step - loss: 0.2846 - binary_accuracy: 0.8954 - val_loss: 0.3341 - val_binary_accuracy: 0.9182\n",
      "Epoch 6/30\n",
      "2738/2738 [==============================] - 12s 4ms/step - loss: 0.2572 - binary_accuracy: 0.8989 - val_loss: 0.2936 - val_binary_accuracy: 0.9200\n",
      "Epoch 7/30\n",
      "2738/2738 [==============================] - 12s 4ms/step - loss: 0.2395 - binary_accuracy: 0.9021 - val_loss: 0.2648 - val_binary_accuracy: 0.9217\n",
      "Epoch 8/30\n",
      "2738/2738 [==============================] - 12s 4ms/step - loss: 0.2273 - binary_accuracy: 0.9043 - val_loss: 0.2445 - val_binary_accuracy: 0.9245\n",
      "Epoch 9/30\n",
      "2738/2738 [==============================] - 12s 4ms/step - loss: 0.2182 - binary_accuracy: 0.9064 - val_loss: 0.2294 - val_binary_accuracy: 0.9265\n",
      "Epoch 10/30\n",
      "2738/2738 [==============================] - 12s 4ms/step - loss: 0.2112 - binary_accuracy: 0.9082 - val_loss: 0.2177 - val_binary_accuracy: 0.9277\n",
      "Epoch 11/30\n",
      "2738/2738 [==============================] - 12s 4ms/step - loss: 0.2054 - binary_accuracy: 0.9097 - val_loss: 0.2083 - val_binary_accuracy: 0.9284\n",
      "Epoch 12/30\n",
      "2738/2738 [==============================] - 12s 4ms/step - loss: 0.2005 - binary_accuracy: 0.9108 - val_loss: 0.2010 - val_binary_accuracy: 0.9290\n",
      "Epoch 13/30\n",
      "2738/2738 [==============================] - 12s 4ms/step - loss: 0.1963 - binary_accuracy: 0.9122 - val_loss: 0.1949 - val_binary_accuracy: 0.9293\n",
      "Epoch 14/30\n",
      "2738/2738 [==============================] - 12s 4ms/step - loss: 0.1928 - binary_accuracy: 0.9136 - val_loss: 0.1896 - val_binary_accuracy: 0.9297\n",
      "Epoch 15/30\n",
      "2738/2738 [==============================] - 12s 4ms/step - loss: 0.1896 - binary_accuracy: 0.9150 - val_loss: 0.1850 - val_binary_accuracy: 0.9308\n",
      "Epoch 16/30\n",
      "2738/2738 [==============================] - 12s 4ms/step - loss: 0.1867 - binary_accuracy: 0.9164 - val_loss: 0.1810 - val_binary_accuracy: 0.9321\n",
      "Epoch 17/30\n",
      "2738/2738 [==============================] - 13s 5ms/step - loss: 0.1841 - binary_accuracy: 0.9177 - val_loss: 0.1777 - val_binary_accuracy: 0.9338\n",
      "Epoch 18/30\n",
      "2738/2738 [==============================] - 12s 4ms/step - loss: 0.1817 - binary_accuracy: 0.9187 - val_loss: 0.1748 - val_binary_accuracy: 0.9348\n",
      "Epoch 19/30\n",
      "2738/2738 [==============================] - 11s 4ms/step - loss: 0.1795 - binary_accuracy: 0.9196 - val_loss: 0.1722 - val_binary_accuracy: 0.9359\n",
      "Epoch 20/30\n",
      "2738/2738 [==============================] - 12s 4ms/step - loss: 0.1774 - binary_accuracy: 0.9203 - val_loss: 0.1697 - val_binary_accuracy: 0.9370\n",
      "Epoch 21/30\n",
      "2738/2738 [==============================] - 13s 5ms/step - loss: 0.1755 - binary_accuracy: 0.9214 - val_loss: 0.1675 - val_binary_accuracy: 0.9372\n",
      "Epoch 22/30\n",
      "2738/2738 [==============================] - 11s 4ms/step - loss: 0.1737 - binary_accuracy: 0.9220 - val_loss: 0.1654 - val_binary_accuracy: 0.9374\n",
      "Epoch 23/30\n",
      "2738/2738 [==============================] - 12s 4ms/step - loss: 0.1720 - binary_accuracy: 0.9227 - val_loss: 0.1636 - val_binary_accuracy: 0.9389\n",
      "Epoch 24/30\n",
      "2738/2738 [==============================] - 11s 4ms/step - loss: 0.1704 - binary_accuracy: 0.9234 - val_loss: 0.1618 - val_binary_accuracy: 0.9392\n",
      "Epoch 25/30\n",
      "2738/2738 [==============================] - 13s 5ms/step - loss: 0.1689 - binary_accuracy: 0.9240 - val_loss: 0.1602 - val_binary_accuracy: 0.9392\n",
      "Epoch 26/30\n",
      "2738/2738 [==============================] - 11s 4ms/step - loss: 0.1675 - binary_accuracy: 0.9246 - val_loss: 0.1587 - val_binary_accuracy: 0.9400\n",
      "Epoch 27/30\n",
      "2738/2738 [==============================] - 11s 4ms/step - loss: 0.1662 - binary_accuracy: 0.9251 - val_loss: 0.1572 - val_binary_accuracy: 0.9402\n",
      "Epoch 28/30\n",
      "2738/2738 [==============================] - 11s 4ms/step - loss: 0.1649 - binary_accuracy: 0.9255 - val_loss: 0.1558 - val_binary_accuracy: 0.9403\n",
      "Epoch 29/30\n",
      "2738/2738 [==============================] - 11s 4ms/step - loss: 0.1637 - binary_accuracy: 0.9259 - val_loss: 0.1546 - val_binary_accuracy: 0.9405\n",
      "Epoch 30/30\n",
      "2738/2738 [==============================] - 12s 4ms/step - loss: 0.1626 - binary_accuracy: 0.9263 - val_loss: 0.1533 - val_binary_accuracy: 0.9403\n"
     ]
    }
   ],
   "source": [
    "history_training = compile_and_fit(classification_model, data)"
   ]
  },
  {
   "cell_type": "code",
   "execution_count": 16,
   "metadata": {},
   "outputs": [
    {
     "name": "stdout",
     "output_type": "stream",
     "text": [
      "336/336 [==============================] - 1s 3ms/step - loss: 0.1533 - binary_accuracy: 0.9403\n",
      "392/392 [==============================] - 2s 4ms/step - loss: 0.1965 - binary_accuracy: 0.9126\n"
     ]
    }
   ],
   "source": [
    "val_performance = classification_model.evaluate(data.Val)\n",
    "test_performance = classification_model.evaluate(data.Test)"
   ]
  },
  {
   "cell_type": "code",
   "execution_count": 57,
   "metadata": {},
   "outputs": [],
   "source": [
    "y_pred = classification_model2.predict(data2.Test)"
   ]
  },
  {
   "cell_type": "code",
   "execution_count": 58,
   "metadata": {},
   "outputs": [],
   "source": [
    "labels_list = []\n",
    "for _, labels in data2.Test:\n",
    "    for l in labels:\n",
    "        labels_list.append(l[0])\n",
    "labels = np.array(labels_list)"
   ]
  },
  {
   "cell_type": "code",
   "execution_count": 59,
   "metadata": {},
   "outputs": [
    {
     "data": {
      "text/plain": [
       "(6258, 1)"
      ]
     },
     "execution_count": 59,
     "metadata": {},
     "output_type": "execute_result"
    }
   ],
   "source": [
    "labels.shape"
   ]
  },
  {
   "cell_type": "code",
   "execution_count": 60,
   "metadata": {},
   "outputs": [],
   "source": [
    "pred = []\n",
    "thres = 0.5\n",
    "for p in y_pred:\n",
    "    pred.append(1 if p[0] > thres else 0)\n",
    "\n",
    "pred = np.array(pred)"
   ]
  },
  {
   "cell_type": "code",
   "execution_count": 38,
   "metadata": {},
   "outputs": [],
   "source": [
    "from sklearn.metrics import confusion_matrix, ConfusionMatrixDisplay"
   ]
  },
  {
   "cell_type": "code",
   "execution_count": 61,
   "metadata": {},
   "outputs": [
    {
     "data": {
      "image/png": "[encoded data removed]",
      "text/plain": [
       "<Figure size 432x288 with 2 Axes>"
      ]
     },
     "metadata": {
      "needs_background": "light"
     },
     "output_type": "display_data"
    }
   ],
   "source": [
    "cm = confusion_matrix(labels, pred)\n",
    "disp = ConfusionMatrixDisplay(confusion_matrix=cm, display_labels=[0, 1])\n",
    "disp = disp.plot(include_values=True, cmap='viridis')\n",
    "plt.show()"
   ]
  },
  {
   "cell_type": "code",
   "execution_count": 62,
   "metadata": {},
   "outputs": [],
   "source": [
    "TP = cm[1, 1]\n",
    "TN = cm[0, 0]\n",
    "FP = cm[0, 1]\n",
    "FN = cm[1, 0]\n",
    "accuracy = (TP + TN) / (TP + TN + FP + FN)\n",
    "precision = TP/ (TP + FP)\n",
    "recall = TP/ (TP + FN)"
   ]
  },
  {
   "cell_type": "code",
   "execution_count": 63,
   "metadata": {},
   "outputs": [
    {
     "name": "stdout",
     "output_type": "stream",
     "text": [
      "Accuracy  =  0.882230744646852\n",
      "Precision =  0.4039408866995074\n",
      "Recall    =  0.1174785100286533\n"
     ]
    }
   ],
   "source": [
    "print('Accuracy  = ', accuracy)\n",
    "print('Precision = ', precision)\n",
    "print('Recall    = ', recall)"
   ]
  },
  {
   "cell_type": "code",
   "execution_count": 17,
   "metadata": {},
   "outputs": [
    {
     "name": "stdout",
     "output_type": "stream",
     "text": [
      "Validation loss: 0.15\n",
      "Validation accuracy: 0.94\n",
      "Test loss: 0.20\n",
      "Test accuracy: 0.91\n"
     ]
    }
   ],
   "source": [
    "print('Validation loss: {:.2f}'.format(val_performance[0]))\n",
    "print('Validation accuracy: {:.2f}'.format(val_performance[1]))\n",
    "print('Test loss: {:.2f}'.format(test_performance[0]))\n",
    "print('Test accuracy: {:.2f}'.format(test_performance[1]))"
   ]
  },
  {
   "cell_type": "code",
   "execution_count": 18,
   "metadata": {},
   "outputs": [
    {
     "name": "stdout",
     "output_type": "stream",
     "text": [
      "INFO:tensorflow:Assets written to: models/classification_model\\assets\n"
     ]
    }
   ],
   "source": [
    "classification_model.save('models/classification_model')"
   ]
  },
  {
   "cell_type": "code",
   "execution_count": 56,
   "metadata": {},
   "outputs": [
    {
     "name": "stdout",
     "output_type": "stream",
     "text": [
      "INFO:tensorflow:Assets written to: models/classification_model2\\assets\n"
     ]
    }
   ],
   "source": [
    "classification_model2.save('models/classification_model2')"
   ]
  },
  {
   "cell_type": "code",
   "execution_count": null,
   "metadata": {},
   "outputs": [],
   "source": []
  }
 ],
 "metadata": {
  "interpreter": {
   "hash": "1844590946100bef83ac7cfe239ed2c4890ee2a333855b1dfdd281ca43636803"
  },
  "kernelspec": {
   "display_name": "Python 3.8.10 ('ddp': venv)",
   "language": "python",
   "name": "python3"
  },
  "language_info": {
   "codemirror_mode": {
    "name": "ipython",
    "version": 3
   },
   "file_extension": ".py",
   "mimetype": "text/x-python",
   "name": "python",
   "nbconvert_exporter": "python",
   "pygments_lexer": "ipython3",
   "version": "3.8.10"
  },
  "orig_nbformat": 4
 },
 "nbformat": 4,
 "nbformat_minor": 2
}
