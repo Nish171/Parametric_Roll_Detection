{
 "cells": [
  {
   "cell_type": "code",
   "execution_count": 1,
   "metadata": {},
   "outputs": [],
   "source": [
    "import os\n",
    "os.chdir('..')"
   ]
  },
  {
   "cell_type": "code",
   "execution_count": 2,
   "metadata": {},
   "outputs": [],
   "source": [
    "from src.data.Dataset import Dataset as DS\n",
    "import tensorflow as tf\n",
    "import numpy as np\n",
    "import matplotlib.pyplot as plt"
   ]
  },
  {
   "cell_type": "code",
   "execution_count": 3,
   "metadata": {},
   "outputs": [],
   "source": [
    "# Dataset generator\n",
    "input_dim   = 30*4\n",
    "pred_dim    = 30*2\n",
    "shift       = pred_dim\n",
    "data        = DS(input_dim, pred_dim, shift, skip=1, hop=0.1, normalizer=1)"
   ]
  },
  {
   "cell_type": "code",
   "execution_count": 4,
   "metadata": {},
   "outputs": [
    {
     "data": {
      "text/plain": [
       "(TensorSpec(shape=(None, 120, 1), dtype=tf.float64, name=None),\n",
       " TensorSpec(shape=(None, 60, 1), dtype=tf.float64, name=None))"
      ]
     },
     "execution_count": 4,
     "metadata": {},
     "output_type": "execute_result"
    }
   ],
   "source": [
    "data.Train.element_spec"
   ]
  },
  {
   "cell_type": "code",
   "execution_count": 5,
   "metadata": {},
   "outputs": [],
   "source": [
    "# Loss functions\n",
    "# Regression loss\n",
    "MSE_loss = tf.keras.losses.MeanSquaredError()\n",
    "\n",
    "# Metrics\n",
    "# Regression metrics\n",
    "MAPE = tf.keras.metrics.MeanAbsolutePercentageError()\n",
    "MAE = tf.keras.metrics.MeanAbsoluteError()"
   ]
  },
  {
   "cell_type": "code",
   "execution_count": 6,
   "metadata": {},
   "outputs": [],
   "source": [
    "INPUT_DIM = data.xshape\n",
    "OUTPUT_DIM = data.yshape"
   ]
  },
  {
   "cell_type": "code",
   "execution_count": 7,
   "metadata": {},
   "outputs": [
    {
     "name": "stdout",
     "output_type": "stream",
     "text": [
      "Input dim: 120\n",
      "Output dim: 60\n"
     ]
    }
   ],
   "source": [
    "print('Input dim:', INPUT_DIM)\n",
    "print('Output dim:', OUTPUT_DIM)"
   ]
  },
  {
   "cell_type": "code",
   "execution_count": 13,
   "metadata": {},
   "outputs": [],
   "source": [
    "oneshot_rnn_model = tf.keras.Sequential([\n",
    "    tf.keras.layers.LSTM(units=128, input_shape=[INPUT_DIM, 1]),\n",
    "    tf.keras.layers.Dense(OUTPUT_DIM)\n",
    "])"
   ]
  },
  {
   "cell_type": "code",
   "execution_count": 14,
   "metadata": {},
   "outputs": [
    {
     "name": "stdout",
     "output_type": "stream",
     "text": [
      "Model: \"sequential_3\"\n",
      "_________________________________________________________________\n",
      " Layer (type)                Output Shape              Param #   \n",
      "=================================================================\n",
      " lstm_5 (LSTM)               (None, 128)               66560     \n",
      "                                                                 \n",
      " dense_3 (Dense)             (None, 60)                7740      \n",
      "                                                                 \n",
      "=================================================================\n",
      "Total params: 74,300\n",
      "Trainable params: 74,300\n",
      "Non-trainable params: 0\n",
      "_________________________________________________________________\n"
     ]
    }
   ],
   "source": [
    "oneshot_rnn_model.summary()"
   ]
  },
  {
   "cell_type": "code",
   "execution_count": 15,
   "metadata": {},
   "outputs": [],
   "source": [
    "MAX_EPOCHS = 20\n",
    "\n",
    "def lr_optimizer(model, window, patience=2):\n",
    "\n",
    "  lr_scheduler = tf.keras.callbacks.LearningRateScheduler(\n",
    "      lambda epoch: 1e-7 * 10**(epoch / 4))\n",
    "\n",
    "  model.compile(loss=MSE_loss,\n",
    "                optimizer=tf.optimizers.Adam(),\n",
    "                metrics=[MAPE, MAE])\n",
    "\n",
    "  history = model.fit(window.Train, epochs=MAX_EPOCHS,\n",
    "                      validation_data=window.Val,\n",
    "                      callbacks=[lr_scheduler])\n",
    "  return history"
   ]
  },
  {
   "cell_type": "code",
   "execution_count": 16,
   "metadata": {},
   "outputs": [
    {
     "name": "stdout",
     "output_type": "stream",
     "text": [
      "Epoch 1/20\n",
      "2738/2738 [==============================] - 105s 38ms/step - loss: 15.2822 - mean_absolute_percentage_error: 148.3496 - mean_absolute_error: 1.9759 - val_loss: 8.8733 - val_mean_absolute_percentage_error: 126.5278 - val_mean_absolute_error: 1.5410 - lr: 1.0000e-07\n",
      "Epoch 2/20\n",
      "2170/2738 [======================>.......] - ETA: 20s - loss: 19.1159 - mean_absolute_percentage_error: 156.3536 - mean_absolute_error: 2.3853"
     ]
    }
   ],
   "source": [
    "history = lr_optimizer(oneshot_rnn_model, data)"
   ]
  },
  {
   "cell_type": "code",
   "execution_count": null,
   "metadata": {},
   "outputs": [
    {
     "data": {
      "text/plain": [
       "(1e-05, 0.001, 0.0, 20.0)"
      ]
     },
     "execution_count": 14,
     "metadata": {},
     "output_type": "execute_result"
    },
    {
     "data": {
      "image/png": "[encoded data removed]",
      "text/plain": [
       "<Figure size 432x288 with 1 Axes>"
      ]
     },
     "metadata": {
      "needs_background": "light"
     },
     "output_type": "display_data"
    }
   ],
   "source": [
    "lrs = 1e-5 * (10 ** (np.arange(MAX_EPOCHS) / 4))\n",
    "plt.semilogx(lrs, history.history['loss'])\n",
    "plt.axis([1e-5, 1e-3, 0, 20])"
   ]
  },
  {
   "cell_type": "code",
   "execution_count": null,
   "metadata": {},
   "outputs": [],
   "source": [
    "oneshot_rnn_model = tf.keras.Sequential([\n",
    "    tf.keras.layers.LSTM(units=128, input_shape=[INPUT_DIM, 1]),\n",
    "    tf.keras.layers.Dense(OUTPUT_DIM)\n",
    "])"
   ]
  },
  {
   "cell_type": "code",
   "execution_count": null,
   "metadata": {},
   "outputs": [],
   "source": [
    "MAX_EPOCHS_TRAINING = 50\n",
    "\n",
    "def compile_and_fit(model, window, patience=5):\n",
    "  early_stopping = tf.keras.callbacks.EarlyStopping(monitor='val_loss',\n",
    "                                                    patience=patience,\n",
    "                                                    mode='min')\n",
    "\n",
    "  lr_scheduler = tf.keras.callbacks.LearningRateScheduler(\n",
    "      lambda epoch: 1e-5 * 10**(epoch / 4))\n",
    "\n",
    "  model.compile(loss=MSE_loss,\n",
    "                optimizer=tf.optimizers.Adam(learning_rate=1e-6),\n",
    "                metrics=[MAPE, MAE])\n",
    "\n",
    "  history = model.fit(window.Train, epochs=MAX_EPOCHS_TRAINING,\n",
    "                      validation_data=window.Val,\n",
    "                      callbacks=[early_stopping])\n",
    "  return history"
   ]
  },
  {
   "cell_type": "code",
   "execution_count": null,
   "metadata": {},
   "outputs": [
    {
     "name": "stdout",
     "output_type": "stream",
     "text": [
      "Epoch 1/50\n",
      "2738/2738 [==============================] - 11s 4ms/step - loss: 15.5703 - mean_absolute_percentage_error: 382.5428 - mean_absolute_error: 1.9267 - val_loss: 8.4941 - val_mean_absolute_percentage_error: 183.6258 - val_mean_absolute_error: 1.4975\n",
      "Epoch 2/50\n",
      "2738/2738 [==============================] - 11s 4ms/step - loss: 13.8828 - mean_absolute_percentage_error: 504.6201 - mean_absolute_error: 1.8486 - val_loss: 7.0495 - val_mean_absolute_percentage_error: 261.8087 - val_mean_absolute_error: 1.3449\n",
      "Epoch 3/50\n",
      "2738/2738 [==============================] - 11s 4ms/step - loss: 11.6106 - mean_absolute_percentage_error: 856.0525 - mean_absolute_error: 1.6606 - val_loss: 5.5768 - val_mean_absolute_percentage_error: 348.3853 - val_mean_absolute_error: 1.1778\n",
      "Epoch 4/50\n",
      "2738/2738 [==============================] - 12s 4ms/step - loss: 9.8274 - mean_absolute_percentage_error: 876.2321 - mean_absolute_error: 1.5115 - val_loss: 4.6665 - val_mean_absolute_percentage_error: 377.0802 - val_mean_absolute_error: 1.0684\n",
      "Epoch 5/50\n",
      "2738/2738 [==============================] - 11s 4ms/step - loss: 8.7764 - mean_absolute_percentage_error: 817.1315 - mean_absolute_error: 1.4193 - val_loss: 4.2020 - val_mean_absolute_percentage_error: 384.9179 - val_mean_absolute_error: 1.0076\n",
      "Epoch 6/50\n",
      "2738/2738 [==============================] - 12s 4ms/step - loss: 8.2164 - mean_absolute_percentage_error: 781.9070 - mean_absolute_error: 1.3650 - val_loss: 3.9872 - val_mean_absolute_percentage_error: 382.9646 - val_mean_absolute_error: 0.9749\n",
      "Epoch 7/50\n",
      "2738/2738 [==============================] - 12s 4ms/step - loss: 7.9118 - mean_absolute_percentage_error: 784.8723 - mean_absolute_error: 1.3316 - val_loss: 3.8752 - val_mean_absolute_percentage_error: 371.4617 - val_mean_absolute_error: 0.9545\n",
      "Epoch 8/50\n",
      "2738/2738 [==============================] - 12s 4ms/step - loss: 7.7262 - mean_absolute_percentage_error: 833.7785 - mean_absolute_error: 1.3083 - val_loss: 3.8068 - val_mean_absolute_percentage_error: 359.0572 - val_mean_absolute_error: 0.9399\n",
      "Epoch 9/50\n",
      "2738/2738 [==============================] - 12s 4ms/step - loss: 7.5966 - mean_absolute_percentage_error: 876.3309 - mean_absolute_error: 1.2905 - val_loss: 3.7584 - val_mean_absolute_percentage_error: 352.0296 - val_mean_absolute_error: 0.9285\n",
      "Epoch 10/50\n",
      "2738/2738 [==============================] - 11s 4ms/step - loss: 7.4968 - mean_absolute_percentage_error: 905.7699 - mean_absolute_error: 1.2759 - val_loss: 3.7206 - val_mean_absolute_percentage_error: 345.9996 - val_mean_absolute_error: 0.9191\n",
      "Epoch 11/50\n",
      "2738/2738 [==============================] - 10s 4ms/step - loss: 7.4143 - mean_absolute_percentage_error: 920.8598 - mean_absolute_error: 1.2636 - val_loss: 3.6892 - val_mean_absolute_percentage_error: 340.8030 - val_mean_absolute_error: 0.9113\n",
      "Epoch 12/50\n",
      "2738/2738 [==============================] - 10s 4ms/step - loss: 7.3439 - mean_absolute_percentage_error: 928.7899 - mean_absolute_error: 1.2531 - val_loss: 3.6625 - val_mean_absolute_percentage_error: 338.7001 - val_mean_absolute_error: 0.9046\n",
      "Epoch 13/50\n",
      "2738/2738 [==============================] - 11s 4ms/step - loss: 7.2817 - mean_absolute_percentage_error: 931.1138 - mean_absolute_error: 1.2439 - val_loss: 3.6382 - val_mean_absolute_percentage_error: 337.3248 - val_mean_absolute_error: 0.8989\n",
      "Epoch 14/50\n",
      "2738/2738 [==============================] - 11s 4ms/step - loss: 7.2257 - mean_absolute_percentage_error: 933.6083 - mean_absolute_error: 1.2357 - val_loss: 3.6167 - val_mean_absolute_percentage_error: 336.3012 - val_mean_absolute_error: 0.8939\n",
      "Epoch 15/50\n",
      "2738/2738 [==============================] - 10s 4ms/step - loss: 7.1750 - mean_absolute_percentage_error: 934.1741 - mean_absolute_error: 1.2285 - val_loss: 3.5973 - val_mean_absolute_percentage_error: 335.3484 - val_mean_absolute_error: 0.8895\n",
      "Epoch 16/50\n",
      "2738/2738 [==============================] - 10s 4ms/step - loss: 7.1286 - mean_absolute_percentage_error: 939.2611 - mean_absolute_error: 1.2220 - val_loss: 3.5796 - val_mean_absolute_percentage_error: 334.4833 - val_mean_absolute_error: 0.8856\n",
      "Epoch 17/50\n",
      "2738/2738 [==============================] - 10s 4ms/step - loss: 7.0857 - mean_absolute_percentage_error: 942.3168 - mean_absolute_error: 1.2160 - val_loss: 3.5638 - val_mean_absolute_percentage_error: 334.7920 - val_mean_absolute_error: 0.8822\n",
      "Epoch 18/50\n",
      "2738/2738 [==============================] - 10s 4ms/step - loss: 7.0453 - mean_absolute_percentage_error: 942.9697 - mean_absolute_error: 1.2106 - val_loss: 3.5490 - val_mean_absolute_percentage_error: 335.2927 - val_mean_absolute_error: 0.8792\n",
      "Epoch 19/50\n",
      "2738/2738 [==============================] - 10s 4ms/step - loss: 7.0069 - mean_absolute_percentage_error: 944.1489 - mean_absolute_error: 1.2056 - val_loss: 3.5355 - val_mean_absolute_percentage_error: 335.9886 - val_mean_absolute_error: 0.8764\n",
      "Epoch 20/50\n",
      "2738/2738 [==============================] - 11s 4ms/step - loss: 6.9708 - mean_absolute_percentage_error: 942.8202 - mean_absolute_error: 1.2009 - val_loss: 3.5227 - val_mean_absolute_percentage_error: 336.4982 - val_mean_absolute_error: 0.8738\n",
      "Epoch 21/50\n",
      "2738/2738 [==============================] - 10s 4ms/step - loss: 6.9370 - mean_absolute_percentage_error: 943.4623 - mean_absolute_error: 1.1966 - val_loss: 3.5107 - val_mean_absolute_percentage_error: 336.7701 - val_mean_absolute_error: 0.8714\n",
      "Epoch 22/50\n",
      "2738/2738 [==============================] - 11s 4ms/step - loss: 6.9049 - mean_absolute_percentage_error: 945.5380 - mean_absolute_error: 1.1926 - val_loss: 3.4990 - val_mean_absolute_percentage_error: 336.4789 - val_mean_absolute_error: 0.8691\n",
      "Epoch 23/50\n",
      "2738/2738 [==============================] - 11s 4ms/step - loss: 6.8743 - mean_absolute_percentage_error: 952.3674 - mean_absolute_error: 1.1888 - val_loss: 3.4885 - val_mean_absolute_percentage_error: 336.2276 - val_mean_absolute_error: 0.8670\n",
      "Epoch 24/50\n",
      "2738/2738 [==============================] - 13s 5ms/step - loss: 6.8448 - mean_absolute_percentage_error: 955.0338 - mean_absolute_error: 1.1852 - val_loss: 3.4787 - val_mean_absolute_percentage_error: 335.6878 - val_mean_absolute_error: 0.8651\n",
      "Epoch 25/50\n",
      "2738/2738 [==============================] - 12s 5ms/step - loss: 6.8164 - mean_absolute_percentage_error: 958.3854 - mean_absolute_error: 1.1818 - val_loss: 3.4696 - val_mean_absolute_percentage_error: 334.9614 - val_mean_absolute_error: 0.8634\n",
      "Epoch 26/50\n",
      "2738/2738 [==============================] - 12s 4ms/step - loss: 6.7893 - mean_absolute_percentage_error: 961.7426 - mean_absolute_error: 1.1785 - val_loss: 3.4598 - val_mean_absolute_percentage_error: 334.2373 - val_mean_absolute_error: 0.8616\n",
      "Epoch 27/50\n",
      "2738/2738 [==============================] - 11s 4ms/step - loss: 6.7637 - mean_absolute_percentage_error: 967.7213 - mean_absolute_error: 1.1755 - val_loss: 3.4509 - val_mean_absolute_percentage_error: 333.3831 - val_mean_absolute_error: 0.8600\n",
      "Epoch 28/50\n",
      "2738/2738 [==============================] - 11s 4ms/step - loss: 6.7392 - mean_absolute_percentage_error: 971.4370 - mean_absolute_error: 1.1726 - val_loss: 3.4429 - val_mean_absolute_percentage_error: 332.5010 - val_mean_absolute_error: 0.8585\n",
      "Epoch 29/50\n",
      "2738/2738 [==============================] - 11s 4ms/step - loss: 6.7160 - mean_absolute_percentage_error: 973.4545 - mean_absolute_error: 1.1700 - val_loss: 3.4350 - val_mean_absolute_percentage_error: 331.7500 - val_mean_absolute_error: 0.8571\n",
      "Epoch 30/50\n",
      "2738/2738 [==============================] - 12s 4ms/step - loss: 6.6937 - mean_absolute_percentage_error: 977.7745 - mean_absolute_error: 1.1674 - val_loss: 3.4267 - val_mean_absolute_percentage_error: 330.7212 - val_mean_absolute_error: 0.8557\n",
      "Epoch 31/50\n",
      "2738/2738 [==============================] - 12s 4ms/step - loss: 6.6720 - mean_absolute_percentage_error: 982.2755 - mean_absolute_error: 1.1649 - val_loss: 3.4181 - val_mean_absolute_percentage_error: 329.7248 - val_mean_absolute_error: 0.8542\n",
      "Epoch 32/50\n",
      "2738/2738 [==============================] - 12s 4ms/step - loss: 6.6516 - mean_absolute_percentage_error: 987.5129 - mean_absolute_error: 1.1625 - val_loss: 3.4110 - val_mean_absolute_percentage_error: 328.4948 - val_mean_absolute_error: 0.8529\n",
      "Epoch 33/50\n",
      "2738/2738 [==============================] - 11s 4ms/step - loss: 6.6317 - mean_absolute_percentage_error: 991.1527 - mean_absolute_error: 1.1603 - val_loss: 3.4042 - val_mean_absolute_percentage_error: 327.1305 - val_mean_absolute_error: 0.8517\n",
      "Epoch 34/50\n",
      "2738/2738 [==============================] - 11s 4ms/step - loss: 6.6123 - mean_absolute_percentage_error: 996.5656 - mean_absolute_error: 1.1581 - val_loss: 3.3974 - val_mean_absolute_percentage_error: 325.7579 - val_mean_absolute_error: 0.8505\n",
      "Epoch 35/50\n",
      "2738/2738 [==============================] - 11s 4ms/step - loss: 6.5934 - mean_absolute_percentage_error: 1002.8495 - mean_absolute_error: 1.1560 - val_loss: 3.3899 - val_mean_absolute_percentage_error: 324.2188 - val_mean_absolute_error: 0.8493\n",
      "Epoch 36/50\n",
      "2738/2738 [==============================] - 11s 4ms/step - loss: 6.5751 - mean_absolute_percentage_error: 1007.9234 - mean_absolute_error: 1.1539 - val_loss: 3.3828 - val_mean_absolute_percentage_error: 322.8643 - val_mean_absolute_error: 0.8480\n",
      "Epoch 37/50\n",
      "2738/2738 [==============================] - 11s 4ms/step - loss: 6.5571 - mean_absolute_percentage_error: 1012.1414 - mean_absolute_error: 1.1519 - val_loss: 3.3755 - val_mean_absolute_percentage_error: 321.5830 - val_mean_absolute_error: 0.8468\n",
      "Epoch 38/50\n",
      "2738/2738 [==============================] - 11s 4ms/step - loss: 6.5400 - mean_absolute_percentage_error: 1016.3221 - mean_absolute_error: 1.1500 - val_loss: 3.3695 - val_mean_absolute_percentage_error: 320.2076 - val_mean_absolute_error: 0.8457\n",
      "Epoch 39/50\n",
      "1441/2738 [==============>...............] - ETA: 4s - loss: 12.2630 - mean_absolute_percentage_error: 1810.1652 - mean_absolute_error: 2.0387"
     ]
    }
   ],
   "source": [
    "history_training = compile_and_fit(oneshot_rnn_model, data)"
   ]
  },
  {
   "cell_type": "code",
   "execution_count": null,
   "metadata": {},
   "outputs": [],
   "source": [
    "val_performance = oneshot_rnn_model.evaluate(data.Val)\n",
    "test_performance = oneshot_rnn_model.evaluate(data.Test)"
   ]
  },
  {
   "cell_type": "code",
   "execution_count": null,
   "metadata": {},
   "outputs": [],
   "source": [
    "print('Validation MSE_loss: {:.2f}'.format(val_performance[0]))\n",
    "print('Validation MAPE:     {:.2f}'.format(val_performance[1]))\n",
    "print('Validation MAE:      {:.2f}'.format(val_performance[2]))\n",
    "print('Test MSE_loss:       {:.2f}'.format(test_performance[0]))\n",
    "print('Test MAPE:           {:.2f}'.format(test_performance[1]))\n",
    "print('Test MAE:            {:.2f}'.format(test_performance[2]))"
   ]
  },
  {
   "cell_type": "code",
   "execution_count": null,
   "metadata": {},
   "outputs": [],
   "source": []
  }
 ],
 "metadata": {
  "interpreter": {
   "hash": "1844590946100bef83ac7cfe239ed2c4890ee2a333855b1dfdd281ca43636803"
  },
  "kernelspec": {
   "display_name": "Python 3.8.10 ('ddp': venv)",
   "language": "python",
   "name": "python3"
  },
  "language_info": {
   "codemirror_mode": {
    "name": "ipython",
    "version": 3
   },
   "file_extension": ".py",
   "mimetype": "text/x-python",
   "name": "python",
   "nbconvert_exporter": "python",
   "pygments_lexer": "ipython3",
   "version": "3.8.10"
  },
  "orig_nbformat": 4
 },
 "nbformat": 4,
 "nbformat_minor": 2
}
