{
 "cells": [
  {
   "cell_type": "code",
   "execution_count": 5,
   "metadata": {},
   "outputs": [],
   "source": [
    "import os\n",
    "os.chdir('..')"
   ]
  },
  {
   "cell_type": "code",
   "execution_count": 6,
   "metadata": {},
   "outputs": [
    {
     "data": {
      "text/plain": [
       "'c:\\\\Users\\\\nimee\\\\OneDrive\\\\Documents\\\\DDP\\\\Parametric_Roll_Detection'"
      ]
     },
     "execution_count": 6,
     "metadata": {},
     "output_type": "execute_result"
    }
   ],
   "source": [
    "pwd"
   ]
  },
  {
   "cell_type": "code",
   "execution_count": 7,
   "metadata": {},
   "outputs": [],
   "source": [
    "%load_ext autoreload\n",
    "%autoreload 2"
   ]
  },
  {
   "cell_type": "code",
   "execution_count": 9,
   "metadata": {},
   "outputs": [],
   "source": [
    "from src.data.Dataset import Dataset as DS\n",
    "import tensorflow as tf\n",
    "import numpy as np\n",
    "import matplotlib.pyplot as plt\n",
    "from src.models.Model_OneShotDNN import OneShotDNN"
   ]
  },
  {
   "cell_type": "code",
   "execution_count": 10,
   "metadata": {},
   "outputs": [],
   "source": [
    "# Dataset generator\n",
    "input_dim   = 30*4\n",
    "pred_dim    = 30*2\n",
    "shift       = pred_dim\n",
    "data        = DS(input_dim, pred_dim, shift, skip=1, hop=0.1, normalizer=1, batch_size=16)"
   ]
  },
  {
   "cell_type": "code",
   "execution_count": 11,
   "metadata": {},
   "outputs": [
    {
     "data": {
      "text/plain": [
       "(TensorSpec(shape=(None, 120, 1), dtype=tf.float64, name=None),\n",
       " TensorSpec(shape=(None, 60, 1), dtype=tf.float64, name=None))"
      ]
     },
     "execution_count": 11,
     "metadata": {},
     "output_type": "execute_result"
    }
   ],
   "source": [
    "data.Train.element_spec"
   ]
  },
  {
   "cell_type": "code",
   "execution_count": 31,
   "metadata": {},
   "outputs": [],
   "source": [
    "sam_x, sam_y = next(iter(data.Train))"
   ]
  },
  {
   "cell_type": "code",
   "execution_count": 39,
   "metadata": {},
   "outputs": [
    {
     "data": {
      "text/plain": [
       "TensorShape([16, 120])"
      ]
     },
     "execution_count": 39,
     "metadata": {},
     "output_type": "execute_result"
    }
   ],
   "source": [
    "sam_x[:,:,0].shape"
   ]
  },
  {
   "cell_type": "code",
   "execution_count": 44,
   "metadata": {},
   "outputs": [],
   "source": [
    "sam_model = MyModel(120, 60)"
   ]
  },
  {
   "cell_type": "code",
   "execution_count": 51,
   "metadata": {},
   "outputs": [],
   "source": [
    "sam_pred = sam_model(sam_x)"
   ]
  },
  {
   "cell_type": "code",
   "execution_count": 52,
   "metadata": {},
   "outputs": [
    {
     "data": {
      "text/plain": [
       "TensorShape([16, 60])"
      ]
     },
     "execution_count": 52,
     "metadata": {},
     "output_type": "execute_result"
    }
   ],
   "source": [
    "sam_pred.shape"
   ]
  },
  {
   "cell_type": "code",
   "execution_count": 53,
   "metadata": {},
   "outputs": [
    {
     "name": "stdout",
     "output_type": "stream",
     "text": [
      "Model: \"my_model_4\"\n",
      "_________________________________________________________________\n",
      " Layer (type)                Output Shape              Param #   \n",
      "=================================================================\n",
      " dense_30 (Dense)            (None, 128)               15488     \n",
      "                                                                 \n",
      " dense_31 (Dense)            (None, 128)               16512     \n",
      "                                                                 \n",
      " dense_32 (Dense)            (None, 64)                8256      \n",
      "                                                                 \n",
      " dense_33 (Dense)            (None, 64)                4160      \n",
      "                                                                 \n",
      " dense_34 (Dense)            (None, 60)                3900      \n",
      "                                                                 \n",
      " sequential_5 (Sequential)   (None, 60)                48316     \n",
      "                                                                 \n",
      "=================================================================\n",
      "Total params: 48,316\n",
      "Trainable params: 48,316\n",
      "Non-trainable params: 0\n",
      "_________________________________________________________________\n"
     ]
    }
   ],
   "source": [
    "sam_model.summary()"
   ]
  },
  {
   "cell_type": "code",
   "execution_count": 6,
   "metadata": {},
   "outputs": [],
   "source": [
    "# Loss functions\n",
    "# Regression loss\n",
    "MSE_loss = tf.keras.losses.MeanSquaredError()\n",
    "\n",
    "# Metrics\n",
    "# Regression metrics\n",
    "MAPE = tf.keras.metrics.MeanAbsolutePercentageError()\n",
    "MAE = tf.keras.metrics.MeanAbsoluteError()"
   ]
  },
  {
   "cell_type": "code",
   "execution_count": 26,
   "metadata": {},
   "outputs": [],
   "source": [
    "INPUT_DIM = data.xshape\n",
    "OUTPUT_DIM = data.yshape"
   ]
  },
  {
   "cell_type": "code",
   "execution_count": 27,
   "metadata": {},
   "outputs": [
    {
     "name": "stdout",
     "output_type": "stream",
     "text": [
      "Input dim: 120\n",
      "Output dim: 60\n"
     ]
    }
   ],
   "source": [
    "print('Input dim:', INPUT_DIM)\n",
    "print('Output dim:', OUTPUT_DIM)"
   ]
  },
  {
   "cell_type": "code",
   "execution_count": 48,
   "metadata": {},
   "outputs": [],
   "source": [
    "oneshot_dnn_model = MyModel(INPUT_DIM, OUTPUT_DIM)"
   ]
  },
  {
   "cell_type": "code",
   "execution_count": 49,
   "metadata": {},
   "outputs": [],
   "source": [
    "oneshot_dnn_model.compile(optimizer='adam', loss=MSE_loss, metrics=[MAPE, MAE])"
   ]
  },
  {
   "cell_type": "code",
   "execution_count": 50,
   "metadata": {},
   "outputs": [
    {
     "name": "stdout",
     "output_type": "stream",
     "text": [
      "Epoch 1/10\n",
      "2738/2738 [==============================] - 10s 4ms/step - loss: 7.7305 - mean_absolute_percentage_error: 580.0671 - mean_absolute_error: 1.1968 - val_loss: 3.1606 - val_mean_absolute_percentage_error: 371.0836 - val_mean_absolute_error: 0.8386\n",
      "Epoch 2/10\n",
      "1164/2738 [===========>..................] - ETA: 5s - loss: 16.3025 - mean_absolute_percentage_error: 1579.7006 - mean_absolute_error: 2.5835"
     ]
    },
    {
     "ename": "KeyboardInterrupt",
     "evalue": "",
     "output_type": "error",
     "traceback": [
      "\u001b[1;31m---------------------------------------------------------------------------\u001b[0m",
      "\u001b[1;31mKeyboardInterrupt\u001b[0m                         Traceback (most recent call last)",
      "\u001b[1;32mc:\\Users\\nimee\\OneDrive\\Documents\\DDP\\Parametric_Roll_Detection\\notebooks\\model_2.ipynb Cell 17'\u001b[0m in \u001b[0;36m<module>\u001b[1;34m\u001b[0m\n\u001b[1;32m----> <a href='vscode-notebook-cell:/c%3A/Users/nimee/OneDrive/Documents/DDP/Parametric_Roll_Detection/notebooks/model_2.ipynb#ch0000019?line=0'>1</a>\u001b[0m oneshot_dnn_model\u001b[39m.\u001b[39;49mfit(data\u001b[39m.\u001b[39;49mTrain, epochs\u001b[39m=\u001b[39;49m\u001b[39m10\u001b[39;49m, validation_data\u001b[39m=\u001b[39;49mdata\u001b[39m.\u001b[39;49mVal)\n",
      "File \u001b[1;32mc:\\Users\\nimee\\OneDrive\\Documents\\DDP\\ddp\\lib\\site-packages\\keras\\utils\\traceback_utils.py:64\u001b[0m, in \u001b[0;36mfilter_traceback.<locals>.error_handler\u001b[1;34m(*args, **kwargs)\u001b[0m\n\u001b[0;32m     <a href='file:///c%3A/Users/nimee/OneDrive/Documents/DDP/ddp/lib/site-packages/keras/utils/traceback_utils.py?line=61'>62</a>\u001b[0m filtered_tb \u001b[39m=\u001b[39m \u001b[39mNone\u001b[39;00m\n\u001b[0;32m     <a href='file:///c%3A/Users/nimee/OneDrive/Documents/DDP/ddp/lib/site-packages/keras/utils/traceback_utils.py?line=62'>63</a>\u001b[0m \u001b[39mtry\u001b[39;00m:\n\u001b[1;32m---> <a href='file:///c%3A/Users/nimee/OneDrive/Documents/DDP/ddp/lib/site-packages/keras/utils/traceback_utils.py?line=63'>64</a>\u001b[0m   \u001b[39mreturn\u001b[39;00m fn(\u001b[39m*\u001b[39;49margs, \u001b[39m*\u001b[39;49m\u001b[39m*\u001b[39;49mkwargs)\n\u001b[0;32m     <a href='file:///c%3A/Users/nimee/OneDrive/Documents/DDP/ddp/lib/site-packages/keras/utils/traceback_utils.py?line=64'>65</a>\u001b[0m \u001b[39mexcept\u001b[39;00m \u001b[39mException\u001b[39;00m \u001b[39mas\u001b[39;00m e:  \u001b[39m# pylint: disable=broad-except\u001b[39;00m\n\u001b[0;32m     <a href='file:///c%3A/Users/nimee/OneDrive/Documents/DDP/ddp/lib/site-packages/keras/utils/traceback_utils.py?line=65'>66</a>\u001b[0m   filtered_tb \u001b[39m=\u001b[39m _process_traceback_frames(e\u001b[39m.\u001b[39m__traceback__)\n",
      "File \u001b[1;32mc:\\Users\\nimee\\OneDrive\\Documents\\DDP\\ddp\\lib\\site-packages\\keras\\engine\\training.py:1384\u001b[0m, in \u001b[0;36mModel.fit\u001b[1;34m(self, x, y, batch_size, epochs, verbose, callbacks, validation_split, validation_data, shuffle, class_weight, sample_weight, initial_epoch, steps_per_epoch, validation_steps, validation_batch_size, validation_freq, max_queue_size, workers, use_multiprocessing)\u001b[0m\n\u001b[0;32m   <a href='file:///c%3A/Users/nimee/OneDrive/Documents/DDP/ddp/lib/site-packages/keras/engine/training.py?line=1376'>1377</a>\u001b[0m \u001b[39mwith\u001b[39;00m tf\u001b[39m.\u001b[39mprofiler\u001b[39m.\u001b[39mexperimental\u001b[39m.\u001b[39mTrace(\n\u001b[0;32m   <a href='file:///c%3A/Users/nimee/OneDrive/Documents/DDP/ddp/lib/site-packages/keras/engine/training.py?line=1377'>1378</a>\u001b[0m     \u001b[39m'\u001b[39m\u001b[39mtrain\u001b[39m\u001b[39m'\u001b[39m,\n\u001b[0;32m   <a href='file:///c%3A/Users/nimee/OneDrive/Documents/DDP/ddp/lib/site-packages/keras/engine/training.py?line=1378'>1379</a>\u001b[0m     epoch_num\u001b[39m=\u001b[39mepoch,\n\u001b[0;32m   <a href='file:///c%3A/Users/nimee/OneDrive/Documents/DDP/ddp/lib/site-packages/keras/engine/training.py?line=1379'>1380</a>\u001b[0m     step_num\u001b[39m=\u001b[39mstep,\n\u001b[0;32m   <a href='file:///c%3A/Users/nimee/OneDrive/Documents/DDP/ddp/lib/site-packages/keras/engine/training.py?line=1380'>1381</a>\u001b[0m     batch_size\u001b[39m=\u001b[39mbatch_size,\n\u001b[0;32m   <a href='file:///c%3A/Users/nimee/OneDrive/Documents/DDP/ddp/lib/site-packages/keras/engine/training.py?line=1381'>1382</a>\u001b[0m     _r\u001b[39m=\u001b[39m\u001b[39m1\u001b[39m):\n\u001b[0;32m   <a href='file:///c%3A/Users/nimee/OneDrive/Documents/DDP/ddp/lib/site-packages/keras/engine/training.py?line=1382'>1383</a>\u001b[0m   callbacks\u001b[39m.\u001b[39mon_train_batch_begin(step)\n\u001b[1;32m-> <a href='file:///c%3A/Users/nimee/OneDrive/Documents/DDP/ddp/lib/site-packages/keras/engine/training.py?line=1383'>1384</a>\u001b[0m   tmp_logs \u001b[39m=\u001b[39m \u001b[39mself\u001b[39;49m\u001b[39m.\u001b[39;49mtrain_function(iterator)\n\u001b[0;32m   <a href='file:///c%3A/Users/nimee/OneDrive/Documents/DDP/ddp/lib/site-packages/keras/engine/training.py?line=1384'>1385</a>\u001b[0m   \u001b[39mif\u001b[39;00m data_handler\u001b[39m.\u001b[39mshould_sync:\n\u001b[0;32m   <a href='file:///c%3A/Users/nimee/OneDrive/Documents/DDP/ddp/lib/site-packages/keras/engine/training.py?line=1385'>1386</a>\u001b[0m     context\u001b[39m.\u001b[39masync_wait()\n",
      "File \u001b[1;32mc:\\Users\\nimee\\OneDrive\\Documents\\DDP\\ddp\\lib\\site-packages\\tensorflow\\python\\util\\traceback_utils.py:150\u001b[0m, in \u001b[0;36mfilter_traceback.<locals>.error_handler\u001b[1;34m(*args, **kwargs)\u001b[0m\n\u001b[0;32m    <a href='file:///c%3A/Users/nimee/OneDrive/Documents/DDP/ddp/lib/site-packages/tensorflow/python/util/traceback_utils.py?line=147'>148</a>\u001b[0m filtered_tb \u001b[39m=\u001b[39m \u001b[39mNone\u001b[39;00m\n\u001b[0;32m    <a href='file:///c%3A/Users/nimee/OneDrive/Documents/DDP/ddp/lib/site-packages/tensorflow/python/util/traceback_utils.py?line=148'>149</a>\u001b[0m \u001b[39mtry\u001b[39;00m:\n\u001b[1;32m--> <a href='file:///c%3A/Users/nimee/OneDrive/Documents/DDP/ddp/lib/site-packages/tensorflow/python/util/traceback_utils.py?line=149'>150</a>\u001b[0m   \u001b[39mreturn\u001b[39;00m fn(\u001b[39m*\u001b[39;49margs, \u001b[39m*\u001b[39;49m\u001b[39m*\u001b[39;49mkwargs)\n\u001b[0;32m    <a href='file:///c%3A/Users/nimee/OneDrive/Documents/DDP/ddp/lib/site-packages/tensorflow/python/util/traceback_utils.py?line=150'>151</a>\u001b[0m \u001b[39mexcept\u001b[39;00m \u001b[39mException\u001b[39;00m \u001b[39mas\u001b[39;00m e:\n\u001b[0;32m    <a href='file:///c%3A/Users/nimee/OneDrive/Documents/DDP/ddp/lib/site-packages/tensorflow/python/util/traceback_utils.py?line=151'>152</a>\u001b[0m   filtered_tb \u001b[39m=\u001b[39m _process_traceback_frames(e\u001b[39m.\u001b[39m__traceback__)\n",
      "File \u001b[1;32mc:\\Users\\nimee\\OneDrive\\Documents\\DDP\\ddp\\lib\\site-packages\\tensorflow\\python\\eager\\def_function.py:915\u001b[0m, in \u001b[0;36mFunction.__call__\u001b[1;34m(self, *args, **kwds)\u001b[0m\n\u001b[0;32m    <a href='file:///c%3A/Users/nimee/OneDrive/Documents/DDP/ddp/lib/site-packages/tensorflow/python/eager/def_function.py?line=911'>912</a>\u001b[0m compiler \u001b[39m=\u001b[39m \u001b[39m\"\u001b[39m\u001b[39mxla\u001b[39m\u001b[39m\"\u001b[39m \u001b[39mif\u001b[39;00m \u001b[39mself\u001b[39m\u001b[39m.\u001b[39m_jit_compile \u001b[39melse\u001b[39;00m \u001b[39m\"\u001b[39m\u001b[39mnonXla\u001b[39m\u001b[39m\"\u001b[39m\n\u001b[0;32m    <a href='file:///c%3A/Users/nimee/OneDrive/Documents/DDP/ddp/lib/site-packages/tensorflow/python/eager/def_function.py?line=913'>914</a>\u001b[0m \u001b[39mwith\u001b[39;00m OptionalXlaContext(\u001b[39mself\u001b[39m\u001b[39m.\u001b[39m_jit_compile):\n\u001b[1;32m--> <a href='file:///c%3A/Users/nimee/OneDrive/Documents/DDP/ddp/lib/site-packages/tensorflow/python/eager/def_function.py?line=914'>915</a>\u001b[0m   result \u001b[39m=\u001b[39m \u001b[39mself\u001b[39;49m\u001b[39m.\u001b[39;49m_call(\u001b[39m*\u001b[39;49margs, \u001b[39m*\u001b[39;49m\u001b[39m*\u001b[39;49mkwds)\n\u001b[0;32m    <a href='file:///c%3A/Users/nimee/OneDrive/Documents/DDP/ddp/lib/site-packages/tensorflow/python/eager/def_function.py?line=916'>917</a>\u001b[0m new_tracing_count \u001b[39m=\u001b[39m \u001b[39mself\u001b[39m\u001b[39m.\u001b[39mexperimental_get_tracing_count()\n\u001b[0;32m    <a href='file:///c%3A/Users/nimee/OneDrive/Documents/DDP/ddp/lib/site-packages/tensorflow/python/eager/def_function.py?line=917'>918</a>\u001b[0m without_tracing \u001b[39m=\u001b[39m (tracing_count \u001b[39m==\u001b[39m new_tracing_count)\n",
      "File \u001b[1;32mc:\\Users\\nimee\\OneDrive\\Documents\\DDP\\ddp\\lib\\site-packages\\tensorflow\\python\\eager\\def_function.py:947\u001b[0m, in \u001b[0;36mFunction._call\u001b[1;34m(self, *args, **kwds)\u001b[0m\n\u001b[0;32m    <a href='file:///c%3A/Users/nimee/OneDrive/Documents/DDP/ddp/lib/site-packages/tensorflow/python/eager/def_function.py?line=943'>944</a>\u001b[0m   \u001b[39mself\u001b[39m\u001b[39m.\u001b[39m_lock\u001b[39m.\u001b[39mrelease()\n\u001b[0;32m    <a href='file:///c%3A/Users/nimee/OneDrive/Documents/DDP/ddp/lib/site-packages/tensorflow/python/eager/def_function.py?line=944'>945</a>\u001b[0m   \u001b[39m# In this case we have created variables on the first call, so we run the\u001b[39;00m\n\u001b[0;32m    <a href='file:///c%3A/Users/nimee/OneDrive/Documents/DDP/ddp/lib/site-packages/tensorflow/python/eager/def_function.py?line=945'>946</a>\u001b[0m   \u001b[39m# defunned version which is guaranteed to never create variables.\u001b[39;00m\n\u001b[1;32m--> <a href='file:///c%3A/Users/nimee/OneDrive/Documents/DDP/ddp/lib/site-packages/tensorflow/python/eager/def_function.py?line=946'>947</a>\u001b[0m   \u001b[39mreturn\u001b[39;00m \u001b[39mself\u001b[39;49m\u001b[39m.\u001b[39;49m_stateless_fn(\u001b[39m*\u001b[39;49margs, \u001b[39m*\u001b[39;49m\u001b[39m*\u001b[39;49mkwds)  \u001b[39m# pylint: disable=not-callable\u001b[39;00m\n\u001b[0;32m    <a href='file:///c%3A/Users/nimee/OneDrive/Documents/DDP/ddp/lib/site-packages/tensorflow/python/eager/def_function.py?line=947'>948</a>\u001b[0m \u001b[39melif\u001b[39;00m \u001b[39mself\u001b[39m\u001b[39m.\u001b[39m_stateful_fn \u001b[39mis\u001b[39;00m \u001b[39mnot\u001b[39;00m \u001b[39mNone\u001b[39;00m:\n\u001b[0;32m    <a href='file:///c%3A/Users/nimee/OneDrive/Documents/DDP/ddp/lib/site-packages/tensorflow/python/eager/def_function.py?line=948'>949</a>\u001b[0m   \u001b[39m# Release the lock early so that multiple threads can perform the call\u001b[39;00m\n\u001b[0;32m    <a href='file:///c%3A/Users/nimee/OneDrive/Documents/DDP/ddp/lib/site-packages/tensorflow/python/eager/def_function.py?line=949'>950</a>\u001b[0m   \u001b[39m# in parallel.\u001b[39;00m\n\u001b[0;32m    <a href='file:///c%3A/Users/nimee/OneDrive/Documents/DDP/ddp/lib/site-packages/tensorflow/python/eager/def_function.py?line=950'>951</a>\u001b[0m   \u001b[39mself\u001b[39m\u001b[39m.\u001b[39m_lock\u001b[39m.\u001b[39mrelease()\n",
      "File \u001b[1;32mc:\\Users\\nimee\\OneDrive\\Documents\\DDP\\ddp\\lib\\site-packages\\tensorflow\\python\\eager\\function.py:2956\u001b[0m, in \u001b[0;36mFunction.__call__\u001b[1;34m(self, *args, **kwargs)\u001b[0m\n\u001b[0;32m   <a href='file:///c%3A/Users/nimee/OneDrive/Documents/DDP/ddp/lib/site-packages/tensorflow/python/eager/function.py?line=2952'>2953</a>\u001b[0m \u001b[39mwith\u001b[39;00m \u001b[39mself\u001b[39m\u001b[39m.\u001b[39m_lock:\n\u001b[0;32m   <a href='file:///c%3A/Users/nimee/OneDrive/Documents/DDP/ddp/lib/site-packages/tensorflow/python/eager/function.py?line=2953'>2954</a>\u001b[0m   (graph_function,\n\u001b[0;32m   <a href='file:///c%3A/Users/nimee/OneDrive/Documents/DDP/ddp/lib/site-packages/tensorflow/python/eager/function.py?line=2954'>2955</a>\u001b[0m    filtered_flat_args) \u001b[39m=\u001b[39m \u001b[39mself\u001b[39m\u001b[39m.\u001b[39m_maybe_define_function(args, kwargs)\n\u001b[1;32m-> <a href='file:///c%3A/Users/nimee/OneDrive/Documents/DDP/ddp/lib/site-packages/tensorflow/python/eager/function.py?line=2955'>2956</a>\u001b[0m \u001b[39mreturn\u001b[39;00m graph_function\u001b[39m.\u001b[39;49m_call_flat(\n\u001b[0;32m   <a href='file:///c%3A/Users/nimee/OneDrive/Documents/DDP/ddp/lib/site-packages/tensorflow/python/eager/function.py?line=2956'>2957</a>\u001b[0m     filtered_flat_args, captured_inputs\u001b[39m=\u001b[39;49mgraph_function\u001b[39m.\u001b[39;49mcaptured_inputs)\n",
      "File \u001b[1;32mc:\\Users\\nimee\\OneDrive\\Documents\\DDP\\ddp\\lib\\site-packages\\tensorflow\\python\\eager\\function.py:1853\u001b[0m, in \u001b[0;36mConcreteFunction._call_flat\u001b[1;34m(self, args, captured_inputs, cancellation_manager)\u001b[0m\n\u001b[0;32m   <a href='file:///c%3A/Users/nimee/OneDrive/Documents/DDP/ddp/lib/site-packages/tensorflow/python/eager/function.py?line=1848'>1849</a>\u001b[0m possible_gradient_type \u001b[39m=\u001b[39m gradients_util\u001b[39m.\u001b[39mPossibleTapeGradientTypes(args)\n\u001b[0;32m   <a href='file:///c%3A/Users/nimee/OneDrive/Documents/DDP/ddp/lib/site-packages/tensorflow/python/eager/function.py?line=1849'>1850</a>\u001b[0m \u001b[39mif\u001b[39;00m (possible_gradient_type \u001b[39m==\u001b[39m gradients_util\u001b[39m.\u001b[39mPOSSIBLE_GRADIENT_TYPES_NONE\n\u001b[0;32m   <a href='file:///c%3A/Users/nimee/OneDrive/Documents/DDP/ddp/lib/site-packages/tensorflow/python/eager/function.py?line=1850'>1851</a>\u001b[0m     \u001b[39mand\u001b[39;00m executing_eagerly):\n\u001b[0;32m   <a href='file:///c%3A/Users/nimee/OneDrive/Documents/DDP/ddp/lib/site-packages/tensorflow/python/eager/function.py?line=1851'>1852</a>\u001b[0m   \u001b[39m# No tape is watching; skip to running the function.\u001b[39;00m\n\u001b[1;32m-> <a href='file:///c%3A/Users/nimee/OneDrive/Documents/DDP/ddp/lib/site-packages/tensorflow/python/eager/function.py?line=1852'>1853</a>\u001b[0m   \u001b[39mreturn\u001b[39;00m \u001b[39mself\u001b[39m\u001b[39m.\u001b[39m_build_call_outputs(\u001b[39mself\u001b[39;49m\u001b[39m.\u001b[39;49m_inference_function\u001b[39m.\u001b[39;49mcall(\n\u001b[0;32m   <a href='file:///c%3A/Users/nimee/OneDrive/Documents/DDP/ddp/lib/site-packages/tensorflow/python/eager/function.py?line=1853'>1854</a>\u001b[0m       ctx, args, cancellation_manager\u001b[39m=\u001b[39;49mcancellation_manager))\n\u001b[0;32m   <a href='file:///c%3A/Users/nimee/OneDrive/Documents/DDP/ddp/lib/site-packages/tensorflow/python/eager/function.py?line=1854'>1855</a>\u001b[0m forward_backward \u001b[39m=\u001b[39m \u001b[39mself\u001b[39m\u001b[39m.\u001b[39m_select_forward_and_backward_functions(\n\u001b[0;32m   <a href='file:///c%3A/Users/nimee/OneDrive/Documents/DDP/ddp/lib/site-packages/tensorflow/python/eager/function.py?line=1855'>1856</a>\u001b[0m     args,\n\u001b[0;32m   <a href='file:///c%3A/Users/nimee/OneDrive/Documents/DDP/ddp/lib/site-packages/tensorflow/python/eager/function.py?line=1856'>1857</a>\u001b[0m     possible_gradient_type,\n\u001b[0;32m   <a href='file:///c%3A/Users/nimee/OneDrive/Documents/DDP/ddp/lib/site-packages/tensorflow/python/eager/function.py?line=1857'>1858</a>\u001b[0m     executing_eagerly)\n\u001b[0;32m   <a href='file:///c%3A/Users/nimee/OneDrive/Documents/DDP/ddp/lib/site-packages/tensorflow/python/eager/function.py?line=1858'>1859</a>\u001b[0m forward_function, args_with_tangents \u001b[39m=\u001b[39m forward_backward\u001b[39m.\u001b[39mforward()\n",
      "File \u001b[1;32mc:\\Users\\nimee\\OneDrive\\Documents\\DDP\\ddp\\lib\\site-packages\\tensorflow\\python\\eager\\function.py:499\u001b[0m, in \u001b[0;36m_EagerDefinedFunction.call\u001b[1;34m(self, ctx, args, cancellation_manager)\u001b[0m\n\u001b[0;32m    <a href='file:///c%3A/Users/nimee/OneDrive/Documents/DDP/ddp/lib/site-packages/tensorflow/python/eager/function.py?line=496'>497</a>\u001b[0m \u001b[39mwith\u001b[39;00m _InterpolateFunctionError(\u001b[39mself\u001b[39m):\n\u001b[0;32m    <a href='file:///c%3A/Users/nimee/OneDrive/Documents/DDP/ddp/lib/site-packages/tensorflow/python/eager/function.py?line=497'>498</a>\u001b[0m   \u001b[39mif\u001b[39;00m cancellation_manager \u001b[39mis\u001b[39;00m \u001b[39mNone\u001b[39;00m:\n\u001b[1;32m--> <a href='file:///c%3A/Users/nimee/OneDrive/Documents/DDP/ddp/lib/site-packages/tensorflow/python/eager/function.py?line=498'>499</a>\u001b[0m     outputs \u001b[39m=\u001b[39m execute\u001b[39m.\u001b[39;49mexecute(\n\u001b[0;32m    <a href='file:///c%3A/Users/nimee/OneDrive/Documents/DDP/ddp/lib/site-packages/tensorflow/python/eager/function.py?line=499'>500</a>\u001b[0m         \u001b[39mstr\u001b[39;49m(\u001b[39mself\u001b[39;49m\u001b[39m.\u001b[39;49msignature\u001b[39m.\u001b[39;49mname),\n\u001b[0;32m    <a href='file:///c%3A/Users/nimee/OneDrive/Documents/DDP/ddp/lib/site-packages/tensorflow/python/eager/function.py?line=500'>501</a>\u001b[0m         num_outputs\u001b[39m=\u001b[39;49m\u001b[39mself\u001b[39;49m\u001b[39m.\u001b[39;49m_num_outputs,\n\u001b[0;32m    <a href='file:///c%3A/Users/nimee/OneDrive/Documents/DDP/ddp/lib/site-packages/tensorflow/python/eager/function.py?line=501'>502</a>\u001b[0m         inputs\u001b[39m=\u001b[39;49margs,\n\u001b[0;32m    <a href='file:///c%3A/Users/nimee/OneDrive/Documents/DDP/ddp/lib/site-packages/tensorflow/python/eager/function.py?line=502'>503</a>\u001b[0m         attrs\u001b[39m=\u001b[39;49mattrs,\n\u001b[0;32m    <a href='file:///c%3A/Users/nimee/OneDrive/Documents/DDP/ddp/lib/site-packages/tensorflow/python/eager/function.py?line=503'>504</a>\u001b[0m         ctx\u001b[39m=\u001b[39;49mctx)\n\u001b[0;32m    <a href='file:///c%3A/Users/nimee/OneDrive/Documents/DDP/ddp/lib/site-packages/tensorflow/python/eager/function.py?line=504'>505</a>\u001b[0m   \u001b[39melse\u001b[39;00m:\n\u001b[0;32m    <a href='file:///c%3A/Users/nimee/OneDrive/Documents/DDP/ddp/lib/site-packages/tensorflow/python/eager/function.py?line=505'>506</a>\u001b[0m     outputs \u001b[39m=\u001b[39m execute\u001b[39m.\u001b[39mexecute_with_cancellation(\n\u001b[0;32m    <a href='file:///c%3A/Users/nimee/OneDrive/Documents/DDP/ddp/lib/site-packages/tensorflow/python/eager/function.py?line=506'>507</a>\u001b[0m         \u001b[39mstr\u001b[39m(\u001b[39mself\u001b[39m\u001b[39m.\u001b[39msignature\u001b[39m.\u001b[39mname),\n\u001b[0;32m    <a href='file:///c%3A/Users/nimee/OneDrive/Documents/DDP/ddp/lib/site-packages/tensorflow/python/eager/function.py?line=507'>508</a>\u001b[0m         num_outputs\u001b[39m=\u001b[39m\u001b[39mself\u001b[39m\u001b[39m.\u001b[39m_num_outputs,\n\u001b[1;32m   (...)\u001b[0m\n\u001b[0;32m    <a href='file:///c%3A/Users/nimee/OneDrive/Documents/DDP/ddp/lib/site-packages/tensorflow/python/eager/function.py?line=510'>511</a>\u001b[0m         ctx\u001b[39m=\u001b[39mctx,\n\u001b[0;32m    <a href='file:///c%3A/Users/nimee/OneDrive/Documents/DDP/ddp/lib/site-packages/tensorflow/python/eager/function.py?line=511'>512</a>\u001b[0m         cancellation_manager\u001b[39m=\u001b[39mcancellation_manager)\n",
      "File \u001b[1;32mc:\\Users\\nimee\\OneDrive\\Documents\\DDP\\ddp\\lib\\site-packages\\tensorflow\\python\\eager\\execute.py:54\u001b[0m, in \u001b[0;36mquick_execute\u001b[1;34m(op_name, num_outputs, inputs, attrs, ctx, name)\u001b[0m\n\u001b[0;32m     <a href='file:///c%3A/Users/nimee/OneDrive/Documents/DDP/ddp/lib/site-packages/tensorflow/python/eager/execute.py?line=51'>52</a>\u001b[0m \u001b[39mtry\u001b[39;00m:\n\u001b[0;32m     <a href='file:///c%3A/Users/nimee/OneDrive/Documents/DDP/ddp/lib/site-packages/tensorflow/python/eager/execute.py?line=52'>53</a>\u001b[0m   ctx\u001b[39m.\u001b[39mensure_initialized()\n\u001b[1;32m---> <a href='file:///c%3A/Users/nimee/OneDrive/Documents/DDP/ddp/lib/site-packages/tensorflow/python/eager/execute.py?line=53'>54</a>\u001b[0m   tensors \u001b[39m=\u001b[39m pywrap_tfe\u001b[39m.\u001b[39;49mTFE_Py_Execute(ctx\u001b[39m.\u001b[39;49m_handle, device_name, op_name,\n\u001b[0;32m     <a href='file:///c%3A/Users/nimee/OneDrive/Documents/DDP/ddp/lib/site-packages/tensorflow/python/eager/execute.py?line=54'>55</a>\u001b[0m                                       inputs, attrs, num_outputs)\n\u001b[0;32m     <a href='file:///c%3A/Users/nimee/OneDrive/Documents/DDP/ddp/lib/site-packages/tensorflow/python/eager/execute.py?line=55'>56</a>\u001b[0m \u001b[39mexcept\u001b[39;00m core\u001b[39m.\u001b[39m_NotOkStatusException \u001b[39mas\u001b[39;00m e:\n\u001b[0;32m     <a href='file:///c%3A/Users/nimee/OneDrive/Documents/DDP/ddp/lib/site-packages/tensorflow/python/eager/execute.py?line=56'>57</a>\u001b[0m   \u001b[39mif\u001b[39;00m name \u001b[39mis\u001b[39;00m \u001b[39mnot\u001b[39;00m \u001b[39mNone\u001b[39;00m:\n",
      "\u001b[1;31mKeyboardInterrupt\u001b[0m: "
     ]
    }
   ],
   "source": [
    "oneshot_dnn_model.fit(data.Train, epochs=10, validation_data=data.Val)"
   ]
  },
  {
   "cell_type": "code",
   "execution_count": 11,
   "metadata": {},
   "outputs": [],
   "source": [
    "MAX_EPOCHS = 20\n",
    "\n",
    "def lr_optimizer(model, window, patience=2):\n",
    "\n",
    "  lr_scheduler = tf.keras.callbacks.LearningRateScheduler(\n",
    "      lambda epoch: 1e-5 * 10**(epoch / 4))\n",
    "\n",
    "  model.compile(loss=MSE_loss,\n",
    "                optimizer=tf.optimizers.Adam(),\n",
    "                metrics=[MAPE, MAE])\n",
    "\n",
    "  history = model.fit(window.Train, epochs=MAX_EPOCHS,\n",
    "                      validation_data=window.Val,\n",
    "                      callbacks=[lr_scheduler])\n",
    "  return history"
   ]
  },
  {
   "cell_type": "code",
   "execution_count": 12,
   "metadata": {},
   "outputs": [
    {
     "name": "stdout",
     "output_type": "stream",
     "text": [
      "Epoch 1/20\n",
      "2738/2738 [==============================] - 12s 4ms/step - loss: 15.6849 - mean_absolute_percentage_error: 587.8209 - mean_absolute_error: 1.9872 - val_loss: 8.6027 - val_mean_absolute_percentage_error: 181.5297 - val_mean_absolute_error: 1.5063 - lr: 1.0000e-05\n",
      "Epoch 2/20\n",
      "2738/2738 [==============================] - 12s 4ms/step - loss: 12.7619 - mean_absolute_percentage_error: 542.3986 - mean_absolute_error: 1.7522 - val_loss: 5.6270 - val_mean_absolute_percentage_error: 340.7968 - val_mean_absolute_error: 1.1838 - lr: 1.7783e-05\n",
      "Epoch 3/20\n",
      "2738/2738 [==============================] - 12s 4ms/step - loss: 8.6403 - mean_absolute_percentage_error: 757.9999 - mean_absolute_error: 1.3954 - val_loss: 3.7035 - val_mean_absolute_percentage_error: 351.5448 - val_mean_absolute_error: 0.9316 - lr: 3.1623e-05\n",
      "Epoch 4/20\n",
      "2738/2738 [==============================] - 12s 4ms/step - loss: 7.4172 - mean_absolute_percentage_error: 1104.4669 - mean_absolute_error: 1.2635 - val_loss: 3.4462 - val_mean_absolute_percentage_error: 317.1407 - val_mean_absolute_error: 0.8734 - lr: 5.6234e-05\n",
      "Epoch 5/20\n",
      "2738/2738 [==============================] - 12s 4ms/step - loss: 7.0496 - mean_absolute_percentage_error: 937.9979 - mean_absolute_error: 1.2094 - val_loss: 3.1995 - val_mean_absolute_percentage_error: 293.7961 - val_mean_absolute_error: 0.8226 - lr: 1.0000e-04\n",
      "Epoch 6/20\n",
      "2738/2738 [==============================] - 12s 4ms/step - loss: 6.8541 - mean_absolute_percentage_error: 879.6884 - mean_absolute_error: 1.1795 - val_loss: 3.0342 - val_mean_absolute_percentage_error: 303.0909 - val_mean_absolute_error: 0.7982 - lr: 1.7783e-04\n",
      "Epoch 7/20\n",
      "2738/2738 [==============================] - 12s 4ms/step - loss: 6.7821 - mean_absolute_percentage_error: 892.9795 - mean_absolute_error: 1.1684 - val_loss: 3.0476 - val_mean_absolute_percentage_error: 330.6024 - val_mean_absolute_error: 0.8110 - lr: 3.1623e-04\n",
      "Epoch 8/20\n",
      "2738/2738 [==============================] - 12s 4ms/step - loss: 6.7832 - mean_absolute_percentage_error: 837.6471 - mean_absolute_error: 1.1659 - val_loss: 3.1029 - val_mean_absolute_percentage_error: 376.4293 - val_mean_absolute_error: 0.8242 - lr: 5.6234e-04\n",
      "Epoch 9/20\n",
      "2738/2738 [==============================] - 12s 4ms/step - loss: 6.8887 - mean_absolute_percentage_error: 668.2531 - mean_absolute_error: 1.1749 - val_loss: 3.1190 - val_mean_absolute_percentage_error: 397.0145 - val_mean_absolute_error: 0.8276 - lr: 0.0010\n",
      "Epoch 10/20\n",
      "2738/2738 [==============================] - 11s 4ms/step - loss: 7.0294 - mean_absolute_percentage_error: 678.6393 - mean_absolute_error: 1.1888 - val_loss: 3.1704 - val_mean_absolute_percentage_error: 383.6108 - val_mean_absolute_error: 0.8312 - lr: 0.0018\n",
      "Epoch 11/20\n",
      "2738/2738 [==============================] - 12s 4ms/step - loss: 7.1825 - mean_absolute_percentage_error: 674.5535 - mean_absolute_error: 1.2043 - val_loss: 3.1794 - val_mean_absolute_percentage_error: 389.0908 - val_mean_absolute_error: 0.8404 - lr: 0.0032\n",
      "Epoch 12/20\n",
      "2738/2738 [==============================] - 12s 4ms/step - loss: 7.4250 - mean_absolute_percentage_error: 941.4830 - mean_absolute_error: 1.2246 - val_loss: 3.2118 - val_mean_absolute_percentage_error: 387.2523 - val_mean_absolute_error: 0.8472 - lr: 0.0056\n",
      "Epoch 13/20\n",
      "2738/2738 [==============================] - 12s 4ms/step - loss: 9.8385 - mean_absolute_percentage_error: 782.3089 - mean_absolute_error: 1.4724 - val_loss: 4.6970 - val_mean_absolute_percentage_error: 425.5158 - val_mean_absolute_error: 1.0199 - lr: 0.0100\n",
      "Epoch 14/20\n",
      "2738/2738 [==============================] - 12s 4ms/step - loss: 12.9798 - mean_absolute_percentage_error: 786.8880 - mean_absolute_error: 1.7744 - val_loss: 8.1474 - val_mean_absolute_percentage_error: 387.0954 - val_mean_absolute_error: 1.4157 - lr: 0.0178\n",
      "Epoch 15/20\n",
      "2738/2738 [==============================] - 11s 4ms/step - loss: 14.4856 - mean_absolute_percentage_error: 506.5013 - mean_absolute_error: 1.8864 - val_loss: 8.5385 - val_mean_absolute_percentage_error: 379.5207 - val_mean_absolute_error: 1.4535 - lr: 0.0316\n",
      "Epoch 16/20\n",
      "2738/2738 [==============================] - 12s 4ms/step - loss: 14.3477 - mean_absolute_percentage_error: 469.7985 - mean_absolute_error: 1.8713 - val_loss: 8.4131 - val_mean_absolute_percentage_error: 363.3681 - val_mean_absolute_error: 1.4424 - lr: 0.0562\n",
      "Epoch 17/20\n",
      "2738/2738 [==============================] - 12s 4ms/step - loss: 14.3414 - mean_absolute_percentage_error: 466.9674 - mean_absolute_error: 1.8668 - val_loss: 8.8377 - val_mean_absolute_percentage_error: 322.3745 - val_mean_absolute_error: 1.4875 - lr: 0.1000\n",
      "Epoch 18/20\n",
      "2738/2738 [==============================] - 12s 4ms/step - loss: 15.2653 - mean_absolute_percentage_error: 218.1243 - mean_absolute_error: 1.9141 - val_loss: 8.8378 - val_mean_absolute_percentage_error: 322.6656 - val_mean_absolute_error: 1.4875 - lr: 0.1778\n",
      "Epoch 19/20\n",
      "2738/2738 [==============================] - 11s 4ms/step - loss: 15.2679 - mean_absolute_percentage_error: 235.5175 - mean_absolute_error: 1.9143 - val_loss: 8.8378 - val_mean_absolute_percentage_error: 326.1662 - val_mean_absolute_error: 1.4876 - lr: 0.3162\n",
      "Epoch 20/20\n",
      "2738/2738 [==============================] - 11s 4ms/step - loss: 15.2776 - mean_absolute_percentage_error: 226.4029 - mean_absolute_error: 1.9153 - val_loss: 8.8377 - val_mean_absolute_percentage_error: 321.4163 - val_mean_absolute_error: 1.4876 - lr: 0.5623\n"
     ]
    }
   ],
   "source": [
    "history = lr_optimizer(oneshot_dnn_model, data)"
   ]
  },
  {
   "cell_type": "code",
   "execution_count": 14,
   "metadata": {},
   "outputs": [
    {
     "data": {
      "text/plain": [
       "(1e-05, 0.001, 0.0, 20.0)"
      ]
     },
     "execution_count": 14,
     "metadata": {},
     "output_type": "execute_result"
    },
    {
     "data": {
      "image/png": "[encoded data removed]",
      "text/plain": [
       "<Figure size 432x288 with 1 Axes>"
      ]
     },
     "metadata": {
      "needs_background": "light"
     },
     "output_type": "display_data"
    }
   ],
   "source": [
    "lrs = 1e-5 * (10 ** (np.arange(MAX_EPOCHS) / 4))\n",
    "plt.semilogx(lrs, history.history['loss'])\n",
    "plt.axis([1e-5, 1e-3, 0, 20])"
   ]
  },
  {
   "cell_type": "code",
   "execution_count": 15,
   "metadata": {},
   "outputs": [],
   "source": [
    "oneshot_dnn_model = tf.keras.Sequential([\n",
    "    tf.keras.layers.Dense(128, activation='relu', input_shape=(INPUT_DIM,)),\n",
    "    tf.keras.layers.Dense(128, activation='relu'),\n",
    "    tf.keras.layers.Dense(64, activation='relu'),\n",
    "    tf.keras.layers.Dense(64, activation='relu'),\n",
    "    tf.keras.layers.Dense(OUTPUT_DIM, activation='linear')\n",
    "])"
   ]
  },
  {
   "cell_type": "code",
   "execution_count": 13,
   "metadata": {},
   "outputs": [],
   "source": [
    "MAX_EPOCHS_TRAINING = 50\n",
    "\n",
    "def compile_and_fit(model, window, patience=5):\n",
    "  early_stopping = tf.keras.callbacks.EarlyStopping(monitor='val_loss',\n",
    "                                                    patience=patience,\n",
    "                                                    mode='min')\n",
    "\n",
    "  lr_scheduler = tf.keras.callbacks.LearningRateScheduler(\n",
    "      lambda epoch: 1e-5 * 10**(epoch / 4))\n",
    "\n",
    "  model.compile(loss=MSE_loss,\n",
    "                optimizer=tf.optimizers.Adam(learning_rate=1e-5),\n",
    "                metrics=[MAPE, MAE])\n",
    "\n",
    "  history = model.fit(window.Train, epochs=MAX_EPOCHS_TRAINING,\n",
    "                      validation_data=window.Val,\n",
    "                      callbacks=[early_stopping])\n",
    "  return history"
   ]
  },
  {
   "cell_type": "code",
   "execution_count": 14,
   "metadata": {},
   "outputs": [
    {
     "name": "stdout",
     "output_type": "stream",
     "text": [
      "Epoch 1/50\n"
     ]
    },
    {
     "ename": "ValueError",
     "evalue": "in user code:\n\n    File \"c:\\Users\\nimee\\OneDrive\\Documents\\DDP\\ddp\\lib\\site-packages\\keras\\engine\\training.py\", line 1021, in train_function  *\n        return step_function(self, iterator)\n    File \"c:\\Users\\nimee\\OneDrive\\Documents\\DDP\\ddp\\lib\\site-packages\\keras\\engine\\training.py\", line 1010, in step_function  **\n        outputs = model.distribute_strategy.run(run_step, args=(data,))\n    File \"c:\\Users\\nimee\\OneDrive\\Documents\\DDP\\ddp\\lib\\site-packages\\keras\\engine\\training.py\", line 1000, in run_step  **\n        outputs = model.train_step(data)\n    File \"c:\\Users\\nimee\\OneDrive\\Documents\\DDP\\ddp\\lib\\site-packages\\keras\\engine\\training.py\", line 860, in train_step\n        loss = self.compute_loss(x, y, y_pred, sample_weight)\n    File \"c:\\Users\\nimee\\OneDrive\\Documents\\DDP\\ddp\\lib\\site-packages\\keras\\engine\\training.py\", line 918, in compute_loss\n        return self.compiled_loss(\n    File \"c:\\Users\\nimee\\OneDrive\\Documents\\DDP\\ddp\\lib\\site-packages\\keras\\engine\\compile_utils.py\", line 201, in __call__\n        loss_value = loss_obj(y_t, y_p, sample_weight=sw)\n    File \"c:\\Users\\nimee\\OneDrive\\Documents\\DDP\\ddp\\lib\\site-packages\\keras\\losses.py\", line 141, in __call__\n        losses = call_fn(y_true, y_pred)\n    File \"c:\\Users\\nimee\\OneDrive\\Documents\\DDP\\ddp\\lib\\site-packages\\keras\\losses.py\", line 245, in call  **\n        return ag_fn(y_true, y_pred, **self._fn_kwargs)\n    File \"c:\\Users\\nimee\\OneDrive\\Documents\\DDP\\ddp\\lib\\site-packages\\keras\\losses.py\", line 1329, in mean_squared_error\n        return backend.mean(tf.math.squared_difference(y_pred, y_true), axis=-1)\n\n    ValueError: Dimensions must be equal, but are 120 and 60 for '{{node mean_squared_error/SquaredDifference}} = SquaredDifference[T=DT_FLOAT](my_model/dense_4/BiasAdd, Cast)' with input shapes: [?,120,60], [?,60,1].\n",
     "output_type": "error",
     "traceback": [
      "\u001b[1;31m---------------------------------------------------------------------------\u001b[0m",
      "\u001b[1;31mValueError\u001b[0m                                Traceback (most recent call last)",
      "\u001b[1;32mc:\\Users\\nimee\\OneDrive\\Documents\\DDP\\Parametric_Roll_Detection\\notebooks\\model_2.ipynb Cell 15'\u001b[0m in \u001b[0;36m<module>\u001b[1;34m\u001b[0m\n\u001b[1;32m----> <a href='vscode-notebook-cell:/c%3A/Users/nimee/OneDrive/Documents/DDP/Parametric_Roll_Detection/notebooks/model_2.ipynb#ch0000014?line=0'>1</a>\u001b[0m history_training \u001b[39m=\u001b[39m compile_and_fit(oneshot_dnn_model, data)\n",
      "\u001b[1;32mc:\\Users\\nimee\\OneDrive\\Documents\\DDP\\Parametric_Roll_Detection\\notebooks\\model_2.ipynb Cell 14'\u001b[0m in \u001b[0;36mcompile_and_fit\u001b[1;34m(model, window, patience)\u001b[0m\n\u001b[0;32m      <a href='vscode-notebook-cell:/c%3A/Users/nimee/OneDrive/Documents/DDP/Parametric_Roll_Detection/notebooks/model_2.ipynb#ch0000013?line=7'>8</a>\u001b[0m lr_scheduler \u001b[39m=\u001b[39m tf\u001b[39m.\u001b[39mkeras\u001b[39m.\u001b[39mcallbacks\u001b[39m.\u001b[39mLearningRateScheduler(\n\u001b[0;32m      <a href='vscode-notebook-cell:/c%3A/Users/nimee/OneDrive/Documents/DDP/Parametric_Roll_Detection/notebooks/model_2.ipynb#ch0000013?line=8'>9</a>\u001b[0m     \u001b[39mlambda\u001b[39;00m epoch: \u001b[39m1e-5\u001b[39m \u001b[39m*\u001b[39m \u001b[39m10\u001b[39m\u001b[39m*\u001b[39m\u001b[39m*\u001b[39m(epoch \u001b[39m/\u001b[39m \u001b[39m4\u001b[39m))\n\u001b[0;32m     <a href='vscode-notebook-cell:/c%3A/Users/nimee/OneDrive/Documents/DDP/Parametric_Roll_Detection/notebooks/model_2.ipynb#ch0000013?line=10'>11</a>\u001b[0m model\u001b[39m.\u001b[39mcompile(loss\u001b[39m=\u001b[39mMSE_loss,\n\u001b[0;32m     <a href='vscode-notebook-cell:/c%3A/Users/nimee/OneDrive/Documents/DDP/Parametric_Roll_Detection/notebooks/model_2.ipynb#ch0000013?line=11'>12</a>\u001b[0m               optimizer\u001b[39m=\u001b[39mtf\u001b[39m.\u001b[39moptimizers\u001b[39m.\u001b[39mAdam(learning_rate\u001b[39m=\u001b[39m\u001b[39m1e-5\u001b[39m),\n\u001b[0;32m     <a href='vscode-notebook-cell:/c%3A/Users/nimee/OneDrive/Documents/DDP/Parametric_Roll_Detection/notebooks/model_2.ipynb#ch0000013?line=12'>13</a>\u001b[0m               metrics\u001b[39m=\u001b[39m[MAPE, MAE])\n\u001b[1;32m---> <a href='vscode-notebook-cell:/c%3A/Users/nimee/OneDrive/Documents/DDP/Parametric_Roll_Detection/notebooks/model_2.ipynb#ch0000013?line=14'>15</a>\u001b[0m history \u001b[39m=\u001b[39m model\u001b[39m.\u001b[39;49mfit(window\u001b[39m.\u001b[39;49mTrain, epochs\u001b[39m=\u001b[39;49mMAX_EPOCHS_TRAINING,\n\u001b[0;32m     <a href='vscode-notebook-cell:/c%3A/Users/nimee/OneDrive/Documents/DDP/Parametric_Roll_Detection/notebooks/model_2.ipynb#ch0000013?line=15'>16</a>\u001b[0m                     validation_data\u001b[39m=\u001b[39;49mwindow\u001b[39m.\u001b[39;49mVal,\n\u001b[0;32m     <a href='vscode-notebook-cell:/c%3A/Users/nimee/OneDrive/Documents/DDP/Parametric_Roll_Detection/notebooks/model_2.ipynb#ch0000013?line=16'>17</a>\u001b[0m                     callbacks\u001b[39m=\u001b[39;49m[early_stopping])\n\u001b[0;32m     <a href='vscode-notebook-cell:/c%3A/Users/nimee/OneDrive/Documents/DDP/Parametric_Roll_Detection/notebooks/model_2.ipynb#ch0000013?line=17'>18</a>\u001b[0m \u001b[39mreturn\u001b[39;00m history\n",
      "File \u001b[1;32mc:\\Users\\nimee\\OneDrive\\Documents\\DDP\\ddp\\lib\\site-packages\\keras\\utils\\traceback_utils.py:67\u001b[0m, in \u001b[0;36mfilter_traceback.<locals>.error_handler\u001b[1;34m(*args, **kwargs)\u001b[0m\n\u001b[0;32m     <a href='file:///c%3A/Users/nimee/OneDrive/Documents/DDP/ddp/lib/site-packages/keras/utils/traceback_utils.py?line=64'>65</a>\u001b[0m \u001b[39mexcept\u001b[39;00m \u001b[39mException\u001b[39;00m \u001b[39mas\u001b[39;00m e:  \u001b[39m# pylint: disable=broad-except\u001b[39;00m\n\u001b[0;32m     <a href='file:///c%3A/Users/nimee/OneDrive/Documents/DDP/ddp/lib/site-packages/keras/utils/traceback_utils.py?line=65'>66</a>\u001b[0m   filtered_tb \u001b[39m=\u001b[39m _process_traceback_frames(e\u001b[39m.\u001b[39m__traceback__)\n\u001b[1;32m---> <a href='file:///c%3A/Users/nimee/OneDrive/Documents/DDP/ddp/lib/site-packages/keras/utils/traceback_utils.py?line=66'>67</a>\u001b[0m   \u001b[39mraise\u001b[39;00m e\u001b[39m.\u001b[39mwith_traceback(filtered_tb) \u001b[39mfrom\u001b[39;00m \u001b[39mNone\u001b[39m\n\u001b[0;32m     <a href='file:///c%3A/Users/nimee/OneDrive/Documents/DDP/ddp/lib/site-packages/keras/utils/traceback_utils.py?line=67'>68</a>\u001b[0m \u001b[39mfinally\u001b[39;00m:\n\u001b[0;32m     <a href='file:///c%3A/Users/nimee/OneDrive/Documents/DDP/ddp/lib/site-packages/keras/utils/traceback_utils.py?line=68'>69</a>\u001b[0m   \u001b[39mdel\u001b[39;00m filtered_tb\n",
      "File \u001b[1;32mc:\\Users\\nimee\\OneDrive\\Documents\\DDP\\ddp\\lib\\site-packages\\tensorflow\\python\\framework\\func_graph.py:1147\u001b[0m, in \u001b[0;36mfunc_graph_from_py_func.<locals>.autograph_handler\u001b[1;34m(*args, **kwargs)\u001b[0m\n\u001b[0;32m   <a href='file:///c%3A/Users/nimee/OneDrive/Documents/DDP/ddp/lib/site-packages/tensorflow/python/framework/func_graph.py?line=1144'>1145</a>\u001b[0m \u001b[39mexcept\u001b[39;00m \u001b[39mException\u001b[39;00m \u001b[39mas\u001b[39;00m e:  \u001b[39m# pylint:disable=broad-except\u001b[39;00m\n\u001b[0;32m   <a href='file:///c%3A/Users/nimee/OneDrive/Documents/DDP/ddp/lib/site-packages/tensorflow/python/framework/func_graph.py?line=1145'>1146</a>\u001b[0m   \u001b[39mif\u001b[39;00m \u001b[39mhasattr\u001b[39m(e, \u001b[39m\"\u001b[39m\u001b[39mag_error_metadata\u001b[39m\u001b[39m\"\u001b[39m):\n\u001b[1;32m-> <a href='file:///c%3A/Users/nimee/OneDrive/Documents/DDP/ddp/lib/site-packages/tensorflow/python/framework/func_graph.py?line=1146'>1147</a>\u001b[0m     \u001b[39mraise\u001b[39;00m e\u001b[39m.\u001b[39mag_error_metadata\u001b[39m.\u001b[39mto_exception(e)\n\u001b[0;32m   <a href='file:///c%3A/Users/nimee/OneDrive/Documents/DDP/ddp/lib/site-packages/tensorflow/python/framework/func_graph.py?line=1147'>1148</a>\u001b[0m   \u001b[39melse\u001b[39;00m:\n\u001b[0;32m   <a href='file:///c%3A/Users/nimee/OneDrive/Documents/DDP/ddp/lib/site-packages/tensorflow/python/framework/func_graph.py?line=1148'>1149</a>\u001b[0m     \u001b[39mraise\u001b[39;00m\n",
      "\u001b[1;31mValueError\u001b[0m: in user code:\n\n    File \"c:\\Users\\nimee\\OneDrive\\Documents\\DDP\\ddp\\lib\\site-packages\\keras\\engine\\training.py\", line 1021, in train_function  *\n        return step_function(self, iterator)\n    File \"c:\\Users\\nimee\\OneDrive\\Documents\\DDP\\ddp\\lib\\site-packages\\keras\\engine\\training.py\", line 1010, in step_function  **\n        outputs = model.distribute_strategy.run(run_step, args=(data,))\n    File \"c:\\Users\\nimee\\OneDrive\\Documents\\DDP\\ddp\\lib\\site-packages\\keras\\engine\\training.py\", line 1000, in run_step  **\n        outputs = model.train_step(data)\n    File \"c:\\Users\\nimee\\OneDrive\\Documents\\DDP\\ddp\\lib\\site-packages\\keras\\engine\\training.py\", line 860, in train_step\n        loss = self.compute_loss(x, y, y_pred, sample_weight)\n    File \"c:\\Users\\nimee\\OneDrive\\Documents\\DDP\\ddp\\lib\\site-packages\\keras\\engine\\training.py\", line 918, in compute_loss\n        return self.compiled_loss(\n    File \"c:\\Users\\nimee\\OneDrive\\Documents\\DDP\\ddp\\lib\\site-packages\\keras\\engine\\compile_utils.py\", line 201, in __call__\n        loss_value = loss_obj(y_t, y_p, sample_weight=sw)\n    File \"c:\\Users\\nimee\\OneDrive\\Documents\\DDP\\ddp\\lib\\site-packages\\keras\\losses.py\", line 141, in __call__\n        losses = call_fn(y_true, y_pred)\n    File \"c:\\Users\\nimee\\OneDrive\\Documents\\DDP\\ddp\\lib\\site-packages\\keras\\losses.py\", line 245, in call  **\n        return ag_fn(y_true, y_pred, **self._fn_kwargs)\n    File \"c:\\Users\\nimee\\OneDrive\\Documents\\DDP\\ddp\\lib\\site-packages\\keras\\losses.py\", line 1329, in mean_squared_error\n        return backend.mean(tf.math.squared_difference(y_pred, y_true), axis=-1)\n\n    ValueError: Dimensions must be equal, but are 120 and 60 for '{{node mean_squared_error/SquaredDifference}} = SquaredDifference[T=DT_FLOAT](my_model/dense_4/BiasAdd, Cast)' with input shapes: [?,120,60], [?,60,1].\n"
     ]
    }
   ],
   "source": [
    "history_training = compile_and_fit(oneshot_dnn_model, data)"
   ]
  },
  {
   "cell_type": "code",
   "execution_count": 18,
   "metadata": {},
   "outputs": [
    {
     "name": "stdout",
     "output_type": "stream",
     "text": [
      "336/336 [==============================] - 1s 3ms/step - loss: 3.3048 - mean_absolute_percentage_error: 305.2174 - mean_absolute_error: 0.8337\n",
      "392/392 [==============================] - 1s 3ms/step - loss: 4.4440 - mean_absolute_percentage_error: 221.3841 - mean_absolute_error: 0.9907\n"
     ]
    }
   ],
   "source": [
    "val_performance = oneshot_dnn_model.evaluate(data.Val)\n",
    "test_performance = oneshot_dnn_model.evaluate(data.Test)"
   ]
  },
  {
   "cell_type": "code",
   "execution_count": 20,
   "metadata": {},
   "outputs": [
    {
     "name": "stdout",
     "output_type": "stream",
     "text": [
      "Validation MSE_loss: 3.30\n",
      "Validation MAPE:     305.22\n",
      "Validation MAE:      0.83\n",
      "Test MSE_loss:       4.44\n",
      "Test MAPE:           221.38\n",
      "Test MAE:            0.99\n"
     ]
    }
   ],
   "source": [
    "print('Validation MSE_loss: {:.2f}'.format(val_performance[0]))\n",
    "print('Validation MAPE:     {:.2f}'.format(val_performance[1]))\n",
    "print('Validation MAE:      {:.2f}'.format(val_performance[2]))\n",
    "print('Test MSE_loss:       {:.2f}'.format(test_performance[0]))\n",
    "print('Test MAPE:           {:.2f}'.format(test_performance[1]))\n",
    "print('Test MAE:            {:.2f}'.format(test_performance[2]))"
   ]
  },
  {
   "cell_type": "code",
   "execution_count": 21,
   "metadata": {},
   "outputs": [
    {
     "name": "stdout",
     "output_type": "stream",
     "text": [
      "INFO:tensorflow:Assets written to: models/oneshot_dnn_model\\assets\n"
     ]
    }
   ],
   "source": [
    "oneshot_dnn_model.save('models/oneshot_dnn_model')"
   ]
  },
  {
   "cell_type": "code",
   "execution_count": null,
   "metadata": {},
   "outputs": [],
   "source": []
  }
 ],
 "metadata": {
  "interpreter": {
   "hash": "1844590946100bef83ac7cfe239ed2c4890ee2a333855b1dfdd281ca43636803"
  },
  "kernelspec": {
   "display_name": "Python 3.8.10 ('ddp': venv)",
   "language": "python",
   "name": "python3"
  },
  "language_info": {
   "codemirror_mode": {
    "name": "ipython",
    "version": 3
   },
   "file_extension": ".py",
   "mimetype": "text/x-python",
   "name": "python",
   "nbconvert_exporter": "python",
   "pygments_lexer": "ipython3",
   "version": "3.8.10"
  },
  "orig_nbformat": 4
 },
 "nbformat": 4,
 "nbformat_minor": 2
}
