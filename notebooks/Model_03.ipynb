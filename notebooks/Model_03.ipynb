{
 "cells": [
  {
   "cell_type": "markdown",
   "metadata": {},
   "source": [
    "SETUP"
   ]
  },
  {
   "cell_type": "code",
   "execution_count": 1,
   "metadata": {},
   "outputs": [],
   "source": [
    "%load_ext autoreload\n",
    "%autoreload 2\n",
    "%load_ext tensorboard"
   ]
  },
  {
   "cell_type": "code",
   "execution_count": 2,
   "metadata": {},
   "outputs": [],
   "source": [
    "import os\n",
    "os.chdir('..')\n",
    "os.add_dll_directory(\"C:/Program Files/NVIDIA GPU Computing Toolkit/CUDA/v11.2/bin\")   # Run only if necessary\n",
    "\n",
    "from src.data.Dataset import Dataset as DS\n",
    "import tensorflow as tf\n",
    "import numpy as np\n",
    "import matplotlib.pyplot as plt"
   ]
  },
  {
   "cell_type": "code",
   "execution_count": 3,
   "metadata": {},
   "outputs": [
    {
     "data": {
      "text/plain": [
       "[PhysicalDevice(name='/physical_device:GPU:0', device_type='GPU')]"
      ]
     },
     "execution_count": 3,
     "metadata": {},
     "output_type": "execute_result"
    }
   ],
   "source": [
    "# Check if GPU is available\n",
    "\n",
    "tf.config.list_physical_devices('GPU')"
   ]
  },
  {
   "cell_type": "markdown",
   "metadata": {},
   "source": [
    "DATASET"
   ]
  },
  {
   "cell_type": "code",
   "execution_count": 4,
   "metadata": {},
   "outputs": [],
   "source": [
    "# Dataset generator\n",
    "\n",
    "n = 10\n",
    "m = 5\n",
    "hop = 1/1200\n",
    "input_dim   = 30 * n\n",
    "pred_dim    = 0.25\n",
    "shift       = pred_dim\n",
    "batch_size  = 256\n",
    "Data        = DS(\n",
    "                input_dim, \n",
    "                pred_dim, \n",
    "                shift, \n",
    "                skip=0.25, \n",
    "                hop=hop, \n",
    "                batch_size=batch_size,\n",
    "                in_cols=['roll','heave','pitch','wave']\n",
    "                )"
   ]
  },
  {
   "cell_type": "code",
   "execution_count": 5,
   "metadata": {},
   "outputs": [
    {
     "data": {
      "text/plain": [
       "(TensorSpec(shape=(None, 1200, 4), dtype=tf.float64, name=None),\n",
       " TensorSpec(shape=(None, 1, 1), dtype=tf.float64, name=None))"
      ]
     },
     "execution_count": 5,
     "metadata": {},
     "output_type": "execute_result"
    }
   ],
   "source": [
    "Data.Train.element_spec"
   ]
  },
  {
   "cell_type": "code",
   "execution_count": 6,
   "metadata": {},
   "outputs": [
    {
     "name": "stdout",
     "output_type": "stream",
     "text": [
      "Input dim: [1200, 4]\n",
      "Output dim: [1, 1]\n"
     ]
    }
   ],
   "source": [
    "INPUT_DIM = Data.xshape\n",
    "OUTPUT_DIM = Data.yshape\n",
    "\n",
    "print('Input dim:', INPUT_DIM)\n",
    "print('Output dim:', OUTPUT_DIM)"
   ]
  },
  {
   "cell_type": "markdown",
   "metadata": {},
   "source": [
    "MODEL"
   ]
  },
  {
   "cell_type": "code",
   "execution_count": 7,
   "metadata": {},
   "outputs": [],
   "source": [
    "# Loss functions\n",
    "\n",
    "# Regression loss\n",
    "MSE_loss = tf.keras.losses.MeanSquaredError()\n",
    "MAE_loss = tf.keras.losses.MeanAbsoluteError()\n",
    "\n",
    "# Metrics\n",
    "\n",
    "# Regression metrics\n",
    "MAPE = tf.keras.metrics.MeanAbsolutePercentageError()\n",
    "MAE = tf.keras.metrics.MeanAbsoluteError()"
   ]
  },
  {
   "cell_type": "code",
   "execution_count": 8,
   "metadata": {},
   "outputs": [],
   "source": [
    "# norm = tf.keras.layers.Normalization(input_shape=INPUT_DIM, axis=-1)\n",
    "# x_ds = Data.Train.map(lambda x, y: x)\n",
    "# norm.adapt(x_ds)"
   ]
  },
  {
   "cell_type": "code",
   "execution_count": 9,
   "metadata": {},
   "outputs": [],
   "source": [
    "# Define model here\n",
    "\n",
    "model = tf.keras.Sequential([\n",
    "    tf.keras.layers.InputLayer(input_shape=INPUT_DIM),\n",
    "    tf.keras.layers.LSTM(units=256, return_sequences=True),\n",
    "    tf.keras.layers.LSTM(units=64, return_sequences=False),\n",
    "#     tf.keras.layers.LSTM(units=32, return_sequences=False),\n",
    "    tf.keras.layers.Dense(32, activation='linear'),\n",
    "    tf.keras.layers.Dense(OUTPUT_DIM[0])\n",
    "])"
   ]
  },
  {
   "cell_type": "code",
   "execution_count": 10,
   "metadata": {},
   "outputs": [
    {
     "name": "stdout",
     "output_type": "stream",
     "text": [
      "Model: \"sequential\"\n",
      "_________________________________________________________________\n",
      " Layer (type)                Output Shape              Param #   \n",
      "=================================================================\n",
      " lstm (LSTM)                 (None, 1200, 256)         267264    \n",
      "                                                                 \n",
      " lstm_1 (LSTM)               (None, 64)                82176     \n",
      "                                                                 \n",
      " dense (Dense)               (None, 32)                2080      \n",
      "                                                                 \n",
      " dense_1 (Dense)             (None, 1)                 33        \n",
      "                                                                 \n",
      "=================================================================\n",
      "Total params: 351,553\n",
      "Trainable params: 351,553\n",
      "Non-trainable params: 0\n",
      "_________________________________________________________________\n"
     ]
    }
   ],
   "source": [
    "# Compile model\n",
    "\n",
    "opt = tf.keras.optimizers.Adam(learning_rate=0.001)\n",
    "model.compile(optimizer=opt, loss=MSE_loss, metrics=[MAPE, MAE])\n",
    "model.summary()"
   ]
  },
  {
   "cell_type": "code",
   "execution_count": 15,
   "metadata": {},
   "outputs": [],
   "source": [
    "from statsmodels.tsa.stattools import adfuller\n",
    "import arch.unitroot as at\n",
    "def check_stationary_adf(data):\n",
    "    stat=adfuller(data)\n",
    "    p_val=stat[1]\n",
    "    print(p_val)\n",
    "    if p_val<=0.05:\n",
    "        return True\n",
    "    else:\n",
    "        return False\n",
    "def check_stationary_pf(data):\n",
    "    result=at.PhillipsPerron(data,trend='ct',test_type='tau')\n",
    "    p_val=result.pvalue\n",
    "    if p_val<=0.05:\n",
    "        return True\n",
    "    else:\n",
    "        return False"
   ]
  },
  {
   "cell_type": "code",
   "execution_count": 18,
   "metadata": {},
   "outputs": [],
   "source": [
    "time, heave, roll, pitch, wave = Data.get_sim_data(1)"
   ]
  },
  {
   "cell_type": "code",
   "execution_count": 33,
   "metadata": {
    "collapsed": true
   },
   "outputs": [
    {
     "name": "stdout",
     "output_type": "stream",
     "text": [
      "4.835287818370694e-08\n",
      "Roll:  True\n",
      "7.325744391173554e-12\n",
      "Heave:  True\n",
      "5.321882477354829e-19\n",
      "Pitch:  True\n",
      "0.0\n",
      "Wave:  True\n",
      "4.676529414648116e-08\n",
      "Roll:  True\n",
      "7.295698971052629e-12\n",
      "Heave:  True\n",
      "5.2140395330120015e-19\n",
      "Pitch:  True\n",
      "0.6653874341155762\n",
      "Wave:  False\n",
      "4.6151523875495834e-08\n",
      "Roll:  True\n",
      "7.342887072528818e-12\n",
      "Heave:  True\n",
      "4.765430457427522e-19\n",
      "Pitch:  True\n",
      "0.9281408379127254\n",
      "Wave:  False\n",
      "4.6032150034035444e-08\n",
      "Roll:  True\n",
      "7.372244685367294e-12\n",
      "Heave:  True\n",
      "4.500227977629233e-19\n",
      "Pitch:  True\n",
      "0.5294911041204904\n",
      "Wave:  False\n",
      "4.587020902602591e-08\n",
      "Roll:  True\n",
      "7.361492710330001e-12\n",
      "Heave:  True\n",
      "4.533119258925123e-19\n",
      "Pitch:  True\n",
      "0.9088658874156499\n",
      "Wave:  False\n",
      "5.314136667912193e-08\n",
      "Roll:  True\n",
      "7.356411974941345e-12\n",
      "Heave:  True\n",
      "4.377291644254324e-19\n",
      "Pitch:  True\n",
      "0.8882188093838121\n",
      "Wave:  False\n",
      "3.8379959754069785e-08\n",
      "Roll:  True\n",
      "7.2721506901907465e-12\n",
      "Heave:  True\n",
      "4.536965350987753e-19\n",
      "Pitch:  True\n",
      "0.8707407181936266\n",
      "Wave:  False\n",
      "4.8086150843609306e-08\n",
      "Roll:  True\n",
      "7.247365642455397e-12\n",
      "Heave:  True\n",
      "4.168097646721492e-19\n",
      "Pitch:  True\n",
      "0.17989516787642118\n",
      "Wave:  False\n",
      "4.0352602770721985e-08\n",
      "Roll:  True\n",
      "7.221512917425201e-12\n",
      "Heave:  True\n",
      "4.2954863075786373e-19\n",
      "Pitch:  True\n",
      "0.82614498825224\n",
      "Wave:  False\n",
      "4.689713976476902e-08\n",
      "Roll:  True\n",
      "7.207962539069184e-12\n",
      "Heave:  True\n",
      "3.9987571366958477e-19\n",
      "Pitch:  True\n",
      "0.6730849538850114\n",
      "Wave:  False\n"
     ]
    }
   ],
   "source": [
    "# Check if model is working and the output shape\n",
    "Data.batch_size = 1\n",
    "\n",
    "for x, y in Data.Train.take(10):\n",
    "    roll = x[0][:,0]\n",
    "    heave = x[0][:,1]\n",
    "    pitch = x[0][:,2]\n",
    "    wave = x[0][:,3]\n",
    "    \n",
    "    print('Roll: ', check_stationary_adf(roll))\n",
    "    print('Heave: ', check_stationary_adf(heave))\n",
    "    print('Pitch: ', check_stationary_adf(pitch))\n",
    "    print('Wave: ', check_stationary_adf(wave))"
   ]
  },
  {
   "cell_type": "code",
   "execution_count": 19,
   "metadata": {},
   "outputs": [
    {
     "name": "stdout",
     "output_type": "stream",
     "text": [
      "0.0\n",
      "Roll:  True\n",
      "0.0\n",
      "Heave:  True\n",
      "0.0\n",
      "Pitch:  True\n",
      "0.0\n",
      "Wave:  True\n"
     ]
    }
   ],
   "source": [
    "print('Roll: ', check_stationary_adf(roll))\n",
    "print('Heave: ', check_stationary_adf(heave))\n",
    "print('Pitch: ', check_stationary_adf(pitch))\n",
    "print('Wave: ', check_stationary_adf(wave))"
   ]
  },
  {
   "cell_type": "code",
   "execution_count": 20,
   "metadata": {},
   "outputs": [
    {
     "name": "stdout",
     "output_type": "stream",
     "text": [
      "Roll:  True\n",
      "Heave:  True\n",
      "Pitch:  True\n",
      "Wave:  True\n"
     ]
    }
   ],
   "source": [
    "print('Roll: ', check_stationary_pf(roll))\n",
    "print('Heave: ', check_stationary_pf(heave))\n",
    "print('Pitch: ', check_stationary_pf(pitch))\n",
    "print('Wave: ', check_stationary_pf(wave))"
   ]
  },
  {
   "cell_type": "markdown",
   "metadata": {},
   "source": [
    "TRAINING"
   ]
  },
  {
   "cell_type": "code",
   "execution_count": 11,
   "metadata": {},
   "outputs": [],
   "source": [
    "# Defining the required callbacks\n",
    "from datetime import datetime\n",
    "\n",
    "early_stopping = tf.keras.callbacks.EarlyStopping(monitor='val_loss',\n",
    "                                                    patience=7,\n",
    "                                                    mode='min')\n",
    "\n",
    "checkpoint_filepath = 'models/RNN/11/model'\n",
    "model_checkpoint_callback = tf.keras.callbacks.ModelCheckpoint(\n",
    "    filepath=checkpoint_filepath,\n",
    "    save_weights_only=False,\n",
    "    monitor='val_loss',\n",
    "    mode='min',\n",
    "    save_best_only=True)\n",
    "\n",
    "reduce_lr = tf.keras.callbacks.ReduceLROnPlateau(monitor='val_loss', factor=0.5,\n",
    "                              patience=5, min_lr=0.000001)\n",
    "\n",
    "logdir = \"logs/11/\" + datetime.now().strftime(\"%Y%m%d-%H%M%S\")\n",
    "\n",
    "tensorboard_callback = tf.keras.callbacks.TensorBoard(log_dir=logdir, update_freq=500)"
   ]
  },
  {
   "cell_type": "code",
   "execution_count": 12,
   "metadata": {},
   "outputs": [
    {
     "data": {
      "text/html": [
       "\n",
       "      <iframe id=\"tensorboard-frame-fbf365f101b43a87\" width=\"100%\" height=\"800\" frameborder=\"0\">\n",
       "      </iframe>\n",
       "      <script>\n",
       "        (function() {\n",
       "          const frame = document.getElementById(\"tensorboard-frame-fbf365f101b43a87\");\n",
       "          const url = new URL(\"/\", window.location);\n",
       "          const port = 6006;\n",
       "          if (port) {\n",
       "            url.port = port;\n",
       "          }\n",
       "          frame.src = url;\n",
       "        })();\n",
       "      </script>\n",
       "    "
      ],
      "text/plain": [
       "<IPython.core.display.HTML object>"
      ]
     },
     "metadata": {},
     "output_type": "display_data"
    }
   ],
   "source": [
    "logdir = 'models/RNN/08/metrics'\n",
    "\n",
    "%tensorboard --logdir logs/11"
   ]
  },
  {
   "cell_type": "code",
   "execution_count": 13,
   "metadata": {},
   "outputs": [
    {
     "name": "stdout",
     "output_type": "stream",
     "text": [
      "Epoch 1/100\n",
      "    994/Unknown - 564s 561ms/step - loss: 3.4355e-05 - mean_absolute_percentage_error: 72.0926 - mean_absolute_error: 0.0022"
     ]
    },
    {
     "name": "stderr",
     "output_type": "stream",
     "text": [
      "WARNING:absl:Found untraced functions such as lstm_cell_layer_call_fn, lstm_cell_layer_call_and_return_conditional_losses, lstm_cell_1_layer_call_fn, lstm_cell_1_layer_call_and_return_conditional_losses while saving (showing 4 of 4). These functions will not be directly callable after loading.\n"
     ]
    },
    {
     "name": "stdout",
     "output_type": "stream",
     "text": [
      "INFO:tensorflow:Assets written to: models/RNN/11\\model\\assets\n"
     ]
    },
    {
     "name": "stderr",
     "output_type": "stream",
     "text": [
      "INFO:tensorflow:Assets written to: models/RNN/11\\model\\assets\n",
      "WARNING:absl:<keras.layers.recurrent.LSTMCell object at 0x000002752C2CB550> has the same name 'LSTMCell' as a built-in Keras object. Consider renaming <class 'keras.layers.recurrent.LSTMCell'> to avoid naming conflicts when loading with `tf.keras.models.load_model`. If renaming is not possible, pass the object in the `custom_objects` parameter of the load function.\n",
      "WARNING:absl:<keras.layers.recurrent.LSTMCell object at 0x000002752A01F0D0> has the same name 'LSTMCell' as a built-in Keras object. Consider renaming <class 'keras.layers.recurrent.LSTMCell'> to avoid naming conflicts when loading with `tf.keras.models.load_model`. If renaming is not possible, pass the object in the `custom_objects` parameter of the load function.\n"
     ]
    },
    {
     "name": "stdout",
     "output_type": "stream",
     "text": [
      "994/994 [==============================] - 962s 962ms/step - loss: 3.4355e-05 - mean_absolute_percentage_error: 72.0926 - mean_absolute_error: 0.0022 - val_loss: 1.8901e-06 - val_mean_absolute_percentage_error: 5.0155 - val_mean_absolute_error: 5.5246e-04\n",
      "Epoch 2/100\n",
      "994/994 [==============================] - ETA: 0s - loss: 1.3067e-05 - mean_absolute_percentage_error: 22.1290 - mean_absolute_error: 0.0011"
     ]
    },
    {
     "name": "stderr",
     "output_type": "stream",
     "text": [
      "WARNING:absl:Found untraced functions such as lstm_cell_layer_call_fn, lstm_cell_layer_call_and_return_conditional_losses, lstm_cell_1_layer_call_fn, lstm_cell_1_layer_call_and_return_conditional_losses while saving (showing 4 of 4). These functions will not be directly callable after loading.\n"
     ]
    },
    {
     "name": "stdout",
     "output_type": "stream",
     "text": [
      "INFO:tensorflow:Assets written to: models/RNN/11\\model\\assets\n"
     ]
    },
    {
     "name": "stderr",
     "output_type": "stream",
     "text": [
      "INFO:tensorflow:Assets written to: models/RNN/11\\model\\assets\n",
      "WARNING:absl:<keras.layers.recurrent.LSTMCell object at 0x000002752C2CB550> has the same name 'LSTMCell' as a built-in Keras object. Consider renaming <class 'keras.layers.recurrent.LSTMCell'> to avoid naming conflicts when loading with `tf.keras.models.load_model`. If renaming is not possible, pass the object in the `custom_objects` parameter of the load function.\n",
      "WARNING:absl:<keras.layers.recurrent.LSTMCell object at 0x000002752A01F0D0> has the same name 'LSTMCell' as a built-in Keras object. Consider renaming <class 'keras.layers.recurrent.LSTMCell'> to avoid naming conflicts when loading with `tf.keras.models.load_model`. If renaming is not possible, pass the object in the `custom_objects` parameter of the load function.\n"
     ]
    },
    {
     "name": "stdout",
     "output_type": "stream",
     "text": [
      "994/994 [==============================] - 969s 975ms/step - loss: 1.3067e-05 - mean_absolute_percentage_error: 22.1290 - mean_absolute_error: 0.0011 - val_loss: 7.0963e-07 - val_mean_absolute_percentage_error: 3.2915 - val_mean_absolute_error: 3.4893e-04\n",
      "Epoch 3/100\n",
      "994/994 [==============================] - ETA: 0s - loss: 5.5438e-06 - mean_absolute_percentage_error: 18.3111 - mean_absolute_error: 8.2785e-04"
     ]
    },
    {
     "name": "stderr",
     "output_type": "stream",
     "text": [
      "WARNING:absl:Found untraced functions such as lstm_cell_layer_call_fn, lstm_cell_layer_call_and_return_conditional_losses, lstm_cell_1_layer_call_fn, lstm_cell_1_layer_call_and_return_conditional_losses while saving (showing 4 of 4). These functions will not be directly callable after loading.\n"
     ]
    },
    {
     "name": "stdout",
     "output_type": "stream",
     "text": [
      "INFO:tensorflow:Assets written to: models/RNN/11\\model\\assets\n"
     ]
    },
    {
     "name": "stderr",
     "output_type": "stream",
     "text": [
      "INFO:tensorflow:Assets written to: models/RNN/11\\model\\assets\n",
      "WARNING:absl:<keras.layers.recurrent.LSTMCell object at 0x000002752C2CB550> has the same name 'LSTMCell' as a built-in Keras object. Consider renaming <class 'keras.layers.recurrent.LSTMCell'> to avoid naming conflicts when loading with `tf.keras.models.load_model`. If renaming is not possible, pass the object in the `custom_objects` parameter of the load function.\n",
      "WARNING:absl:<keras.layers.recurrent.LSTMCell object at 0x000002752A01F0D0> has the same name 'LSTMCell' as a built-in Keras object. Consider renaming <class 'keras.layers.recurrent.LSTMCell'> to avoid naming conflicts when loading with `tf.keras.models.load_model`. If renaming is not possible, pass the object in the `custom_objects` parameter of the load function.\n"
     ]
    },
    {
     "name": "stdout",
     "output_type": "stream",
     "text": [
      "994/994 [==============================] - 967s 973ms/step - loss: 5.5438e-06 - mean_absolute_percentage_error: 18.3111 - mean_absolute_error: 8.2785e-04 - val_loss: 5.4919e-07 - val_mean_absolute_percentage_error: 3.6654 - val_mean_absolute_error: 3.1156e-04\n",
      "Epoch 4/100\n",
      "994/994 [==============================] - ETA: 0s - loss: 1.0129e-05 - mean_absolute_percentage_error: 23.0604 - mean_absolute_error: 9.5451e-04"
     ]
    },
    {
     "name": "stderr",
     "output_type": "stream",
     "text": [
      "WARNING:absl:Found untraced functions such as lstm_cell_layer_call_fn, lstm_cell_layer_call_and_return_conditional_losses, lstm_cell_1_layer_call_fn, lstm_cell_1_layer_call_and_return_conditional_losses while saving (showing 4 of 4). These functions will not be directly callable after loading.\n"
     ]
    },
    {
     "name": "stdout",
     "output_type": "stream",
     "text": [
      "INFO:tensorflow:Assets written to: models/RNN/11\\model\\assets\n"
     ]
    },
    {
     "name": "stderr",
     "output_type": "stream",
     "text": [
      "INFO:tensorflow:Assets written to: models/RNN/11\\model\\assets\n",
      "WARNING:absl:<keras.layers.recurrent.LSTMCell object at 0x000002752C2CB550> has the same name 'LSTMCell' as a built-in Keras object. Consider renaming <class 'keras.layers.recurrent.LSTMCell'> to avoid naming conflicts when loading with `tf.keras.models.load_model`. If renaming is not possible, pass the object in the `custom_objects` parameter of the load function.\n",
      "WARNING:absl:<keras.layers.recurrent.LSTMCell object at 0x000002752A01F0D0> has the same name 'LSTMCell' as a built-in Keras object. Consider renaming <class 'keras.layers.recurrent.LSTMCell'> to avoid naming conflicts when loading with `tf.keras.models.load_model`. If renaming is not possible, pass the object in the `custom_objects` parameter of the load function.\n"
     ]
    },
    {
     "name": "stdout",
     "output_type": "stream",
     "text": [
      "994/994 [==============================] - 970s 976ms/step - loss: 1.0129e-05 - mean_absolute_percentage_error: 23.0604 - mean_absolute_error: 9.5451e-04 - val_loss: 3.5765e-07 - val_mean_absolute_percentage_error: 2.7093 - val_mean_absolute_error: 2.4677e-04\n",
      "Epoch 5/100\n",
      "994/994 [==============================] - ETA: 0s - loss: 1.1824e-06 - mean_absolute_percentage_error: 8.9113 - mean_absolute_error: 4.3188e-04"
     ]
    },
    {
     "name": "stderr",
     "output_type": "stream",
     "text": [
      "WARNING:absl:Found untraced functions such as lstm_cell_layer_call_fn, lstm_cell_layer_call_and_return_conditional_losses, lstm_cell_1_layer_call_fn, lstm_cell_1_layer_call_and_return_conditional_losses while saving (showing 4 of 4). These functions will not be directly callable after loading.\n"
     ]
    },
    {
     "name": "stdout",
     "output_type": "stream",
     "text": [
      "INFO:tensorflow:Assets written to: models/RNN/11\\model\\assets\n"
     ]
    },
    {
     "name": "stderr",
     "output_type": "stream",
     "text": [
      "INFO:tensorflow:Assets written to: models/RNN/11\\model\\assets\n",
      "WARNING:absl:<keras.layers.recurrent.LSTMCell object at 0x000002752C2CB550> has the same name 'LSTMCell' as a built-in Keras object. Consider renaming <class 'keras.layers.recurrent.LSTMCell'> to avoid naming conflicts when loading with `tf.keras.models.load_model`. If renaming is not possible, pass the object in the `custom_objects` parameter of the load function.\n",
      "WARNING:absl:<keras.layers.recurrent.LSTMCell object at 0x000002752A01F0D0> has the same name 'LSTMCell' as a built-in Keras object. Consider renaming <class 'keras.layers.recurrent.LSTMCell'> to avoid naming conflicts when loading with `tf.keras.models.load_model`. If renaming is not possible, pass the object in the `custom_objects` parameter of the load function.\n"
     ]
    },
    {
     "name": "stdout",
     "output_type": "stream",
     "text": [
      "994/994 [==============================] - 968s 974ms/step - loss: 1.1824e-06 - mean_absolute_percentage_error: 8.9113 - mean_absolute_error: 4.3188e-04 - val_loss: 1.7400e-07 - val_mean_absolute_percentage_error: 2.7705 - val_mean_absolute_error: 1.8418e-04\n",
      "Epoch 6/100\n",
      "994/994 [==============================] - 965s 971ms/step - loss: 6.5464e-06 - mean_absolute_percentage_error: 20.9074 - mean_absolute_error: 7.9280e-04 - val_loss: 1.8670e-07 - val_mean_absolute_percentage_error: 2.6726 - val_mean_absolute_error: 1.8641e-04\n",
      "Epoch 7/100\n",
      "994/994 [==============================] - ETA: 0s - loss: 1.9441e-06 - mean_absolute_percentage_error: 11.6159 - mean_absolute_error: 4.8374e-04"
     ]
    },
    {
     "name": "stderr",
     "output_type": "stream",
     "text": [
      "WARNING:absl:Found untraced functions such as lstm_cell_layer_call_fn, lstm_cell_layer_call_and_return_conditional_losses, lstm_cell_1_layer_call_fn, lstm_cell_1_layer_call_and_return_conditional_losses while saving (showing 4 of 4). These functions will not be directly callable after loading.\n"
     ]
    },
    {
     "name": "stdout",
     "output_type": "stream",
     "text": [
      "INFO:tensorflow:Assets written to: models/RNN/11\\model\\assets\n"
     ]
    },
    {
     "name": "stderr",
     "output_type": "stream",
     "text": [
      "INFO:tensorflow:Assets written to: models/RNN/11\\model\\assets\n",
      "WARNING:absl:<keras.layers.recurrent.LSTMCell object at 0x000002752C2CB550> has the same name 'LSTMCell' as a built-in Keras object. Consider renaming <class 'keras.layers.recurrent.LSTMCell'> to avoid naming conflicts when loading with `tf.keras.models.load_model`. If renaming is not possible, pass the object in the `custom_objects` parameter of the load function.\n",
      "WARNING:absl:<keras.layers.recurrent.LSTMCell object at 0x000002752A01F0D0> has the same name 'LSTMCell' as a built-in Keras object. Consider renaming <class 'keras.layers.recurrent.LSTMCell'> to avoid naming conflicts when loading with `tf.keras.models.load_model`. If renaming is not possible, pass the object in the `custom_objects` parameter of the load function.\n"
     ]
    },
    {
     "name": "stdout",
     "output_type": "stream",
     "text": [
      "994/994 [==============================] - 968s 974ms/step - loss: 1.9441e-06 - mean_absolute_percentage_error: 11.6159 - mean_absolute_error: 4.8374e-04 - val_loss: 1.1648e-07 - val_mean_absolute_percentage_error: 2.3002 - val_mean_absolute_error: 1.4767e-04\n",
      "Epoch 8/100\n",
      "994/994 [==============================] - ETA: 0s - loss: 6.8590e-06 - mean_absolute_percentage_error: 10.1211 - mean_absolute_error: 7.7878e-04"
     ]
    },
    {
     "name": "stderr",
     "output_type": "stream",
     "text": [
      "WARNING:absl:Found untraced functions such as lstm_cell_layer_call_fn, lstm_cell_layer_call_and_return_conditional_losses, lstm_cell_1_layer_call_fn, lstm_cell_1_layer_call_and_return_conditional_losses while saving (showing 4 of 4). These functions will not be directly callable after loading.\n"
     ]
    },
    {
     "name": "stdout",
     "output_type": "stream",
     "text": [
      "INFO:tensorflow:Assets written to: models/RNN/11\\model\\assets\n"
     ]
    },
    {
     "name": "stderr",
     "output_type": "stream",
     "text": [
      "INFO:tensorflow:Assets written to: models/RNN/11\\model\\assets\n",
      "WARNING:absl:<keras.layers.recurrent.LSTMCell object at 0x000002752C2CB550> has the same name 'LSTMCell' as a built-in Keras object. Consider renaming <class 'keras.layers.recurrent.LSTMCell'> to avoid naming conflicts when loading with `tf.keras.models.load_model`. If renaming is not possible, pass the object in the `custom_objects` parameter of the load function.\n",
      "WARNING:absl:<keras.layers.recurrent.LSTMCell object at 0x000002752A01F0D0> has the same name 'LSTMCell' as a built-in Keras object. Consider renaming <class 'keras.layers.recurrent.LSTMCell'> to avoid naming conflicts when loading with `tf.keras.models.load_model`. If renaming is not possible, pass the object in the `custom_objects` parameter of the load function.\n"
     ]
    },
    {
     "name": "stdout",
     "output_type": "stream",
     "text": [
      "994/994 [==============================] - 969s 974ms/step - loss: 6.8590e-06 - mean_absolute_percentage_error: 10.1211 - mean_absolute_error: 7.7878e-04 - val_loss: 8.2779e-08 - val_mean_absolute_percentage_error: 1.5059 - val_mean_absolute_error: 1.2553e-04\n",
      "Epoch 9/100\n",
      "994/994 [==============================] - ETA: 0s - loss: 4.8958e-06 - mean_absolute_percentage_error: 11.5647 - mean_absolute_error: 5.7672e-04"
     ]
    },
    {
     "name": "stderr",
     "output_type": "stream",
     "text": [
      "WARNING:absl:Found untraced functions such as lstm_cell_layer_call_fn, lstm_cell_layer_call_and_return_conditional_losses, lstm_cell_1_layer_call_fn, lstm_cell_1_layer_call_and_return_conditional_losses while saving (showing 4 of 4). These functions will not be directly callable after loading.\n"
     ]
    },
    {
     "name": "stdout",
     "output_type": "stream",
     "text": [
      "INFO:tensorflow:Assets written to: models/RNN/11\\model\\assets\n"
     ]
    },
    {
     "name": "stderr",
     "output_type": "stream",
     "text": [
      "INFO:tensorflow:Assets written to: models/RNN/11\\model\\assets\n",
      "WARNING:absl:<keras.layers.recurrent.LSTMCell object at 0x000002752C2CB550> has the same name 'LSTMCell' as a built-in Keras object. Consider renaming <class 'keras.layers.recurrent.LSTMCell'> to avoid naming conflicts when loading with `tf.keras.models.load_model`. If renaming is not possible, pass the object in the `custom_objects` parameter of the load function.\n",
      "WARNING:absl:<keras.layers.recurrent.LSTMCell object at 0x000002752A01F0D0> has the same name 'LSTMCell' as a built-in Keras object. Consider renaming <class 'keras.layers.recurrent.LSTMCell'> to avoid naming conflicts when loading with `tf.keras.models.load_model`. If renaming is not possible, pass the object in the `custom_objects` parameter of the load function.\n"
     ]
    },
    {
     "name": "stdout",
     "output_type": "stream",
     "text": [
      "994/994 [==============================] - 969s 975ms/step - loss: 4.8958e-06 - mean_absolute_percentage_error: 11.5647 - mean_absolute_error: 5.7672e-04 - val_loss: 5.9603e-08 - val_mean_absolute_percentage_error: 1.2414 - val_mean_absolute_error: 1.0860e-04\n",
      "Epoch 10/100\n",
      "994/994 [==============================] - ETA: 0s - loss: 3.2878e-07 - mean_absolute_percentage_error: 4.2189 - mean_absolute_error: 2.3767e-04"
     ]
    },
    {
     "name": "stderr",
     "output_type": "stream",
     "text": [
      "WARNING:absl:Found untraced functions such as lstm_cell_layer_call_fn, lstm_cell_layer_call_and_return_conditional_losses, lstm_cell_1_layer_call_fn, lstm_cell_1_layer_call_and_return_conditional_losses while saving (showing 4 of 4). These functions will not be directly callable after loading.\n"
     ]
    },
    {
     "name": "stdout",
     "output_type": "stream",
     "text": [
      "INFO:tensorflow:Assets written to: models/RNN/11\\model\\assets\n"
     ]
    },
    {
     "name": "stderr",
     "output_type": "stream",
     "text": [
      "INFO:tensorflow:Assets written to: models/RNN/11\\model\\assets\n",
      "WARNING:absl:<keras.layers.recurrent.LSTMCell object at 0x000002752C2CB550> has the same name 'LSTMCell' as a built-in Keras object. Consider renaming <class 'keras.layers.recurrent.LSTMCell'> to avoid naming conflicts when loading with `tf.keras.models.load_model`. If renaming is not possible, pass the object in the `custom_objects` parameter of the load function.\n",
      "WARNING:absl:<keras.layers.recurrent.LSTMCell object at 0x000002752A01F0D0> has the same name 'LSTMCell' as a built-in Keras object. Consider renaming <class 'keras.layers.recurrent.LSTMCell'> to avoid naming conflicts when loading with `tf.keras.models.load_model`. If renaming is not possible, pass the object in the `custom_objects` parameter of the load function.\n"
     ]
    },
    {
     "name": "stdout",
     "output_type": "stream",
     "text": [
      "994/994 [==============================] - 968s 974ms/step - loss: 3.2878e-07 - mean_absolute_percentage_error: 4.2189 - mean_absolute_error: 2.3767e-04 - val_loss: 4.7131e-08 - val_mean_absolute_percentage_error: 1.0898 - val_mean_absolute_error: 9.3842e-05\n",
      "Epoch 11/100\n",
      "994/994 [==============================] - 965s 971ms/step - loss: 6.2705e-06 - mean_absolute_percentage_error: 12.2997 - mean_absolute_error: 6.6538e-04 - val_loss: 5.1120e-08 - val_mean_absolute_percentage_error: 1.1076 - val_mean_absolute_error: 9.8410e-05\n",
      "Epoch 12/100\n",
      "994/994 [==============================] - ETA: 0s - loss: 5.6956e-06 - mean_absolute_percentage_error: 8.5431 - mean_absolute_error: 5.7538e-04"
     ]
    },
    {
     "name": "stderr",
     "output_type": "stream",
     "text": [
      "WARNING:absl:Found untraced functions such as lstm_cell_layer_call_fn, lstm_cell_layer_call_and_return_conditional_losses, lstm_cell_1_layer_call_fn, lstm_cell_1_layer_call_and_return_conditional_losses while saving (showing 4 of 4). These functions will not be directly callable after loading.\n"
     ]
    },
    {
     "name": "stdout",
     "output_type": "stream",
     "text": [
      "INFO:tensorflow:Assets written to: models/RNN/11\\model\\assets\n"
     ]
    },
    {
     "name": "stderr",
     "output_type": "stream",
     "text": [
      "INFO:tensorflow:Assets written to: models/RNN/11\\model\\assets\n",
      "WARNING:absl:<keras.layers.recurrent.LSTMCell object at 0x000002752C2CB550> has the same name 'LSTMCell' as a built-in Keras object. Consider renaming <class 'keras.layers.recurrent.LSTMCell'> to avoid naming conflicts when loading with `tf.keras.models.load_model`. If renaming is not possible, pass the object in the `custom_objects` parameter of the load function.\n",
      "WARNING:absl:<keras.layers.recurrent.LSTMCell object at 0x000002752A01F0D0> has the same name 'LSTMCell' as a built-in Keras object. Consider renaming <class 'keras.layers.recurrent.LSTMCell'> to avoid naming conflicts when loading with `tf.keras.models.load_model`. If renaming is not possible, pass the object in the `custom_objects` parameter of the load function.\n"
     ]
    },
    {
     "name": "stdout",
     "output_type": "stream",
     "text": [
      "994/994 [==============================] - 966s 972ms/step - loss: 5.6956e-06 - mean_absolute_percentage_error: 8.5431 - mean_absolute_error: 5.7538e-04 - val_loss: 4.1092e-08 - val_mean_absolute_percentage_error: 0.9868 - val_mean_absolute_error: 8.7581e-05\n",
      "Epoch 13/100\n",
      "994/994 [==============================] - ETA: 0s - loss: 6.5324e-07 - mean_absolute_percentage_error: 14.0669 - mean_absolute_error: 3.1810e-04"
     ]
    },
    {
     "name": "stderr",
     "output_type": "stream",
     "text": [
      "WARNING:absl:Found untraced functions such as lstm_cell_layer_call_fn, lstm_cell_layer_call_and_return_conditional_losses, lstm_cell_1_layer_call_fn, lstm_cell_1_layer_call_and_return_conditional_losses while saving (showing 4 of 4). These functions will not be directly callable after loading.\n"
     ]
    },
    {
     "name": "stdout",
     "output_type": "stream",
     "text": [
      "INFO:tensorflow:Assets written to: models/RNN/11\\model\\assets\n"
     ]
    },
    {
     "name": "stderr",
     "output_type": "stream",
     "text": [
      "INFO:tensorflow:Assets written to: models/RNN/11\\model\\assets\n",
      "WARNING:absl:<keras.layers.recurrent.LSTMCell object at 0x000002752C2CB550> has the same name 'LSTMCell' as a built-in Keras object. Consider renaming <class 'keras.layers.recurrent.LSTMCell'> to avoid naming conflicts when loading with `tf.keras.models.load_model`. If renaming is not possible, pass the object in the `custom_objects` parameter of the load function.\n",
      "WARNING:absl:<keras.layers.recurrent.LSTMCell object at 0x000002752A01F0D0> has the same name 'LSTMCell' as a built-in Keras object. Consider renaming <class 'keras.layers.recurrent.LSTMCell'> to avoid naming conflicts when loading with `tf.keras.models.load_model`. If renaming is not possible, pass the object in the `custom_objects` parameter of the load function.\n"
     ]
    },
    {
     "name": "stdout",
     "output_type": "stream",
     "text": [
      "994/994 [==============================] - 968s 974ms/step - loss: 6.5324e-07 - mean_absolute_percentage_error: 14.0669 - mean_absolute_error: 3.1810e-04 - val_loss: 2.5690e-08 - val_mean_absolute_percentage_error: 0.8946 - val_mean_absolute_error: 7.0342e-05\n",
      "Epoch 14/100\n",
      "994/994 [==============================] - 961s 967ms/step - loss: 8.4914e-06 - mean_absolute_percentage_error: 9.5404 - mean_absolute_error: 6.9047e-04 - val_loss: 5.6812e-08 - val_mean_absolute_percentage_error: 0.9794 - val_mean_absolute_error: 1.0119e-04\n",
      "Epoch 15/100\n",
      "994/994 [==============================] - 960s 967ms/step - loss: 1.3027e-06 - mean_absolute_percentage_error: 14.5496 - mean_absolute_error: 3.8408e-04 - val_loss: 4.4226e-08 - val_mean_absolute_percentage_error: 0.8753 - val_mean_absolute_error: 8.3948e-05\n",
      "Epoch 16/100\n",
      "994/994 [==============================] - ETA: 0s - loss: 5.2040e-07 - mean_absolute_percentage_error: 6.1832 - mean_absolute_error: 2.4624e-04"
     ]
    },
    {
     "name": "stderr",
     "output_type": "stream",
     "text": [
      "WARNING:absl:Found untraced functions such as lstm_cell_layer_call_fn, lstm_cell_layer_call_and_return_conditional_losses, lstm_cell_1_layer_call_fn, lstm_cell_1_layer_call_and_return_conditional_losses while saving (showing 4 of 4). These functions will not be directly callable after loading.\n"
     ]
    },
    {
     "name": "stdout",
     "output_type": "stream",
     "text": [
      "INFO:tensorflow:Assets written to: models/RNN/11\\model\\assets\n"
     ]
    },
    {
     "name": "stderr",
     "output_type": "stream",
     "text": [
      "INFO:tensorflow:Assets written to: models/RNN/11\\model\\assets\n",
      "WARNING:absl:<keras.layers.recurrent.LSTMCell object at 0x000002752C2CB550> has the same name 'LSTMCell' as a built-in Keras object. Consider renaming <class 'keras.layers.recurrent.LSTMCell'> to avoid naming conflicts when loading with `tf.keras.models.load_model`. If renaming is not possible, pass the object in the `custom_objects` parameter of the load function.\n",
      "WARNING:absl:<keras.layers.recurrent.LSTMCell object at 0x000002752A01F0D0> has the same name 'LSTMCell' as a built-in Keras object. Consider renaming <class 'keras.layers.recurrent.LSTMCell'> to avoid naming conflicts when loading with `tf.keras.models.load_model`. If renaming is not possible, pass the object in the `custom_objects` parameter of the load function.\n"
     ]
    },
    {
     "name": "stdout",
     "output_type": "stream",
     "text": [
      "994/994 [==============================] - 964s 970ms/step - loss: 5.2040e-07 - mean_absolute_percentage_error: 6.1832 - mean_absolute_error: 2.4624e-04 - val_loss: 1.8449e-08 - val_mean_absolute_percentage_error: 0.8083 - val_mean_absolute_error: 5.9117e-05\n",
      "Epoch 17/100\n",
      "994/994 [==============================] - 964s 970ms/step - loss: 1.0037e-05 - mean_absolute_percentage_error: 29.9841 - mean_absolute_error: 9.7495e-04 - val_loss: 9.4470e-08 - val_mean_absolute_percentage_error: 1.2234 - val_mean_absolute_error: 1.2268e-04\n",
      "Epoch 18/100\n",
      "994/994 [==============================] - 963s 969ms/step - loss: 1.8045e-07 - mean_absolute_percentage_error: 2.7596 - mean_absolute_error: 1.8555e-04 - val_loss: 2.8664e-08 - val_mean_absolute_percentage_error: 1.1895 - val_mean_absolute_error: 7.5585e-05\n",
      "Epoch 19/100\n",
      "994/994 [==============================] - 963s 969ms/step - loss: 3.9927e-06 - mean_absolute_percentage_error: 6.2387 - mean_absolute_error: 4.6333e-04 - val_loss: 2.6971e-08 - val_mean_absolute_percentage_error: 0.9296 - val_mean_absolute_error: 6.9566e-05\n",
      "Epoch 20/100\n",
      "994/994 [==============================] - 963s 969ms/step - loss: 1.5788e-06 - mean_absolute_percentage_error: 9.4033 - mean_absolute_error: 3.7366e-04 - val_loss: 2.6596e-08 - val_mean_absolute_percentage_error: 0.9259 - val_mean_absolute_error: 6.6766e-05\n",
      "Epoch 21/100\n",
      "994/994 [==============================] - 963s 969ms/step - loss: 5.6568e-07 - mean_absolute_percentage_error: 11.5863 - mean_absolute_error: 3.1235e-04 - val_loss: 2.5852e-08 - val_mean_absolute_percentage_error: 0.8697 - val_mean_absolute_error: 6.5357e-05\n",
      "Epoch 22/100\n",
      "994/994 [==============================] - 959s 965ms/step - loss: 1.2475e-05 - mean_absolute_percentage_error: 14.3250 - mean_absolute_error: 8.8247e-04 - val_loss: 1.0153e-07 - val_mean_absolute_percentage_error: 1.3570 - val_mean_absolute_error: 1.1961e-04\n",
      "Epoch 23/100\n",
      "994/994 [==============================] - 959s 966ms/step - loss: 3.4736e-06 - mean_absolute_percentage_error: 13.4438 - mean_absolute_error: 5.5806e-04 - val_loss: 3.3382e-08 - val_mean_absolute_percentage_error: 0.7287 - val_mean_absolute_error: 7.3819e-05\n",
      "Epoch 24/100\n",
      "994/994 [==============================] - 961s 967ms/step - loss: 5.7681e-08 - mean_absolute_percentage_error: 7.5786 - mean_absolute_error: 1.2913e-04 - val_loss: 2.1348e-08 - val_mean_absolute_percentage_error: 0.6541 - val_mean_absolute_error: 6.0194e-05\n",
      "Epoch 25/100\n",
      "994/994 [==============================] - 960s 967ms/step - loss: 1.3607e-06 - mean_absolute_percentage_error: 10.5516 - mean_absolute_error: 3.5879e-04 - val_loss: 2.6944e-08 - val_mean_absolute_percentage_error: 0.7046 - val_mean_absolute_error: 6.0691e-05\n",
      "Epoch 26/100\n",
      "994/994 [==============================] - ETA: 0s - loss: 1.0005e-06 - mean_absolute_percentage_error: 4.5127 - mean_absolute_error: 3.1558e-04"
     ]
    },
    {
     "name": "stderr",
     "output_type": "stream",
     "text": [
      "WARNING:absl:Found untraced functions such as lstm_cell_layer_call_fn, lstm_cell_layer_call_and_return_conditional_losses, lstm_cell_1_layer_call_fn, lstm_cell_1_layer_call_and_return_conditional_losses while saving (showing 4 of 4). These functions will not be directly callable after loading.\n"
     ]
    },
    {
     "name": "stdout",
     "output_type": "stream",
     "text": [
      "INFO:tensorflow:Assets written to: models/RNN/11\\model\\assets\n"
     ]
    },
    {
     "name": "stderr",
     "output_type": "stream",
     "text": [
      "INFO:tensorflow:Assets written to: models/RNN/11\\model\\assets\n",
      "WARNING:absl:<keras.layers.recurrent.LSTMCell object at 0x000002752C2CB550> has the same name 'LSTMCell' as a built-in Keras object. Consider renaming <class 'keras.layers.recurrent.LSTMCell'> to avoid naming conflicts when loading with `tf.keras.models.load_model`. If renaming is not possible, pass the object in the `custom_objects` parameter of the load function.\n",
      "WARNING:absl:<keras.layers.recurrent.LSTMCell object at 0x000002752A01F0D0> has the same name 'LSTMCell' as a built-in Keras object. Consider renaming <class 'keras.layers.recurrent.LSTMCell'> to avoid naming conflicts when loading with `tf.keras.models.load_model`. If renaming is not possible, pass the object in the `custom_objects` parameter of the load function.\n"
     ]
    },
    {
     "name": "stdout",
     "output_type": "stream",
     "text": [
      "994/994 [==============================] - 967s 973ms/step - loss: 1.0005e-06 - mean_absolute_percentage_error: 4.5127 - mean_absolute_error: 3.1558e-04 - val_loss: 1.6492e-08 - val_mean_absolute_percentage_error: 0.7035 - val_mean_absolute_error: 5.2578e-05\n",
      "Epoch 27/100\n",
      "994/994 [==============================] - 958s 964ms/step - loss: 4.8414e-06 - mean_absolute_percentage_error: 7.1481 - mean_absolute_error: 5.4278e-04 - val_loss: 3.4575e-08 - val_mean_absolute_percentage_error: 0.8160 - val_mean_absolute_error: 7.1831e-05\n",
      "Epoch 28/100\n",
      "994/994 [==============================] - 962s 968ms/step - loss: 9.2929e-06 - mean_absolute_percentage_error: 20.9705 - mean_absolute_error: 7.9186e-04 - val_loss: 3.5844e-08 - val_mean_absolute_percentage_error: 0.7321 - val_mean_absolute_error: 6.4615e-05\n",
      "Epoch 29/100\n",
      "994/994 [==============================] - 960s 966ms/step - loss: 1.7068e-07 - mean_absolute_percentage_error: 12.5721 - mean_absolute_error: 1.9800e-04 - val_loss: 2.7730e-08 - val_mean_absolute_percentage_error: 0.6375 - val_mean_absolute_error: 5.7189e-05\n",
      "Epoch 30/100\n",
      "994/994 [==============================] - 959s 965ms/step - loss: 8.1712e-06 - mean_absolute_percentage_error: 34.3114 - mean_absolute_error: 8.7556e-04 - val_loss: 3.9542e-08 - val_mean_absolute_percentage_error: 0.7821 - val_mean_absolute_error: 6.7896e-05\n",
      "Epoch 31/100\n",
      "994/994 [==============================] - 962s 968ms/step - loss: 6.0569e-08 - mean_absolute_percentage_error: 3.4475 - mean_absolute_error: 1.0725e-04 - val_loss: 2.4368e-08 - val_mean_absolute_percentage_error: 0.5226 - val_mean_absolute_error: 5.2558e-05\n",
      "Epoch 32/100\n",
      "994/994 [==============================] - 959s 965ms/step - loss: 7.2375e-07 - mean_absolute_percentage_error: 17.7412 - mean_absolute_error: 3.5849e-04 - val_loss: 2.8478e-08 - val_mean_absolute_percentage_error: 0.6041 - val_mean_absolute_error: 5.5451e-05\n",
      "Epoch 33/100\n",
      "994/994 [==============================] - 962s 968ms/step - loss: 3.4246e-06 - mean_absolute_percentage_error: 7.7175 - mean_absolute_error: 4.9138e-04 - val_loss: 2.4828e-08 - val_mean_absolute_percentage_error: 0.5554 - val_mean_absolute_error: 5.3014e-05\n",
      "Epoch 34/100\n",
      "994/994 [==============================] - 956s 962ms/step - loss: 1.9232e-07 - mean_absolute_percentage_error: 12.0802 - mean_absolute_error: 2.1863e-04 - val_loss: 6.1931e-07 - val_mean_absolute_percentage_error: 50.0810 - val_mean_absolute_error: 7.7666e-04\n",
      "Epoch 35/100\n",
      "994/994 [==============================] - 965s 971ms/step - loss: 6.1781e-06 - mean_absolute_percentage_error: 28.0662 - mean_absolute_error: 7.9272e-04 - val_loss: 4.1317e-08 - val_mean_absolute_percentage_error: 0.8494 - val_mean_absolute_error: 6.4569e-05\n",
      "Epoch 36/100\n",
      "994/994 [==============================] - 970s 976ms/step - loss: 1.5283e-07 - mean_absolute_percentage_error: 6.4552 - mean_absolute_error: 1.6511e-04 - val_loss: 2.4307e-08 - val_mean_absolute_percentage_error: 0.6441 - val_mean_absolute_error: 5.2490e-05\n",
      "Epoch 37/100\n",
      "994/994 [==============================] - 960s 966ms/step - loss: 1.7479e-06 - mean_absolute_percentage_error: 8.6422 - mean_absolute_error: 3.7479e-04 - val_loss: 2.1147e-08 - val_mean_absolute_percentage_error: 0.5495 - val_mean_absolute_error: 4.8860e-05\n",
      "Epoch 38/100\n",
      "994/994 [==============================] - 955s 961ms/step - loss: 5.8810e-07 - mean_absolute_percentage_error: 16.1364 - mean_absolute_error: 3.0586e-04 - val_loss: 2.3130e-08 - val_mean_absolute_percentage_error: 0.5663 - val_mean_absolute_error: 4.9693e-05\n",
      "Epoch 39/100\n",
      "994/994 [==============================] - 952s 958ms/step - loss: 4.2623e-06 - mean_absolute_percentage_error: 6.5094 - mean_absolute_error: 5.3223e-04 - val_loss: 1.9345e-08 - val_mean_absolute_percentage_error: 0.7573 - val_mean_absolute_error: 4.8455e-05\n",
      "Epoch 40/100\n",
      "994/994 [==============================] - 949s 955ms/step - loss: 1.3675e-07 - mean_absolute_percentage_error: 7.1714 - mean_absolute_error: 1.5503e-04 - val_loss: 1.6704e-08 - val_mean_absolute_percentage_error: 0.5365 - val_mean_absolute_error: 4.5329e-05\n",
      "Epoch 41/100\n",
      "994/994 [==============================] - 945s 952ms/step - loss: 1.9587e-06 - mean_absolute_percentage_error: 9.5426 - mean_absolute_error: 4.0345e-04 - val_loss: 2.0197e-08 - val_mean_absolute_percentage_error: 0.4823 - val_mean_absolute_error: 4.8392e-05\n",
      "Epoch 42/100\n",
      "994/994 [==============================] - ETA: 0s - loss: 3.1180e-07 - mean_absolute_percentage_error: 11.8097 - mean_absolute_error: 2.3831e-04"
     ]
    },
    {
     "name": "stderr",
     "output_type": "stream",
     "text": [
      "WARNING:absl:Found untraced functions such as lstm_cell_layer_call_fn, lstm_cell_layer_call_and_return_conditional_losses, lstm_cell_1_layer_call_fn, lstm_cell_1_layer_call_and_return_conditional_losses while saving (showing 4 of 4). These functions will not be directly callable after loading.\n"
     ]
    },
    {
     "name": "stdout",
     "output_type": "stream",
     "text": [
      "INFO:tensorflow:Assets written to: models/RNN/11\\model\\assets\n"
     ]
    },
    {
     "name": "stderr",
     "output_type": "stream",
     "text": [
      "INFO:tensorflow:Assets written to: models/RNN/11\\model\\assets\n",
      "WARNING:absl:<keras.layers.recurrent.LSTMCell object at 0x000002752C2CB550> has the same name 'LSTMCell' as a built-in Keras object. Consider renaming <class 'keras.layers.recurrent.LSTMCell'> to avoid naming conflicts when loading with `tf.keras.models.load_model`. If renaming is not possible, pass the object in the `custom_objects` parameter of the load function.\n",
      "WARNING:absl:<keras.layers.recurrent.LSTMCell object at 0x000002752A01F0D0> has the same name 'LSTMCell' as a built-in Keras object. Consider renaming <class 'keras.layers.recurrent.LSTMCell'> to avoid naming conflicts when loading with `tf.keras.models.load_model`. If renaming is not possible, pass the object in the `custom_objects` parameter of the load function.\n"
     ]
    },
    {
     "name": "stdout",
     "output_type": "stream",
     "text": [
      "994/994 [==============================] - 953s 959ms/step - loss: 3.1180e-07 - mean_absolute_percentage_error: 11.8097 - mean_absolute_error: 2.3831e-04 - val_loss: 1.5580e-08 - val_mean_absolute_percentage_error: 0.7434 - val_mean_absolute_error: 4.5471e-05\n",
      "Epoch 43/100\n",
      "994/994 [==============================] - 945s 951ms/step - loss: 6.6220e-06 - mean_absolute_percentage_error: 25.4624 - mean_absolute_error: 7.6174e-04 - val_loss: 3.0698e-08 - val_mean_absolute_percentage_error: 0.8076 - val_mean_absolute_error: 5.4585e-05\n",
      "Epoch 44/100\n",
      "994/994 [==============================] - 947s 953ms/step - loss: 2.0050e-07 - mean_absolute_percentage_error: 8.4241 - mean_absolute_error: 1.8874e-04 - val_loss: 2.0473e-08 - val_mean_absolute_percentage_error: 0.5870 - val_mean_absolute_error: 4.6655e-05\n",
      "Epoch 45/100\n",
      "994/994 [==============================] - ETA: 0s - loss: 1.5488e-06 - mean_absolute_percentage_error: 16.7845 - mean_absolute_error: 3.9343e-04"
     ]
    },
    {
     "name": "stderr",
     "output_type": "stream",
     "text": [
      "WARNING:absl:Found untraced functions such as lstm_cell_layer_call_fn, lstm_cell_layer_call_and_return_conditional_losses, lstm_cell_1_layer_call_fn, lstm_cell_1_layer_call_and_return_conditional_losses while saving (showing 4 of 4). These functions will not be directly callable after loading.\n"
     ]
    },
    {
     "name": "stdout",
     "output_type": "stream",
     "text": [
      "INFO:tensorflow:Assets written to: models/RNN/11\\model\\assets\n"
     ]
    },
    {
     "name": "stderr",
     "output_type": "stream",
     "text": [
      "INFO:tensorflow:Assets written to: models/RNN/11\\model\\assets\n",
      "WARNING:absl:<keras.layers.recurrent.LSTMCell object at 0x000002752C2CB550> has the same name 'LSTMCell' as a built-in Keras object. Consider renaming <class 'keras.layers.recurrent.LSTMCell'> to avoid naming conflicts when loading with `tf.keras.models.load_model`. If renaming is not possible, pass the object in the `custom_objects` parameter of the load function.\n",
      "WARNING:absl:<keras.layers.recurrent.LSTMCell object at 0x000002752A01F0D0> has the same name 'LSTMCell' as a built-in Keras object. Consider renaming <class 'keras.layers.recurrent.LSTMCell'> to avoid naming conflicts when loading with `tf.keras.models.load_model`. If renaming is not possible, pass the object in the `custom_objects` parameter of the load function.\n"
     ]
    },
    {
     "name": "stdout",
     "output_type": "stream",
     "text": [
      "994/994 [==============================] - 951s 957ms/step - loss: 1.5488e-06 - mean_absolute_percentage_error: 16.7845 - mean_absolute_error: 3.9343e-04 - val_loss: 1.4674e-08 - val_mean_absolute_percentage_error: 0.5805 - val_mean_absolute_error: 4.2721e-05\n",
      "Epoch 46/100\n",
      "994/994 [==============================] - 940s 946ms/step - loss: 1.9133e-07 - mean_absolute_percentage_error: 11.1246 - mean_absolute_error: 2.0716e-04 - val_loss: 1.4989e-06 - val_mean_absolute_percentage_error: 79.2561 - val_mean_absolute_error: 0.0012\n",
      "Epoch 47/100\n",
      "994/994 [==============================] - 947s 953ms/step - loss: 8.5785e-06 - mean_absolute_percentage_error: 16.0924 - mean_absolute_error: 7.0061e-04 - val_loss: 4.0022e-08 - val_mean_absolute_percentage_error: 1.1414 - val_mean_absolute_error: 6.4494e-05\n",
      "Epoch 48/100\n",
      "994/994 [==============================] - 944s 950ms/step - loss: 5.1732e-06 - mean_absolute_percentage_error: 56.6832 - mean_absolute_error: 8.5628e-04 - val_loss: 2.2787e-08 - val_mean_absolute_percentage_error: 1.0538 - val_mean_absolute_error: 5.4020e-05\n",
      "Epoch 49/100\n",
      "994/994 [==============================] - 944s 950ms/step - loss: 5.2973e-08 - mean_absolute_percentage_error: 2.6499 - mean_absolute_error: 1.0005e-04 - val_loss: 1.6012e-08 - val_mean_absolute_percentage_error: 0.5739 - val_mean_absolute_error: 4.3116e-05\n",
      "Epoch 50/100\n",
      "994/994 [==============================] - 944s 950ms/step - loss: 1.7391e-07 - mean_absolute_percentage_error: 12.2135 - mean_absolute_error: 2.3773e-04 - val_loss: 2.6387e-07 - val_mean_absolute_percentage_error: 31.3229 - val_mean_absolute_error: 4.8730e-04\n",
      "Epoch 51/100\n",
      "994/994 [==============================] - 946s 952ms/step - loss: 2.1536e-06 - mean_absolute_percentage_error: 14.2478 - mean_absolute_error: 4.6512e-04 - val_loss: 1.5274e-08 - val_mean_absolute_percentage_error: 0.7065 - val_mean_absolute_error: 4.5291e-05\n",
      "Epoch 52/100\n",
      "994/994 [==============================] - 939s 945ms/step - loss: 1.0043e-07 - mean_absolute_percentage_error: 9.1577 - mean_absolute_error: 1.7919e-04 - val_loss: 4.9501e-08 - val_mean_absolute_percentage_error: 1.7156 - val_mean_absolute_error: 1.0846e-04\n",
      "Epoch 53/100\n",
      "994/994 [==============================] - ETA: 0s - loss: 8.8587e-07 - mean_absolute_percentage_error: 9.0670 - mean_absolute_error: 3.6835e-04"
     ]
    },
    {
     "name": "stderr",
     "output_type": "stream",
     "text": [
      "WARNING:absl:Found untraced functions such as lstm_cell_layer_call_fn, lstm_cell_layer_call_and_return_conditional_losses, lstm_cell_1_layer_call_fn, lstm_cell_1_layer_call_and_return_conditional_losses while saving (showing 4 of 4). These functions will not be directly callable after loading.\n"
     ]
    },
    {
     "name": "stdout",
     "output_type": "stream",
     "text": [
      "INFO:tensorflow:Assets written to: models/RNN/11\\model\\assets\n"
     ]
    },
    {
     "name": "stderr",
     "output_type": "stream",
     "text": [
      "INFO:tensorflow:Assets written to: models/RNN/11\\model\\assets\n",
      "WARNING:absl:<keras.layers.recurrent.LSTMCell object at 0x000002752C2CB550> has the same name 'LSTMCell' as a built-in Keras object. Consider renaming <class 'keras.layers.recurrent.LSTMCell'> to avoid naming conflicts when loading with `tf.keras.models.load_model`. If renaming is not possible, pass the object in the `custom_objects` parameter of the load function.\n",
      "WARNING:absl:<keras.layers.recurrent.LSTMCell object at 0x000002752A01F0D0> has the same name 'LSTMCell' as a built-in Keras object. Consider renaming <class 'keras.layers.recurrent.LSTMCell'> to avoid naming conflicts when loading with `tf.keras.models.load_model`. If renaming is not possible, pass the object in the `custom_objects` parameter of the load function.\n"
     ]
    },
    {
     "name": "stdout",
     "output_type": "stream",
     "text": [
      "994/994 [==============================] - 952s 958ms/step - loss: 8.8587e-07 - mean_absolute_percentage_error: 9.0670 - mean_absolute_error: 3.6835e-04 - val_loss: 1.1723e-08 - val_mean_absolute_percentage_error: 0.6307 - val_mean_absolute_error: 3.8873e-05\n",
      "Epoch 54/100\n",
      "994/994 [==============================] - 942s 947ms/step - loss: 5.0768e-06 - mean_absolute_percentage_error: 46.3792 - mean_absolute_error: 8.0600e-04 - val_loss: 1.9983e-08 - val_mean_absolute_percentage_error: 1.4406 - val_mean_absolute_error: 6.6521e-05\n",
      "Epoch 55/100\n",
      "994/994 [==============================] - ETA: 0s - loss: 4.5576e-08 - mean_absolute_percentage_error: 2.8233 - mean_absolute_error: 8.6849e-05"
     ]
    },
    {
     "name": "stderr",
     "output_type": "stream",
     "text": [
      "WARNING:absl:Found untraced functions such as lstm_cell_layer_call_fn, lstm_cell_layer_call_and_return_conditional_losses, lstm_cell_1_layer_call_fn, lstm_cell_1_layer_call_and_return_conditional_losses while saving (showing 4 of 4). These functions will not be directly callable after loading.\n"
     ]
    },
    {
     "name": "stdout",
     "output_type": "stream",
     "text": [
      "INFO:tensorflow:Assets written to: models/RNN/11\\model\\assets\n"
     ]
    },
    {
     "name": "stderr",
     "output_type": "stream",
     "text": [
      "INFO:tensorflow:Assets written to: models/RNN/11\\model\\assets\n",
      "WARNING:absl:<keras.layers.recurrent.LSTMCell object at 0x000002752C2CB550> has the same name 'LSTMCell' as a built-in Keras object. Consider renaming <class 'keras.layers.recurrent.LSTMCell'> to avoid naming conflicts when loading with `tf.keras.models.load_model`. If renaming is not possible, pass the object in the `custom_objects` parameter of the load function.\n",
      "WARNING:absl:<keras.layers.recurrent.LSTMCell object at 0x000002752A01F0D0> has the same name 'LSTMCell' as a built-in Keras object. Consider renaming <class 'keras.layers.recurrent.LSTMCell'> to avoid naming conflicts when loading with `tf.keras.models.load_model`. If renaming is not possible, pass the object in the `custom_objects` parameter of the load function.\n"
     ]
    },
    {
     "name": "stdout",
     "output_type": "stream",
     "text": [
      "994/994 [==============================] - 946s 952ms/step - loss: 4.5576e-08 - mean_absolute_percentage_error: 2.8233 - mean_absolute_error: 8.6849e-05 - val_loss: 9.4928e-09 - val_mean_absolute_percentage_error: 0.8690 - val_mean_absolute_error: 3.9605e-05\n",
      "Epoch 56/100\n",
      "994/994 [==============================] - 945s 951ms/step - loss: 4.8604e-07 - mean_absolute_percentage_error: 9.9439 - mean_absolute_error: 2.4830e-04 - val_loss: 1.0242e-08 - val_mean_absolute_percentage_error: 0.6480 - val_mean_absolute_error: 3.7615e-05\n",
      "Epoch 57/100\n",
      "994/994 [==============================] - ETA: 0s - loss: 1.4582e-06 - mean_absolute_percentage_error: 5.7310 - mean_absolute_error: 3.1539e-04"
     ]
    },
    {
     "name": "stderr",
     "output_type": "stream",
     "text": [
      "WARNING:absl:Found untraced functions such as lstm_cell_layer_call_fn, lstm_cell_layer_call_and_return_conditional_losses, lstm_cell_1_layer_call_fn, lstm_cell_1_layer_call_and_return_conditional_losses while saving (showing 4 of 4). These functions will not be directly callable after loading.\n"
     ]
    },
    {
     "name": "stdout",
     "output_type": "stream",
     "text": [
      "INFO:tensorflow:Assets written to: models/RNN/11\\model\\assets\n"
     ]
    },
    {
     "name": "stderr",
     "output_type": "stream",
     "text": [
      "INFO:tensorflow:Assets written to: models/RNN/11\\model\\assets\n",
      "WARNING:absl:<keras.layers.recurrent.LSTMCell object at 0x000002752C2CB550> has the same name 'LSTMCell' as a built-in Keras object. Consider renaming <class 'keras.layers.recurrent.LSTMCell'> to avoid naming conflicts when loading with `tf.keras.models.load_model`. If renaming is not possible, pass the object in the `custom_objects` parameter of the load function.\n",
      "WARNING:absl:<keras.layers.recurrent.LSTMCell object at 0x000002752A01F0D0> has the same name 'LSTMCell' as a built-in Keras object. Consider renaming <class 'keras.layers.recurrent.LSTMCell'> to avoid naming conflicts when loading with `tf.keras.models.load_model`. If renaming is not possible, pass the object in the `custom_objects` parameter of the load function.\n"
     ]
    },
    {
     "name": "stdout",
     "output_type": "stream",
     "text": [
      "994/994 [==============================] - 950s 956ms/step - loss: 1.4582e-06 - mean_absolute_percentage_error: 5.7310 - mean_absolute_error: 3.1539e-04 - val_loss: 9.0923e-09 - val_mean_absolute_percentage_error: 0.8737 - val_mean_absolute_error: 4.0508e-05\n",
      "Epoch 58/100\n",
      "994/994 [==============================] - 947s 952ms/step - loss: 2.0205e-07 - mean_absolute_percentage_error: 7.1143 - mean_absolute_error: 1.7443e-04 - val_loss: 9.6857e-09 - val_mean_absolute_percentage_error: 1.4568 - val_mean_absolute_error: 4.6497e-05\n",
      "Epoch 59/100\n",
      "994/994 [==============================] - ETA: 0s - loss: 4.2162e-06 - mean_absolute_percentage_error: 10.2174 - mean_absolute_error: 5.0258e-04"
     ]
    },
    {
     "name": "stderr",
     "output_type": "stream",
     "text": [
      "WARNING:absl:Found untraced functions such as lstm_cell_layer_call_fn, lstm_cell_layer_call_and_return_conditional_losses, lstm_cell_1_layer_call_fn, lstm_cell_1_layer_call_and_return_conditional_losses while saving (showing 4 of 4). These functions will not be directly callable after loading.\n"
     ]
    },
    {
     "name": "stdout",
     "output_type": "stream",
     "text": [
      "INFO:tensorflow:Assets written to: models/RNN/11\\model\\assets\n"
     ]
    },
    {
     "name": "stderr",
     "output_type": "stream",
     "text": [
      "INFO:tensorflow:Assets written to: models/RNN/11\\model\\assets\n",
      "WARNING:absl:<keras.layers.recurrent.LSTMCell object at 0x000002752C2CB550> has the same name 'LSTMCell' as a built-in Keras object. Consider renaming <class 'keras.layers.recurrent.LSTMCell'> to avoid naming conflicts when loading with `tf.keras.models.load_model`. If renaming is not possible, pass the object in the `custom_objects` parameter of the load function.\n",
      "WARNING:absl:<keras.layers.recurrent.LSTMCell object at 0x000002752A01F0D0> has the same name 'LSTMCell' as a built-in Keras object. Consider renaming <class 'keras.layers.recurrent.LSTMCell'> to avoid naming conflicts when loading with `tf.keras.models.load_model`. If renaming is not possible, pass the object in the `custom_objects` parameter of the load function.\n"
     ]
    },
    {
     "name": "stdout",
     "output_type": "stream",
     "text": [
      "994/994 [==============================] - 950s 956ms/step - loss: 4.2162e-06 - mean_absolute_percentage_error: 10.2174 - mean_absolute_error: 5.0258e-04 - val_loss: 6.5571e-09 - val_mean_absolute_percentage_error: 0.6771 - val_mean_absolute_error: 3.4880e-05\n",
      "Epoch 60/100\n",
      "994/994 [==============================] - 946s 952ms/step - loss: 4.9183e-07 - mean_absolute_percentage_error: 4.6239 - mean_absolute_error: 1.9150e-04 - val_loss: 7.0419e-09 - val_mean_absolute_percentage_error: 0.6905 - val_mean_absolute_error: 3.5066e-05\n",
      "Epoch 61/100\n",
      "994/994 [==============================] - 948s 954ms/step - loss: 1.3600e-07 - mean_absolute_percentage_error: 8.8329 - mean_absolute_error: 1.7471e-04 - val_loss: 2.3815e-07 - val_mean_absolute_percentage_error: 19.7697 - val_mean_absolute_error: 3.9484e-04\n",
      "Epoch 62/100\n",
      "994/994 [==============================] - 948s 954ms/step - loss: 7.1153e-06 - mean_absolute_percentage_error: 31.5862 - mean_absolute_error: 7.7771e-04 - val_loss: 9.7673e-09 - val_mean_absolute_percentage_error: 1.2458 - val_mean_absolute_error: 4.6864e-05\n",
      "Epoch 63/100\n",
      "994/994 [==============================] - 948s 954ms/step - loss: 1.7222e-08 - mean_absolute_percentage_error: 2.4331 - mean_absolute_error: 6.4834e-05 - val_loss: 6.8841e-09 - val_mean_absolute_percentage_error: 0.7335 - val_mean_absolute_error: 3.5212e-05\n",
      "Epoch 64/100\n",
      "994/994 [==============================] - 938s 944ms/step - loss: 6.7043e-08 - mean_absolute_percentage_error: 7.5960 - mean_absolute_error: 1.4688e-04 - val_loss: 1.5497e-06 - val_mean_absolute_percentage_error: 80.2528 - val_mean_absolute_error: 0.0012\n",
      "Epoch 65/100\n",
      "994/994 [==============================] - 941s 947ms/step - loss: 1.2151e-06 - mean_absolute_percentage_error: 10.3611 - mean_absolute_error: 3.5586e-04 - val_loss: 6.6585e-09 - val_mean_absolute_percentage_error: 0.6177 - val_mean_absolute_error: 3.3170e-05\n",
      "Epoch 66/100\n",
      "994/994 [==============================] - 944s 950ms/step - loss: 1.3601e-07 - mean_absolute_percentage_error: 11.0142 - mean_absolute_error: 2.0771e-04 - val_loss: 4.2964e-08 - val_mean_absolute_percentage_error: 5.0778 - val_mean_absolute_error: 1.3087e-04\n",
      "Epoch 67/100\n",
      "994/994 [==============================] - 945s 951ms/step - loss: 8.7791e-06 - mean_absolute_percentage_error: 52.9293 - mean_absolute_error: 9.7257e-04 - val_loss: 9.5157e-09 - val_mean_absolute_percentage_error: 1.4430 - val_mean_absolute_error: 5.0360e-05\n",
      "Epoch 68/100\n",
      "994/994 [==============================] - ETA: 0s - loss: 2.3357e-08 - mean_absolute_percentage_error: 1.6970 - mean_absolute_error: 6.4290e-05"
     ]
    },
    {
     "name": "stderr",
     "output_type": "stream",
     "text": [
      "WARNING:absl:Found untraced functions such as lstm_cell_layer_call_fn, lstm_cell_layer_call_and_return_conditional_losses, lstm_cell_1_layer_call_fn, lstm_cell_1_layer_call_and_return_conditional_losses while saving (showing 4 of 4). These functions will not be directly callable after loading.\n"
     ]
    },
    {
     "name": "stdout",
     "output_type": "stream",
     "text": [
      "INFO:tensorflow:Assets written to: models/RNN/11\\model\\assets\n"
     ]
    },
    {
     "name": "stderr",
     "output_type": "stream",
     "text": [
      "INFO:tensorflow:Assets written to: models/RNN/11\\model\\assets\n",
      "WARNING:absl:<keras.layers.recurrent.LSTMCell object at 0x000002752C2CB550> has the same name 'LSTMCell' as a built-in Keras object. Consider renaming <class 'keras.layers.recurrent.LSTMCell'> to avoid naming conflicts when loading with `tf.keras.models.load_model`. If renaming is not possible, pass the object in the `custom_objects` parameter of the load function.\n",
      "WARNING:absl:<keras.layers.recurrent.LSTMCell object at 0x000002752A01F0D0> has the same name 'LSTMCell' as a built-in Keras object. Consider renaming <class 'keras.layers.recurrent.LSTMCell'> to avoid naming conflicts when loading with `tf.keras.models.load_model`. If renaming is not possible, pass the object in the `custom_objects` parameter of the load function.\n"
     ]
    },
    {
     "name": "stdout",
     "output_type": "stream",
     "text": [
      "994/994 [==============================] - 945s 951ms/step - loss: 2.3357e-08 - mean_absolute_percentage_error: 1.6970 - mean_absolute_error: 6.4290e-05 - val_loss: 6.1728e-09 - val_mean_absolute_percentage_error: 0.6967 - val_mean_absolute_error: 3.4381e-05\n",
      "Epoch 69/100\n",
      "994/994 [==============================] - 942s 948ms/step - loss: 5.2889e-08 - mean_absolute_percentage_error: 3.8884 - mean_absolute_error: 1.0977e-04 - val_loss: 3.3254e-08 - val_mean_absolute_percentage_error: 3.6345 - val_mean_absolute_error: 1.0815e-04\n",
      "Epoch 70/100\n",
      "994/994 [==============================] - ETA: 0s - loss: 6.9900e-07 - mean_absolute_percentage_error: 4.4978 - mean_absolute_error: 2.6531e-04"
     ]
    },
    {
     "name": "stderr",
     "output_type": "stream",
     "text": [
      "WARNING:absl:Found untraced functions such as lstm_cell_layer_call_fn, lstm_cell_layer_call_and_return_conditional_losses, lstm_cell_1_layer_call_fn, lstm_cell_1_layer_call_and_return_conditional_losses while saving (showing 4 of 4). These functions will not be directly callable after loading.\n"
     ]
    },
    {
     "name": "stdout",
     "output_type": "stream",
     "text": [
      "INFO:tensorflow:Assets written to: models/RNN/11\\model\\assets\n"
     ]
    },
    {
     "name": "stderr",
     "output_type": "stream",
     "text": [
      "INFO:tensorflow:Assets written to: models/RNN/11\\model\\assets\n",
      "WARNING:absl:<keras.layers.recurrent.LSTMCell object at 0x000002752C2CB550> has the same name 'LSTMCell' as a built-in Keras object. Consider renaming <class 'keras.layers.recurrent.LSTMCell'> to avoid naming conflicts when loading with `tf.keras.models.load_model`. If renaming is not possible, pass the object in the `custom_objects` parameter of the load function.\n",
      "WARNING:absl:<keras.layers.recurrent.LSTMCell object at 0x000002752A01F0D0> has the same name 'LSTMCell' as a built-in Keras object. Consider renaming <class 'keras.layers.recurrent.LSTMCell'> to avoid naming conflicts when loading with `tf.keras.models.load_model`. If renaming is not possible, pass the object in the `custom_objects` parameter of the load function.\n"
     ]
    },
    {
     "name": "stdout",
     "output_type": "stream",
     "text": [
      "994/994 [==============================] - 944s 950ms/step - loss: 6.9900e-07 - mean_absolute_percentage_error: 4.4978 - mean_absolute_error: 2.6531e-04 - val_loss: 6.1136e-09 - val_mean_absolute_percentage_error: 0.6304 - val_mean_absolute_error: 3.2208e-05\n",
      "Epoch 71/100\n",
      "994/994 [==============================] - 946s 952ms/step - loss: 9.1177e-07 - mean_absolute_percentage_error: 6.0676 - mean_absolute_error: 2.6552e-04 - val_loss: 7.3230e-09 - val_mean_absolute_percentage_error: 0.8179 - val_mean_absolute_error: 3.5353e-05\n",
      "Epoch 72/100\n",
      "994/994 [==============================] - 942s 948ms/step - loss: 3.5382e-07 - mean_absolute_percentage_error: 7.9523 - mean_absolute_error: 1.9914e-04 - val_loss: 6.3790e-09 - val_mean_absolute_percentage_error: 0.7167 - val_mean_absolute_error: 3.2029e-05\n",
      "Epoch 73/100\n",
      "994/994 [==============================] - ETA: 0s - loss: 1.4384e-06 - mean_absolute_percentage_error: 4.1878 - mean_absolute_error: 3.1682e-04"
     ]
    },
    {
     "name": "stderr",
     "output_type": "stream",
     "text": [
      "WARNING:absl:Found untraced functions such as lstm_cell_layer_call_fn, lstm_cell_layer_call_and_return_conditional_losses, lstm_cell_1_layer_call_fn, lstm_cell_1_layer_call_and_return_conditional_losses while saving (showing 4 of 4). These functions will not be directly callable after loading.\n"
     ]
    },
    {
     "name": "stdout",
     "output_type": "stream",
     "text": [
      "INFO:tensorflow:Assets written to: models/RNN/11\\model\\assets\n"
     ]
    },
    {
     "name": "stderr",
     "output_type": "stream",
     "text": [
      "INFO:tensorflow:Assets written to: models/RNN/11\\model\\assets\n",
      "WARNING:absl:<keras.layers.recurrent.LSTMCell object at 0x000002752C2CB550> has the same name 'LSTMCell' as a built-in Keras object. Consider renaming <class 'keras.layers.recurrent.LSTMCell'> to avoid naming conflicts when loading with `tf.keras.models.load_model`. If renaming is not possible, pass the object in the `custom_objects` parameter of the load function.\n",
      "WARNING:absl:<keras.layers.recurrent.LSTMCell object at 0x000002752A01F0D0> has the same name 'LSTMCell' as a built-in Keras object. Consider renaming <class 'keras.layers.recurrent.LSTMCell'> to avoid naming conflicts when loading with `tf.keras.models.load_model`. If renaming is not possible, pass the object in the `custom_objects` parameter of the load function.\n"
     ]
    },
    {
     "name": "stdout",
     "output_type": "stream",
     "text": [
      "994/994 [==============================] - 946s 952ms/step - loss: 1.4384e-06 - mean_absolute_percentage_error: 4.1878 - mean_absolute_error: 3.1682e-04 - val_loss: 4.7727e-09 - val_mean_absolute_percentage_error: 0.5944 - val_mean_absolute_error: 3.0529e-05\n",
      "Epoch 74/100\n",
      "994/994 [==============================] - 942s 948ms/step - loss: 1.3501e-07 - mean_absolute_percentage_error: 5.2782 - mean_absolute_error: 1.3981e-04 - val_loss: 5.3194e-09 - val_mean_absolute_percentage_error: 0.7133 - val_mean_absolute_error: 3.1536e-05\n",
      "Epoch 75/100\n",
      "994/994 [==============================] - ETA: 0s - loss: 1.3798e-06 - mean_absolute_percentage_error: 6.8070 - mean_absolute_error: 3.2295e-04"
     ]
    },
    {
     "name": "stderr",
     "output_type": "stream",
     "text": [
      "WARNING:absl:Found untraced functions such as lstm_cell_layer_call_fn, lstm_cell_layer_call_and_return_conditional_losses, lstm_cell_1_layer_call_fn, lstm_cell_1_layer_call_and_return_conditional_losses while saving (showing 4 of 4). These functions will not be directly callable after loading.\n"
     ]
    },
    {
     "name": "stdout",
     "output_type": "stream",
     "text": [
      "INFO:tensorflow:Assets written to: models/RNN/11\\model\\assets\n"
     ]
    },
    {
     "name": "stderr",
     "output_type": "stream",
     "text": [
      "INFO:tensorflow:Assets written to: models/RNN/11\\model\\assets\n",
      "WARNING:absl:<keras.layers.recurrent.LSTMCell object at 0x000002752C2CB550> has the same name 'LSTMCell' as a built-in Keras object. Consider renaming <class 'keras.layers.recurrent.LSTMCell'> to avoid naming conflicts when loading with `tf.keras.models.load_model`. If renaming is not possible, pass the object in the `custom_objects` parameter of the load function.\n",
      "WARNING:absl:<keras.layers.recurrent.LSTMCell object at 0x000002752A01F0D0> has the same name 'LSTMCell' as a built-in Keras object. Consider renaming <class 'keras.layers.recurrent.LSTMCell'> to avoid naming conflicts when loading with `tf.keras.models.load_model`. If renaming is not possible, pass the object in the `custom_objects` parameter of the load function.\n"
     ]
    },
    {
     "name": "stdout",
     "output_type": "stream",
     "text": [
      "994/994 [==============================] - 948s 954ms/step - loss: 1.3798e-06 - mean_absolute_percentage_error: 6.8070 - mean_absolute_error: 3.2295e-04 - val_loss: 4.7628e-09 - val_mean_absolute_percentage_error: 0.6480 - val_mean_absolute_error: 3.0858e-05\n",
      "Epoch 76/100\n",
      "994/994 [==============================] - 946s 952ms/step - loss: 1.1760e-07 - mean_absolute_percentage_error: 7.5125 - mean_absolute_error: 1.4689e-04 - val_loss: 4.8131e-08 - val_mean_absolute_percentage_error: 7.9349 - val_mean_absolute_error: 1.6690e-04\n",
      "Epoch 77/100\n",
      "994/994 [==============================] - 942s 948ms/step - loss: 1.9799e-06 - mean_absolute_percentage_error: 4.8939 - mean_absolute_error: 3.2543e-04 - val_loss: 4.8872e-09 - val_mean_absolute_percentage_error: 0.8305 - val_mean_absolute_error: 3.4001e-05\n",
      "Epoch 78/100\n",
      "994/994 [==============================] - 942s 948ms/step - loss: 6.4826e-08 - mean_absolute_percentage_error: 7.0444 - mean_absolute_error: 1.4770e-04 - val_loss: 2.9389e-08 - val_mean_absolute_percentage_error: 1.5864 - val_mean_absolute_error: 8.7177e-05\n",
      "Epoch 79/100\n",
      "994/994 [==============================] - 940s 946ms/step - loss: 8.3911e-07 - mean_absolute_percentage_error: 6.1623 - mean_absolute_error: 2.8076e-04 - val_loss: 6.0729e-09 - val_mean_absolute_percentage_error: 0.7420 - val_mean_absolute_error: 3.2810e-05\n",
      "Epoch 80/100\n",
      "994/994 [==============================] - 944s 950ms/step - loss: 3.3973e-07 - mean_absolute_percentage_error: 7.6142 - mean_absolute_error: 1.9361e-04 - val_loss: 5.5628e-09 - val_mean_absolute_percentage_error: 1.7079 - val_mean_absolute_error: 4.1397e-05\n",
      "Epoch 81/100\n",
      "994/994 [==============================] - ETA: 0s - loss: 1.5808e-06 - mean_absolute_percentage_error: 9.4880 - mean_absolute_error: 3.4127e-04"
     ]
    },
    {
     "name": "stderr",
     "output_type": "stream",
     "text": [
      "WARNING:absl:Found untraced functions such as lstm_cell_layer_call_fn, lstm_cell_layer_call_and_return_conditional_losses, lstm_cell_1_layer_call_fn, lstm_cell_1_layer_call_and_return_conditional_losses while saving (showing 4 of 4). These functions will not be directly callable after loading.\n"
     ]
    },
    {
     "name": "stdout",
     "output_type": "stream",
     "text": [
      "INFO:tensorflow:Assets written to: models/RNN/11\\model\\assets\n"
     ]
    },
    {
     "name": "stderr",
     "output_type": "stream",
     "text": [
      "INFO:tensorflow:Assets written to: models/RNN/11\\model\\assets\n",
      "WARNING:absl:<keras.layers.recurrent.LSTMCell object at 0x000002752C2CB550> has the same name 'LSTMCell' as a built-in Keras object. Consider renaming <class 'keras.layers.recurrent.LSTMCell'> to avoid naming conflicts when loading with `tf.keras.models.load_model`. If renaming is not possible, pass the object in the `custom_objects` parameter of the load function.\n",
      "WARNING:absl:<keras.layers.recurrent.LSTMCell object at 0x000002752A01F0D0> has the same name 'LSTMCell' as a built-in Keras object. Consider renaming <class 'keras.layers.recurrent.LSTMCell'> to avoid naming conflicts when loading with `tf.keras.models.load_model`. If renaming is not possible, pass the object in the `custom_objects` parameter of the load function.\n"
     ]
    },
    {
     "name": "stdout",
     "output_type": "stream",
     "text": [
      "994/994 [==============================] - 948s 954ms/step - loss: 1.5808e-06 - mean_absolute_percentage_error: 9.4880 - mean_absolute_error: 3.4127e-04 - val_loss: 4.5853e-09 - val_mean_absolute_percentage_error: 0.8494 - val_mean_absolute_error: 3.2315e-05\n",
      "Epoch 82/100\n",
      "994/994 [==============================] - 943s 949ms/step - loss: 6.7646e-08 - mean_absolute_percentage_error: 7.2550 - mean_absolute_error: 1.4052e-04 - val_loss: 5.9116e-08 - val_mean_absolute_percentage_error: 2.9237 - val_mean_absolute_error: 1.3184e-04\n",
      "Epoch 83/100\n",
      "994/994 [==============================] - ETA: 0s - loss: 1.1219e-06 - mean_absolute_percentage_error: 4.5029 - mean_absolute_error: 2.7100e-04"
     ]
    },
    {
     "name": "stderr",
     "output_type": "stream",
     "text": [
      "WARNING:absl:Found untraced functions such as lstm_cell_layer_call_fn, lstm_cell_layer_call_and_return_conditional_losses, lstm_cell_1_layer_call_fn, lstm_cell_1_layer_call_and_return_conditional_losses while saving (showing 4 of 4). These functions will not be directly callable after loading.\n"
     ]
    },
    {
     "name": "stdout",
     "output_type": "stream",
     "text": [
      "INFO:tensorflow:Assets written to: models/RNN/11\\model\\assets\n"
     ]
    },
    {
     "name": "stderr",
     "output_type": "stream",
     "text": [
      "INFO:tensorflow:Assets written to: models/RNN/11\\model\\assets\n",
      "WARNING:absl:<keras.layers.recurrent.LSTMCell object at 0x000002752C2CB550> has the same name 'LSTMCell' as a built-in Keras object. Consider renaming <class 'keras.layers.recurrent.LSTMCell'> to avoid naming conflicts when loading with `tf.keras.models.load_model`. If renaming is not possible, pass the object in the `custom_objects` parameter of the load function.\n",
      "WARNING:absl:<keras.layers.recurrent.LSTMCell object at 0x000002752A01F0D0> has the same name 'LSTMCell' as a built-in Keras object. Consider renaming <class 'keras.layers.recurrent.LSTMCell'> to avoid naming conflicts when loading with `tf.keras.models.load_model`. If renaming is not possible, pass the object in the `custom_objects` parameter of the load function.\n"
     ]
    },
    {
     "name": "stdout",
     "output_type": "stream",
     "text": [
      "994/994 [==============================] - 948s 954ms/step - loss: 1.1219e-06 - mean_absolute_percentage_error: 4.5029 - mean_absolute_error: 2.7100e-04 - val_loss: 4.3148e-09 - val_mean_absolute_percentage_error: 0.8780 - val_mean_absolute_error: 3.1758e-05\n",
      "Epoch 84/100\n",
      "994/994 [==============================] - 942s 948ms/step - loss: 9.1521e-08 - mean_absolute_percentage_error: 5.8562 - mean_absolute_error: 1.3433e-04 - val_loss: 7.2122e-09 - val_mean_absolute_percentage_error: 1.0771 - val_mean_absolute_error: 4.3610e-05\n",
      "Epoch 85/100\n",
      "994/994 [==============================] - ETA: 0s - loss: 1.3493e-06 - mean_absolute_percentage_error: 9.2791 - mean_absolute_error: 3.3421e-04"
     ]
    },
    {
     "name": "stderr",
     "output_type": "stream",
     "text": [
      "WARNING:absl:Found untraced functions such as lstm_cell_layer_call_fn, lstm_cell_layer_call_and_return_conditional_losses, lstm_cell_1_layer_call_fn, lstm_cell_1_layer_call_and_return_conditional_losses while saving (showing 4 of 4). These functions will not be directly callable after loading.\n"
     ]
    },
    {
     "name": "stdout",
     "output_type": "stream",
     "text": [
      "INFO:tensorflow:Assets written to: models/RNN/11\\model\\assets\n"
     ]
    },
    {
     "name": "stderr",
     "output_type": "stream",
     "text": [
      "INFO:tensorflow:Assets written to: models/RNN/11\\model\\assets\n",
      "WARNING:absl:<keras.layers.recurrent.LSTMCell object at 0x000002752C2CB550> has the same name 'LSTMCell' as a built-in Keras object. Consider renaming <class 'keras.layers.recurrent.LSTMCell'> to avoid naming conflicts when loading with `tf.keras.models.load_model`. If renaming is not possible, pass the object in the `custom_objects` parameter of the load function.\n",
      "WARNING:absl:<keras.layers.recurrent.LSTMCell object at 0x000002752A01F0D0> has the same name 'LSTMCell' as a built-in Keras object. Consider renaming <class 'keras.layers.recurrent.LSTMCell'> to avoid naming conflicts when loading with `tf.keras.models.load_model`. If renaming is not possible, pass the object in the `custom_objects` parameter of the load function.\n"
     ]
    },
    {
     "name": "stdout",
     "output_type": "stream",
     "text": [
      "994/994 [==============================] - 945s 951ms/step - loss: 1.3493e-06 - mean_absolute_percentage_error: 9.2791 - mean_absolute_error: 3.3421e-04 - val_loss: 4.1262e-09 - val_mean_absolute_percentage_error: 0.8100 - val_mean_absolute_error: 3.0905e-05\n",
      "Epoch 86/100\n",
      "994/994 [==============================] - 946s 951ms/step - loss: 6.8215e-08 - mean_absolute_percentage_error: 5.8062 - mean_absolute_error: 1.2386e-04 - val_loss: 9.5976e-08 - val_mean_absolute_percentage_error: 1.7893 - val_mean_absolute_error: 1.7137e-04\n",
      "Epoch 87/100\n",
      "994/994 [==============================] - ETA: 0s - loss: 2.3188e-06 - mean_absolute_percentage_error: 3.2760 - mean_absolute_error: 3.8768e-04"
     ]
    },
    {
     "name": "stderr",
     "output_type": "stream",
     "text": [
      "WARNING:absl:Found untraced functions such as lstm_cell_layer_call_fn, lstm_cell_layer_call_and_return_conditional_losses, lstm_cell_1_layer_call_fn, lstm_cell_1_layer_call_and_return_conditional_losses while saving (showing 4 of 4). These functions will not be directly callable after loading.\n"
     ]
    },
    {
     "name": "stdout",
     "output_type": "stream",
     "text": [
      "INFO:tensorflow:Assets written to: models/RNN/11\\model\\assets\n"
     ]
    },
    {
     "name": "stderr",
     "output_type": "stream",
     "text": [
      "INFO:tensorflow:Assets written to: models/RNN/11\\model\\assets\n",
      "WARNING:absl:<keras.layers.recurrent.LSTMCell object at 0x000002752C2CB550> has the same name 'LSTMCell' as a built-in Keras object. Consider renaming <class 'keras.layers.recurrent.LSTMCell'> to avoid naming conflicts when loading with `tf.keras.models.load_model`. If renaming is not possible, pass the object in the `custom_objects` parameter of the load function.\n",
      "WARNING:absl:<keras.layers.recurrent.LSTMCell object at 0x000002752A01F0D0> has the same name 'LSTMCell' as a built-in Keras object. Consider renaming <class 'keras.layers.recurrent.LSTMCell'> to avoid naming conflicts when loading with `tf.keras.models.load_model`. If renaming is not possible, pass the object in the `custom_objects` parameter of the load function.\n"
     ]
    },
    {
     "name": "stdout",
     "output_type": "stream",
     "text": [
      "994/994 [==============================] - 949s 955ms/step - loss: 2.3188e-06 - mean_absolute_percentage_error: 3.2760 - mean_absolute_error: 3.8768e-04 - val_loss: 4.0812e-09 - val_mean_absolute_percentage_error: 0.8768 - val_mean_absolute_error: 3.1977e-05\n",
      "Epoch 88/100\n",
      "994/994 [==============================] - 944s 950ms/step - loss: 4.0862e-08 - mean_absolute_percentage_error: 3.9100 - mean_absolute_error: 1.1779e-04 - val_loss: 2.6551e-08 - val_mean_absolute_percentage_error: 4.9725 - val_mean_absolute_error: 1.1317e-04\n",
      "Epoch 89/100\n",
      "994/994 [==============================] - ETA: 0s - loss: 4.7375e-07 - mean_absolute_percentage_error: 6.5690 - mean_absolute_error: 2.3326e-04"
     ]
    },
    {
     "name": "stderr",
     "output_type": "stream",
     "text": [
      "WARNING:absl:Found untraced functions such as lstm_cell_layer_call_fn, lstm_cell_layer_call_and_return_conditional_losses, lstm_cell_1_layer_call_fn, lstm_cell_1_layer_call_and_return_conditional_losses while saving (showing 4 of 4). These functions will not be directly callable after loading.\n"
     ]
    },
    {
     "name": "stdout",
     "output_type": "stream",
     "text": [
      "INFO:tensorflow:Assets written to: models/RNN/11\\model\\assets\n"
     ]
    },
    {
     "name": "stderr",
     "output_type": "stream",
     "text": [
      "INFO:tensorflow:Assets written to: models/RNN/11\\model\\assets\n",
      "WARNING:absl:<keras.layers.recurrent.LSTMCell object at 0x000002752C2CB550> has the same name 'LSTMCell' as a built-in Keras object. Consider renaming <class 'keras.layers.recurrent.LSTMCell'> to avoid naming conflicts when loading with `tf.keras.models.load_model`. If renaming is not possible, pass the object in the `custom_objects` parameter of the load function.\n",
      "WARNING:absl:<keras.layers.recurrent.LSTMCell object at 0x000002752A01F0D0> has the same name 'LSTMCell' as a built-in Keras object. Consider renaming <class 'keras.layers.recurrent.LSTMCell'> to avoid naming conflicts when loading with `tf.keras.models.load_model`. If renaming is not possible, pass the object in the `custom_objects` parameter of the load function.\n"
     ]
    },
    {
     "name": "stdout",
     "output_type": "stream",
     "text": [
      "994/994 [==============================] - 949s 955ms/step - loss: 4.7375e-07 - mean_absolute_percentage_error: 6.5690 - mean_absolute_error: 2.3326e-04 - val_loss: 3.6808e-09 - val_mean_absolute_percentage_error: 0.7506 - val_mean_absolute_error: 2.8119e-05\n",
      "Epoch 90/100\n",
      "994/994 [==============================] - 945s 951ms/step - loss: 8.1090e-07 - mean_absolute_percentage_error: 4.6984 - mean_absolute_error: 2.4305e-04 - val_loss: 4.3128e-09 - val_mean_absolute_percentage_error: 0.8834 - val_mean_absolute_error: 3.2446e-05\n",
      "Epoch 91/100\n",
      "994/994 [==============================] - 946s 952ms/step - loss: 1.8103e-07 - mean_absolute_percentage_error: 5.3603 - mean_absolute_error: 1.5485e-04 - val_loss: 4.2141e-09 - val_mean_absolute_percentage_error: 1.0189 - val_mean_absolute_error: 3.2560e-05\n",
      "Epoch 92/100\n",
      "994/994 [==============================] - 943s 949ms/step - loss: 3.0200e-06 - mean_absolute_percentage_error: 14.8140 - mean_absolute_error: 4.9603e-04 - val_loss: 8.0570e-09 - val_mean_absolute_percentage_error: 0.8541 - val_mean_absolute_error: 3.9781e-05\n",
      "Epoch 93/100\n",
      "994/994 [==============================] - 944s 950ms/step - loss: 1.7943e-08 - mean_absolute_percentage_error: 2.4699 - mean_absolute_error: 7.0014e-05 - val_loss: 4.2518e-09 - val_mean_absolute_percentage_error: 0.6624 - val_mean_absolute_error: 3.1365e-05\n",
      "Epoch 94/100\n",
      "994/994 [==============================] - ETA: 0s - loss: 1.2615e-07 - mean_absolute_percentage_error: 5.5451 - mean_absolute_error: 1.3555e-04"
     ]
    },
    {
     "name": "stderr",
     "output_type": "stream",
     "text": [
      "WARNING:absl:Found untraced functions such as lstm_cell_layer_call_fn, lstm_cell_layer_call_and_return_conditional_losses, lstm_cell_1_layer_call_fn, lstm_cell_1_layer_call_and_return_conditional_losses while saving (showing 4 of 4). These functions will not be directly callable after loading.\n"
     ]
    },
    {
     "name": "stdout",
     "output_type": "stream",
     "text": [
      "INFO:tensorflow:Assets written to: models/RNN/11\\model\\assets\n"
     ]
    },
    {
     "name": "stderr",
     "output_type": "stream",
     "text": [
      "INFO:tensorflow:Assets written to: models/RNN/11\\model\\assets\n",
      "WARNING:absl:<keras.layers.recurrent.LSTMCell object at 0x000002752C2CB550> has the same name 'LSTMCell' as a built-in Keras object. Consider renaming <class 'keras.layers.recurrent.LSTMCell'> to avoid naming conflicts when loading with `tf.keras.models.load_model`. If renaming is not possible, pass the object in the `custom_objects` parameter of the load function.\n",
      "WARNING:absl:<keras.layers.recurrent.LSTMCell object at 0x000002752A01F0D0> has the same name 'LSTMCell' as a built-in Keras object. Consider renaming <class 'keras.layers.recurrent.LSTMCell'> to avoid naming conflicts when loading with `tf.keras.models.load_model`. If renaming is not possible, pass the object in the `custom_objects` parameter of the load function.\n"
     ]
    },
    {
     "name": "stdout",
     "output_type": "stream",
     "text": [
      "994/994 [==============================] - 946s 952ms/step - loss: 1.2615e-07 - mean_absolute_percentage_error: 5.5451 - mean_absolute_error: 1.3555e-04 - val_loss: 3.0787e-09 - val_mean_absolute_percentage_error: 0.6170 - val_mean_absolute_error: 2.6814e-05\n",
      "Epoch 95/100\n",
      "994/994 [==============================] - 944s 950ms/step - loss: 6.4586e-06 - mean_absolute_percentage_error: 47.4742 - mean_absolute_error: 8.9301e-04 - val_loss: 6.9025e-09 - val_mean_absolute_percentage_error: 1.2242 - val_mean_absolute_error: 4.1974e-05\n",
      "Epoch 96/100\n",
      "994/994 [==============================] - 944s 950ms/step - loss: 1.2528e-08 - mean_absolute_percentage_error: 1.5027 - mean_absolute_error: 5.6056e-05 - val_loss: 3.4489e-09 - val_mean_absolute_percentage_error: 0.8212 - val_mean_absolute_error: 2.9902e-05\n",
      "Epoch 97/100\n",
      "994/994 [==============================] - 941s 947ms/step - loss: 5.5765e-08 - mean_absolute_percentage_error: 4.5304 - mean_absolute_error: 1.1768e-04 - val_loss: 1.9169e-08 - val_mean_absolute_percentage_error: 2.0314 - val_mean_absolute_error: 8.1220e-05\n",
      "Epoch 98/100\n",
      "994/994 [==============================] - ETA: 0s - loss: 3.8884e-07 - mean_absolute_percentage_error: 5.2733 - mean_absolute_error: 1.9415e-04"
     ]
    },
    {
     "name": "stderr",
     "output_type": "stream",
     "text": [
      "WARNING:absl:Found untraced functions such as lstm_cell_layer_call_fn, lstm_cell_layer_call_and_return_conditional_losses, lstm_cell_1_layer_call_fn, lstm_cell_1_layer_call_and_return_conditional_losses while saving (showing 4 of 4). These functions will not be directly callable after loading.\n"
     ]
    },
    {
     "name": "stdout",
     "output_type": "stream",
     "text": [
      "INFO:tensorflow:Assets written to: models/RNN/11\\model\\assets\n"
     ]
    },
    {
     "name": "stderr",
     "output_type": "stream",
     "text": [
      "INFO:tensorflow:Assets written to: models/RNN/11\\model\\assets\n",
      "WARNING:absl:<keras.layers.recurrent.LSTMCell object at 0x000002752C2CB550> has the same name 'LSTMCell' as a built-in Keras object. Consider renaming <class 'keras.layers.recurrent.LSTMCell'> to avoid naming conflicts when loading with `tf.keras.models.load_model`. If renaming is not possible, pass the object in the `custom_objects` parameter of the load function.\n",
      "WARNING:absl:<keras.layers.recurrent.LSTMCell object at 0x000002752A01F0D0> has the same name 'LSTMCell' as a built-in Keras object. Consider renaming <class 'keras.layers.recurrent.LSTMCell'> to avoid naming conflicts when loading with `tf.keras.models.load_model`. If renaming is not possible, pass the object in the `custom_objects` parameter of the load function.\n"
     ]
    },
    {
     "name": "stdout",
     "output_type": "stream",
     "text": [
      "994/994 [==============================] - 947s 953ms/step - loss: 3.8884e-07 - mean_absolute_percentage_error: 5.2733 - mean_absolute_error: 1.9415e-04 - val_loss: 3.0610e-09 - val_mean_absolute_percentage_error: 0.7974 - val_mean_absolute_error: 2.7893e-05\n",
      "Epoch 99/100\n",
      "994/994 [==============================] - 943s 948ms/step - loss: 5.9571e-07 - mean_absolute_percentage_error: 3.2911 - mean_absolute_error: 2.2663e-04 - val_loss: 4.4920e-09 - val_mean_absolute_percentage_error: 1.1658 - val_mean_absolute_error: 3.4598e-05\n",
      "Epoch 100/100\n",
      "994/994 [==============================] - 942s 948ms/step - loss: 6.9020e-07 - mean_absolute_percentage_error: 5.1532 - mean_absolute_error: 2.4264e-04 - val_loss: 4.8835e-09 - val_mean_absolute_percentage_error: 0.6178 - val_mean_absolute_error: 3.0137e-05\n"
     ]
    }
   ],
   "source": [
    "# Model training\n",
    "\n",
    "history = model.fit(Data.Val, epochs=100, validation_data=Data.Test, callbacks=[model_checkpoint_callback, tensorboard_callback])"
   ]
  },
  {
   "cell_type": "code",
   "execution_count": 46,
   "metadata": {},
   "outputs": [
    {
     "name": "stderr",
     "output_type": "stream",
     "text": [
      "WARNING:absl:Found untraced functions such as lstm_cell_10_layer_call_fn, lstm_cell_10_layer_call_and_return_conditional_losses, lstm_cell_11_layer_call_fn, lstm_cell_11_layer_call_and_return_conditional_losses while saving (showing 4 of 4). These functions will not be directly callable after loading.\n"
     ]
    },
    {
     "name": "stdout",
     "output_type": "stream",
     "text": [
      "INFO:tensorflow:Assets written to: models/RNN/05r/model\\assets\n"
     ]
    },
    {
     "name": "stderr",
     "output_type": "stream",
     "text": [
      "INFO:tensorflow:Assets written to: models/RNN/05r/model\\assets\n",
      "WARNING:absl:<keras.layers.recurrent.LSTMCell object at 0x00000102F97B74F0> has the same name 'LSTMCell' as a built-in Keras object. Consider renaming <class 'keras.layers.recurrent.LSTMCell'> to avoid naming conflicts when loading with `tf.keras.models.load_model`. If renaming is not possible, pass the object in the `custom_objects` parameter of the load function.\n",
      "WARNING:absl:<keras.layers.recurrent.LSTMCell object at 0x00000102F97B0640> has the same name 'LSTMCell' as a built-in Keras object. Consider renaming <class 'keras.layers.recurrent.LSTMCell'> to avoid naming conflicts when loading with `tf.keras.models.load_model`. If renaming is not possible, pass the object in the `custom_objects` parameter of the load function.\n"
     ]
    }
   ],
   "source": [
    "# Save model\n",
    "# Uncomment to save model\n",
    "\n",
    "model_save_dir = 'models/RNN/05r/model'\n",
    "\n",
    "model.save(model_save_dir)"
   ]
  },
  {
   "cell_type": "markdown",
   "metadata": {},
   "source": [
    "IMPORTING SAVED MODEL"
   ]
  },
  {
   "cell_type": "code",
   "execution_count": 16,
   "metadata": {},
   "outputs": [
    {
     "data": {
      "text/plain": [
       "<tensorflow.python.saved_model.load.Loader._recreate_base_user_object.<locals>._UserObject at 0x1f0eecf0130>"
      ]
     },
     "execution_count": 16,
     "metadata": {},
     "output_type": "execute_result"
    }
   ],
   "source": [
    "# Load model\n",
    "\n",
    "model_dir = \"models/AQUA_RUNS/05/model\"\n",
    "\n",
    "model = tf.keras.models.load_model(model_dir)\n",
    "\n",
    "model"
   ]
  },
  {
   "cell_type": "markdown",
   "metadata": {},
   "source": [
    "MODEL PERFORMANCE"
   ]
  },
  {
   "cell_type": "code",
   "execution_count": null,
   "metadata": {},
   "outputs": [],
   "source": [
    "# Evaluate model\n",
    "\n",
    "val_performance = model.evaluate(Data.Val)\n",
    "test_performance = model.evaluate(Data.Test)\n",
    "\n",
    "print('Validation MSE_loss: {:.2f}'.format(val_performance[0]))\n",
    "print('Validation MAPE:     {:.2f}'.format(val_performance[1]))\n",
    "print('Validation MAE:      {:.2f}'.format(val_performance[2]))\n",
    "print('Test MSE_loss:       {:.2f}'.format(test_performance[0]))\n",
    "print('Test MAPE:           {:.2f}'.format(test_performance[1]))\n",
    "print('Test MAE:            {:.2f}'.format(test_performance[2]))"
   ]
  },
  {
   "cell_type": "markdown",
   "metadata": {},
   "source": [
    "INFERENCE"
   ]
  },
  {
   "cell_type": "code",
   "execution_count": 17,
   "metadata": {},
   "outputs": [],
   "source": [
    "# Dataset generator\n",
    "n = 10\n",
    "m = 5\n",
    "hop = 0.5\n",
    "input_dim   = 30 * n\n",
    "pred_dim    = 30 * n\n",
    "shift       = pred_dim\n",
    "batch_size  = 16\n",
    "Data_inf        = DS(\n",
    "                input_dim, \n",
    "                pred_dim, \n",
    "                shift, \n",
    "                skip=0.25, \n",
    "                hop=hop, \n",
    "                batch_size=batch_size,\n",
    "                in_cols=['roll','heave','pitch','wave'],\n",
    "                out_cols=['roll','heave','pitch','wave']\n",
    "                )"
   ]
  },
  {
   "cell_type": "code",
   "execution_count": 28,
   "metadata": {},
   "outputs": [],
   "source": [
    "def ARModel_Inference(x, y, OUT_dim = pred_dim*4, model=model):\n",
    "    x, y = tf.cast(x, tf.float32), tf.cast(y, tf.float32)\n",
    "    inp1 = x\n",
    "    true_roll = y[:,:,0]\n",
    "    pred_roll = []\n",
    "    for i in range(OUT_dim):\n",
    "        wave = y[:,i:i+1,-1:]\n",
    "        INPUT = inp1\n",
    "        OUT = model(INPUT)\n",
    "        roll = tf.expand_dims(tf.cast(OUT, tf.float32), axis=1)\n",
    "        HPW = y[:,i:i+1,1:]\n",
    "        temp = tf.concat([roll, HPW], axis = -1)\n",
    "        inp1 = tf.concat([inp1[:,1:,:], temp], axis=1)\n",
    "        pred_roll.append(roll[:,:,0])\n",
    "\n",
    "    pred_roll = tf.squeeze(tf.stack(pred_roll, axis=1), [-1]) \n",
    "    return true_roll, pred_roll\n",
    "\n",
    "\n",
    "def get_inference(Data_inf, model=model, OUT_dim = pred_dim*4, save_dir=None):\n",
    "    true_roll = []\n",
    "    pred_roll = []\n",
    "    inputs = []\n",
    "    for x, y in Data_inf.take(2):\n",
    "        t_r, p_r = ARModel_Inference(x, y, OUT_dim = OUT_dim, model=model)\n",
    "        pred_roll.extend(p_r)\n",
    "        true_roll.extend(t_r)\n",
    "        inputs.extend(x)\n",
    "        \n",
    "    inputs = np.array(inputs)\n",
    "    true_roll = np.array(true_roll)\n",
    "    pred_roll = np.array(pred_roll)\n",
    "        \n",
    "    return inputs, true_roll, pred_roll\n",
    "    \n",
    "def save_inference(inputs, true_roll, pred_roll, save_dir):\n",
    "    \n",
    "    \n",
    "    if not os.path.isdir(save_dir):\n",
    "        os.mkdir(save_dir)\n",
    "        \n",
    "    inp_path = save_dir + '/inputs.csv'\n",
    "    true_path = save_dir + '/true_roll.csv'\n",
    "    pred_path = save_dir + '/pred_roll.csv'\n",
    "\n",
    "    np.savetxt(inp_path, inputs[:,:,0], delimiter =\", \")\n",
    "    np.savetxt(true_path, true_roll, delimiter =\", \")\n",
    "    np.savetxt(pred_path, pred_roll, delimiter =\", \")\n",
    "    \n",
    "def load_inference(folder):\n",
    "    inputs    = np.genfromtxt(folder + '/inputs.csv', delimiter=', ', skip_header=0)\n",
    "    true_roll = np.genfromtxt(folder + '/true_roll.csv', delimiter=', ', skip_header=0)\n",
    "    pred_roll = np.genfromtxt(folder + '/pred_roll.csv', delimiter=', ', skip_header=0)\n",
    "    \n",
    "    return inputs, true_roll, pred_roll\n"
   ]
  },
  {
   "cell_type": "code",
   "execution_count": 22,
   "metadata": {},
   "outputs": [],
   "source": [
    "val_dir = 'models/AQUA_RUNS/05/Val'\n",
    "test_dir = 'models/AQUA_RUNS/05/Test'"
   ]
  },
  {
   "cell_type": "code",
   "execution_count": 20,
   "metadata": {},
   "outputs": [
    {
     "ename": "AttributeError",
     "evalue": "'_UserObject' object has no attribute 'summary'",
     "output_type": "error",
     "traceback": [
      "\u001b[1;31m---------------------------------------------------------------------------\u001b[0m",
      "\u001b[1;31mAttributeError\u001b[0m                            Traceback (most recent call last)",
      "Input \u001b[1;32mIn [20]\u001b[0m, in \u001b[0;36m<module>\u001b[1;34m\u001b[0m\n\u001b[1;32m----> 1\u001b[0m \u001b[43mmodel\u001b[49m\u001b[38;5;241;43m.\u001b[39;49m\u001b[43msummary\u001b[49m()\n",
      "\u001b[1;31mAttributeError\u001b[0m: '_UserObject' object has no attribute 'summary'"
     ]
    }
   ],
   "source": [
    "model.summary()"
   ]
  },
  {
   "cell_type": "code",
   "execution_count": 29,
   "metadata": {},
   "outputs": [],
   "source": [
    "test_in, test_true, test_pred = get_inference(Data_inf.Test, save_dir=test_dir)\n",
    "val_in, val_true, val_pred = get_inference(Data_inf.Val, save_dir=val_dir)"
   ]
  },
  {
   "cell_type": "code",
   "execution_count": 39,
   "metadata": {},
   "outputs": [],
   "source": [
    "save_inference(val_in, val_true, val_pred, val_dir)\n",
    "save_inference(test_in, test_true, test_pred, test_dir)"
   ]
  },
  {
   "cell_type": "code",
   "execution_count": 57,
   "metadata": {},
   "outputs": [
    {
     "data": {
      "text/plain": [
       "(128, 1200)"
      ]
     },
     "execution_count": 57,
     "metadata": {},
     "output_type": "execute_result"
    }
   ],
   "source": [
    "val_pred.shape"
   ]
  },
  {
   "cell_type": "code",
   "execution_count": 30,
   "metadata": {},
   "outputs": [],
   "source": [
    "def plot_inference(inputs, true, pred, nos, cut=0.5, units='deg'):\n",
    "    n = inputs.shape[-1]\n",
    "    n_plots = len(nos)\n",
    "    cut_ind = int(n*cut)\n",
    "    \n",
    "    fac = 180/np.pi if units=='deg' else 1\n",
    "    \n",
    "    plt.figure(figsize=(18, n_plots*5))\n",
    "    \n",
    "    w1_end = inputs.shape[1]\n",
    "    w2_size = true.shape[-1]*cut_ind\n",
    "    t1 = np.array(range(0, w1_end))*0.25\n",
    "    t2 = np.array(range(w1_end, w1_end + cut_ind))*0.25\n",
    "    \n",
    "    for i, ind in enumerate(nos):\n",
    "        plt.subplot(n_plots, 1, i+1)\n",
    "        plt.plot(t1, inputs[ind]*fac, label='Input')\n",
    "        plt.plot(t2, true[ind,:cut_ind]*fac, label='True_roll')\n",
    "        plt.plot(t2, pred[ind,:cut_ind]*fac, label='Pred_roll')\n",
    "        plt.ylabel(f\"Roll angle ({units})\")\n",
    "        plt.legend()\n",
    "    plt.xlabel(\"Time (s)\")    \n",
    "    plt.show()      "
   ]
  },
  {
   "cell_type": "code",
   "execution_count": 36,
   "metadata": {},
   "outputs": [
    {
     "data": {
      "image/png": "[encoded data removed]",
      "text/plain": [
       "<Figure size 1296x360 with 1 Axes>"
      ]
     },
     "metadata": {
      "needs_background": "light"
     },
     "output_type": "display_data"
    }
   ],
   "source": [
    "plot_inference(test_in[:,:,0], test_true, test_pred, nos=[10], cut=1)"
   ]
  },
  {
   "cell_type": "code",
   "execution_count": 38,
   "metadata": {},
   "outputs": [
    {
     "data": {
      "image/png": "[encoded data removed]",
      "text/plain": [
       "<Figure size 1296x360 with 1 Axes>"
      ]
     },
     "metadata": {
      "needs_background": "light"
     },
     "output_type": "display_data"
    }
   ],
   "source": [
    "plot_inference(val_in[:,:,0], val_true, val_pred, nos=[0], cut=1)"
   ]
  },
  {
   "cell_type": "code",
   "execution_count": null,
   "metadata": {},
   "outputs": [],
   "source": []
  }
 ],
 "metadata": {
  "interpreter": {
   "hash": "c200e79e69ee85ae55c6336c5e814a93afe2e8f0b92a107a93399dcb16a13be9"
  },
  "kernelspec": {
   "display_name": "Python 3 (ipykernel)",
   "language": "python",
   "name": "python3"
  },
  "language_info": {
   "codemirror_mode": {
    "name": "ipython",
    "version": 3
   },
   "file_extension": ".py",
   "mimetype": "text/x-python",
   "name": "python",
   "nbconvert_exporter": "python",
   "pygments_lexer": "ipython3",
   "version": "3.8.10"
  }
 },
 "nbformat": 4,
 "nbformat_minor": 2
}
